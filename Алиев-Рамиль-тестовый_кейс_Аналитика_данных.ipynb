{
 "cells": [
  {
   "cell_type": "markdown",
   "id": "9b0d45ed",
   "metadata": {},
   "source": [
    "### Кейсовое задание ###\n",
    "### Исследование данных и поиск инсайтов (Data Analyst, Ml Engineer) в сфере науки и образования\n"
   ]
  },
  {
   "cell_type": "markdown",
   "id": "bb2162e3",
   "metadata": {},
   "source": [
    "## Data Fields ##\n",
    "•\tchildren — количество детей в семье\n",
    "\n",
    "•\tdays_employed — общий трудовой стаж в днях\n",
    "\n",
    "•\tdob_years — возраст клиента в годах\n",
    "\n",
    "•\teducation — уровень образования клиента\n",
    "\n",
    "•\teducation_id — идентификатор уровня образования\n",
    "\n",
    "•\tfamily_status — семейное положение\n",
    "\n",
    "•\tfamily_status_id — идентификатор семейного положения\n",
    "\n",
    "•\tgender — пол клиента\n",
    "\n",
    "•\tincome_type — тип занятости\n",
    "\n",
    "•\tdebt — имел ли задолженность по возврату кредитов\n",
    "\n",
    "•\ttotal_income — ежемесячный доход\n",
    "\n",
    "•\tpurpose — цель получения кредита\n"
   ]
  },
  {
   "cell_type": "markdown",
   "id": "7743a38c",
   "metadata": {},
   "source": [
    "## Подключение библиотек и скриптов ##"
   ]
  },
  {
   "cell_type": "code",
   "execution_count": 541,
   "id": "48bfae26",
   "metadata": {},
   "outputs": [],
   "source": [
    "import numpy as np\n",
    "import pandas as pd\n",
    "import matplotlib.pyplot as plt\n",
    "import seaborn as sns\n",
    "def reduce_mem_usage(df):\n",
    "    \"\"\" iterate through all the columns of a dataframe and modify the data type\n",
    "        to reduce memory usage.        \n",
    "    \"\"\"\n",
    "    start_mem = df.memory_usage().sum() / 1024**2\n",
    "    print('Memory usage of dataframe is {:.2f} MB'.format(start_mem))\n",
    "    for col in df.columns:\n",
    "        col_type = df[col].dtype\n",
    " \n",
    "        if col_type != object:\n",
    "            c_min = df[col].min()\n",
    "            c_max = df[col].max()\n",
    "            if str(col_type)[:3] == 'int':\n",
    "                if c_min > np.iinfo(np.int8).min and c_max < np.iinfo(np.int8).max:\n",
    "                    df[col] = df[col].astype(np.int8)\n",
    "                elif c_min > np.iinfo(np.int16).min and c_max < np.iinfo(np.int16).max:\n",
    "                    df[col] = df[col].astype(np.int16)\n",
    "                elif c_min > np.iinfo(np.int32).min and c_max < np.iinfo(np.int32).max:\n",
    "                    df[col] = df[col].astype(np.int32)\n",
    "                elif c_min > np.iinfo(np.int64).min and c_max < np.iinfo(np.int64).max:\n",
    "                    df[col] = df[col].astype(np.int64)  \n",
    "            else:\n",
    "                if c_min > np.finfo(np.float16).min and c_max < np.finfo(np.float16).max:\n",
    "                    df[col] = df[col].astype(np.float16)\n",
    "                elif c_min > np.finfo(np.float32).min and c_max < np.finfo(np.float32).max:\n",
    "                    df[col] = df[col].astype(np.float32)\n",
    "                else:\n",
    "                    df[col] = df[col].astype(np.float64)\n",
    "        else:\n",
    "            df[col] = df[col].astype('category')\n",
    " \n",
    "    end_mem = df.memory_usage().sum() / 1024**2\n",
    "    print('Memory usage after optimization is: {:.2f} MB'.format(end_mem))\n",
    "    print('Decreased by {:.1f}%'.format(100 * (start_mem - end_mem) / start_mem))\n",
    " \n",
    "    return df\n",
    "\n",
    "import warnings\n",
    "warnings.filterwarnings('ignore')\n",
    "%matplotlib inline"
   ]
  },
  {
   "cell_type": "markdown",
   "id": "f76626c9",
   "metadata": {},
   "source": [
    "## Пути к директориям и файлам ##"
   ]
  },
  {
   "cell_type": "code",
   "execution_count": 542,
   "id": "f988cd2c",
   "metadata": {},
   "outputs": [],
   "source": [
    "DATASET_PATH = './data.csv'\n",
    "data = pd.read_csv(DATASET_PATH)"
   ]
  },
  {
   "cell_type": "markdown",
   "id": "10cecbf9",
   "metadata": {},
   "source": [
    "## Ознакомление с датасетом и переменными ##"
   ]
  },
  {
   "cell_type": "code",
   "execution_count": 543,
   "id": "56cf9f36",
   "metadata": {},
   "outputs": [
    {
     "name": "stdout",
     "output_type": "stream",
     "text": [
      "Memory usage of dataframe is 1.97 MB\n",
      "Memory usage after optimization is: 0.37 MB\n",
      "Decreased by 81.1%\n"
     ]
    }
   ],
   "source": [
    "data = reduce_mem_usage(data) ##уменьшение размерности датасета"
   ]
  },
  {
   "cell_type": "code",
   "execution_count": 544,
   "id": "71e1692f",
   "metadata": {},
   "outputs": [
    {
     "name": "stdout",
     "output_type": "stream",
     "text": [
      "<class 'pandas.core.frame.DataFrame'>\n",
      "RangeIndex: 21525 entries, 0 to 21524\n",
      "Data columns (total 12 columns):\n",
      " #   Column            Non-Null Count  Dtype   \n",
      "---  ------            --------------  -----   \n",
      " 0   children          21525 non-null  int8    \n",
      " 1   days_employed     19351 non-null  float32 \n",
      " 2   dob_years         21525 non-null  int8    \n",
      " 3   education         21525 non-null  category\n",
      " 4   education_id      21525 non-null  int8    \n",
      " 5   family_status     21525 non-null  category\n",
      " 6   family_status_id  21525 non-null  int8    \n",
      " 7   gender            21525 non-null  category\n",
      " 8   income_type       21525 non-null  category\n",
      " 9   debt              21525 non-null  int8    \n",
      " 10  total_income      19351 non-null  float32 \n",
      " 11  purpose           21525 non-null  category\n",
      "dtypes: category(5), float32(2), int8(5)\n",
      "memory usage: 381.2 KB\n"
     ]
    }
   ],
   "source": [
    "data.info()"
   ]
  },
  {
   "cell_type": "code",
   "execution_count": 545,
   "id": "de21a46e",
   "metadata": {},
   "outputs": [
    {
     "data": {
      "text/html": [
       "<div>\n",
       "<style scoped>\n",
       "    .dataframe tbody tr th:only-of-type {\n",
       "        vertical-align: middle;\n",
       "    }\n",
       "\n",
       "    .dataframe tbody tr th {\n",
       "        vertical-align: top;\n",
       "    }\n",
       "\n",
       "    .dataframe thead th {\n",
       "        text-align: right;\n",
       "    }\n",
       "</style>\n",
       "<table border=\"1\" class=\"dataframe\">\n",
       "  <thead>\n",
       "    <tr style=\"text-align: right;\">\n",
       "      <th></th>\n",
       "      <th>children</th>\n",
       "      <th>days_employed</th>\n",
       "      <th>dob_years</th>\n",
       "      <th>education</th>\n",
       "      <th>education_id</th>\n",
       "      <th>family_status</th>\n",
       "      <th>family_status_id</th>\n",
       "      <th>gender</th>\n",
       "      <th>income_type</th>\n",
       "      <th>debt</th>\n",
       "      <th>total_income</th>\n",
       "      <th>purpose</th>\n",
       "    </tr>\n",
       "  </thead>\n",
       "  <tbody>\n",
       "    <tr>\n",
       "      <th>0</th>\n",
       "      <td>1</td>\n",
       "      <td>-8437.672852</td>\n",
       "      <td>42</td>\n",
       "      <td>высшее</td>\n",
       "      <td>0</td>\n",
       "      <td>женат / замужем</td>\n",
       "      <td>0</td>\n",
       "      <td>F</td>\n",
       "      <td>сотрудник</td>\n",
       "      <td>0</td>\n",
       "      <td>253875.640625</td>\n",
       "      <td>покупка жилья</td>\n",
       "    </tr>\n",
       "    <tr>\n",
       "      <th>1</th>\n",
       "      <td>1</td>\n",
       "      <td>-4024.803711</td>\n",
       "      <td>36</td>\n",
       "      <td>среднее</td>\n",
       "      <td>1</td>\n",
       "      <td>женат / замужем</td>\n",
       "      <td>0</td>\n",
       "      <td>F</td>\n",
       "      <td>сотрудник</td>\n",
       "      <td>0</td>\n",
       "      <td>112080.015625</td>\n",
       "      <td>приобретение автомобиля</td>\n",
       "    </tr>\n",
       "    <tr>\n",
       "      <th>2</th>\n",
       "      <td>0</td>\n",
       "      <td>-5623.422852</td>\n",
       "      <td>33</td>\n",
       "      <td>Среднее</td>\n",
       "      <td>1</td>\n",
       "      <td>женат / замужем</td>\n",
       "      <td>0</td>\n",
       "      <td>M</td>\n",
       "      <td>сотрудник</td>\n",
       "      <td>0</td>\n",
       "      <td>145885.953125</td>\n",
       "      <td>покупка жилья</td>\n",
       "    </tr>\n",
       "    <tr>\n",
       "      <th>3</th>\n",
       "      <td>3</td>\n",
       "      <td>-4124.747070</td>\n",
       "      <td>32</td>\n",
       "      <td>среднее</td>\n",
       "      <td>1</td>\n",
       "      <td>женат / замужем</td>\n",
       "      <td>0</td>\n",
       "      <td>M</td>\n",
       "      <td>сотрудник</td>\n",
       "      <td>0</td>\n",
       "      <td>267628.562500</td>\n",
       "      <td>дополнительное образование</td>\n",
       "    </tr>\n",
       "    <tr>\n",
       "      <th>4</th>\n",
       "      <td>0</td>\n",
       "      <td>340266.062500</td>\n",
       "      <td>53</td>\n",
       "      <td>среднее</td>\n",
       "      <td>1</td>\n",
       "      <td>гражданский брак</td>\n",
       "      <td>1</td>\n",
       "      <td>F</td>\n",
       "      <td>пенсионер</td>\n",
       "      <td>0</td>\n",
       "      <td>158616.078125</td>\n",
       "      <td>сыграть свадьбу</td>\n",
       "    </tr>\n",
       "    <tr>\n",
       "      <th>...</th>\n",
       "      <td>...</td>\n",
       "      <td>...</td>\n",
       "      <td>...</td>\n",
       "      <td>...</td>\n",
       "      <td>...</td>\n",
       "      <td>...</td>\n",
       "      <td>...</td>\n",
       "      <td>...</td>\n",
       "      <td>...</td>\n",
       "      <td>...</td>\n",
       "      <td>...</td>\n",
       "      <td>...</td>\n",
       "    </tr>\n",
       "    <tr>\n",
       "      <th>21520</th>\n",
       "      <td>1</td>\n",
       "      <td>-4529.316895</td>\n",
       "      <td>43</td>\n",
       "      <td>среднее</td>\n",
       "      <td>1</td>\n",
       "      <td>гражданский брак</td>\n",
       "      <td>1</td>\n",
       "      <td>F</td>\n",
       "      <td>компаньон</td>\n",
       "      <td>0</td>\n",
       "      <td>224791.859375</td>\n",
       "      <td>операции с жильем</td>\n",
       "    </tr>\n",
       "    <tr>\n",
       "      <th>21521</th>\n",
       "      <td>0</td>\n",
       "      <td>343937.406250</td>\n",
       "      <td>67</td>\n",
       "      <td>среднее</td>\n",
       "      <td>1</td>\n",
       "      <td>женат / замужем</td>\n",
       "      <td>0</td>\n",
       "      <td>F</td>\n",
       "      <td>пенсионер</td>\n",
       "      <td>0</td>\n",
       "      <td>155999.812500</td>\n",
       "      <td>сделка с автомобилем</td>\n",
       "    </tr>\n",
       "    <tr>\n",
       "      <th>21522</th>\n",
       "      <td>1</td>\n",
       "      <td>-2113.346924</td>\n",
       "      <td>38</td>\n",
       "      <td>среднее</td>\n",
       "      <td>1</td>\n",
       "      <td>гражданский брак</td>\n",
       "      <td>1</td>\n",
       "      <td>M</td>\n",
       "      <td>сотрудник</td>\n",
       "      <td>1</td>\n",
       "      <td>89672.562500</td>\n",
       "      <td>недвижимость</td>\n",
       "    </tr>\n",
       "    <tr>\n",
       "      <th>21523</th>\n",
       "      <td>3</td>\n",
       "      <td>-3112.481689</td>\n",
       "      <td>38</td>\n",
       "      <td>среднее</td>\n",
       "      <td>1</td>\n",
       "      <td>женат / замужем</td>\n",
       "      <td>0</td>\n",
       "      <td>M</td>\n",
       "      <td>сотрудник</td>\n",
       "      <td>1</td>\n",
       "      <td>244093.046875</td>\n",
       "      <td>на покупку своего автомобиля</td>\n",
       "    </tr>\n",
       "    <tr>\n",
       "      <th>21524</th>\n",
       "      <td>2</td>\n",
       "      <td>-1984.507568</td>\n",
       "      <td>40</td>\n",
       "      <td>среднее</td>\n",
       "      <td>1</td>\n",
       "      <td>женат / замужем</td>\n",
       "      <td>0</td>\n",
       "      <td>F</td>\n",
       "      <td>сотрудник</td>\n",
       "      <td>0</td>\n",
       "      <td>82047.421875</td>\n",
       "      <td>на покупку автомобиля</td>\n",
       "    </tr>\n",
       "  </tbody>\n",
       "</table>\n",
       "<p>21525 rows × 12 columns</p>\n",
       "</div>"
      ],
      "text/plain": [
       "       children  days_employed  dob_years education  education_id  \\\n",
       "0             1   -8437.672852         42    высшее             0   \n",
       "1             1   -4024.803711         36   среднее             1   \n",
       "2             0   -5623.422852         33   Среднее             1   \n",
       "3             3   -4124.747070         32   среднее             1   \n",
       "4             0  340266.062500         53   среднее             1   \n",
       "...         ...            ...        ...       ...           ...   \n",
       "21520         1   -4529.316895         43   среднее             1   \n",
       "21521         0  343937.406250         67   среднее             1   \n",
       "21522         1   -2113.346924         38   среднее             1   \n",
       "21523         3   -3112.481689         38   среднее             1   \n",
       "21524         2   -1984.507568         40   среднее             1   \n",
       "\n",
       "          family_status  family_status_id gender income_type  debt  \\\n",
       "0       женат / замужем                 0      F   сотрудник     0   \n",
       "1       женат / замужем                 0      F   сотрудник     0   \n",
       "2       женат / замужем                 0      M   сотрудник     0   \n",
       "3       женат / замужем                 0      M   сотрудник     0   \n",
       "4      гражданский брак                 1      F   пенсионер     0   \n",
       "...                 ...               ...    ...         ...   ...   \n",
       "21520  гражданский брак                 1      F   компаньон     0   \n",
       "21521   женат / замужем                 0      F   пенсионер     0   \n",
       "21522  гражданский брак                 1      M   сотрудник     1   \n",
       "21523   женат / замужем                 0      M   сотрудник     1   \n",
       "21524   женат / замужем                 0      F   сотрудник     0   \n",
       "\n",
       "        total_income                       purpose  \n",
       "0      253875.640625                 покупка жилья  \n",
       "1      112080.015625       приобретение автомобиля  \n",
       "2      145885.953125                 покупка жилья  \n",
       "3      267628.562500    дополнительное образование  \n",
       "4      158616.078125               сыграть свадьбу  \n",
       "...              ...                           ...  \n",
       "21520  224791.859375             операции с жильем  \n",
       "21521  155999.812500          сделка с автомобилем  \n",
       "21522   89672.562500                  недвижимость  \n",
       "21523  244093.046875  на покупку своего автомобиля  \n",
       "21524   82047.421875         на покупку автомобиля  \n",
       "\n",
       "[21525 rows x 12 columns]"
      ]
     },
     "execution_count": 545,
     "metadata": {},
     "output_type": "execute_result"
    }
   ],
   "source": [
    "data"
   ]
  },
  {
   "cell_type": "code",
   "execution_count": 546,
   "id": "fe1fcf04",
   "metadata": {
    "scrolled": true
   },
   "outputs": [
    {
     "data": {
      "text/html": [
       "<div>\n",
       "<style scoped>\n",
       "    .dataframe tbody tr th:only-of-type {\n",
       "        vertical-align: middle;\n",
       "    }\n",
       "\n",
       "    .dataframe tbody tr th {\n",
       "        vertical-align: top;\n",
       "    }\n",
       "\n",
       "    .dataframe thead th {\n",
       "        text-align: right;\n",
       "    }\n",
       "</style>\n",
       "<table border=\"1\" class=\"dataframe\">\n",
       "  <thead>\n",
       "    <tr style=\"text-align: right;\">\n",
       "      <th></th>\n",
       "      <th>children</th>\n",
       "      <th>days_employed</th>\n",
       "      <th>dob_years</th>\n",
       "      <th>education_id</th>\n",
       "      <th>family_status_id</th>\n",
       "      <th>debt</th>\n",
       "      <th>total_income</th>\n",
       "    </tr>\n",
       "  </thead>\n",
       "  <tbody>\n",
       "    <tr>\n",
       "      <th>count</th>\n",
       "      <td>21525.000000</td>\n",
       "      <td>19351.000000</td>\n",
       "      <td>21525.000000</td>\n",
       "      <td>21525.000000</td>\n",
       "      <td>21525.000000</td>\n",
       "      <td>21525.000000</td>\n",
       "      <td>1.935100e+04</td>\n",
       "    </tr>\n",
       "    <tr>\n",
       "      <th>mean</th>\n",
       "      <td>0.538908</td>\n",
       "      <td>63046.652344</td>\n",
       "      <td>43.293380</td>\n",
       "      <td>0.817236</td>\n",
       "      <td>0.972544</td>\n",
       "      <td>0.080883</td>\n",
       "      <td>1.674221e+05</td>\n",
       "    </tr>\n",
       "    <tr>\n",
       "      <th>std</th>\n",
       "      <td>1.381587</td>\n",
       "      <td>140827.046875</td>\n",
       "      <td>12.574584</td>\n",
       "      <td>0.548138</td>\n",
       "      <td>1.420324</td>\n",
       "      <td>0.272661</td>\n",
       "      <td>1.029714e+05</td>\n",
       "    </tr>\n",
       "    <tr>\n",
       "      <th>min</th>\n",
       "      <td>-1.000000</td>\n",
       "      <td>-18388.949219</td>\n",
       "      <td>0.000000</td>\n",
       "      <td>0.000000</td>\n",
       "      <td>0.000000</td>\n",
       "      <td>0.000000</td>\n",
       "      <td>2.066726e+04</td>\n",
       "    </tr>\n",
       "    <tr>\n",
       "      <th>25%</th>\n",
       "      <td>0.000000</td>\n",
       "      <td>-2747.423584</td>\n",
       "      <td>33.000000</td>\n",
       "      <td>1.000000</td>\n",
       "      <td>0.000000</td>\n",
       "      <td>0.000000</td>\n",
       "      <td>1.030532e+05</td>\n",
       "    </tr>\n",
       "    <tr>\n",
       "      <th>50%</th>\n",
       "      <td>0.000000</td>\n",
       "      <td>-1203.369507</td>\n",
       "      <td>42.000000</td>\n",
       "      <td>1.000000</td>\n",
       "      <td>0.000000</td>\n",
       "      <td>0.000000</td>\n",
       "      <td>1.450179e+05</td>\n",
       "    </tr>\n",
       "    <tr>\n",
       "      <th>75%</th>\n",
       "      <td>1.000000</td>\n",
       "      <td>-291.095947</td>\n",
       "      <td>53.000000</td>\n",
       "      <td>1.000000</td>\n",
       "      <td>1.000000</td>\n",
       "      <td>0.000000</td>\n",
       "      <td>2.034351e+05</td>\n",
       "    </tr>\n",
       "    <tr>\n",
       "      <th>max</th>\n",
       "      <td>20.000000</td>\n",
       "      <td>401755.406250</td>\n",
       "      <td>75.000000</td>\n",
       "      <td>4.000000</td>\n",
       "      <td>4.000000</td>\n",
       "      <td>1.000000</td>\n",
       "      <td>2.265604e+06</td>\n",
       "    </tr>\n",
       "  </tbody>\n",
       "</table>\n",
       "</div>"
      ],
      "text/plain": [
       "           children  days_employed     dob_years  education_id  \\\n",
       "count  21525.000000   19351.000000  21525.000000  21525.000000   \n",
       "mean       0.538908   63046.652344     43.293380      0.817236   \n",
       "std        1.381587  140827.046875     12.574584      0.548138   \n",
       "min       -1.000000  -18388.949219      0.000000      0.000000   \n",
       "25%        0.000000   -2747.423584     33.000000      1.000000   \n",
       "50%        0.000000   -1203.369507     42.000000      1.000000   \n",
       "75%        1.000000    -291.095947     53.000000      1.000000   \n",
       "max       20.000000  401755.406250     75.000000      4.000000   \n",
       "\n",
       "       family_status_id          debt  total_income  \n",
       "count      21525.000000  21525.000000  1.935100e+04  \n",
       "mean           0.972544      0.080883  1.674221e+05  \n",
       "std            1.420324      0.272661  1.029714e+05  \n",
       "min            0.000000      0.000000  2.066726e+04  \n",
       "25%            0.000000      0.000000  1.030532e+05  \n",
       "50%            0.000000      0.000000  1.450179e+05  \n",
       "75%            1.000000      0.000000  2.034351e+05  \n",
       "max            4.000000      1.000000  2.265604e+06  "
      ]
     },
     "execution_count": 546,
     "metadata": {},
     "output_type": "execute_result"
    }
   ],
   "source": [
    "data.describe()"
   ]
  },
  {
   "cell_type": "markdown",
   "id": "dd898d76",
   "metadata": {},
   "source": [
    "## Работа с признаками/переменными"
   ]
  },
  {
   "cell_type": "markdown",
   "id": "05c0089f",
   "metadata": {},
   "source": [
    "### Children ##"
   ]
  },
  {
   "cell_type": "code",
   "execution_count": 547,
   "id": "9348d959",
   "metadata": {},
   "outputs": [
    {
     "data": {
      "text/plain": [
       "dtype('int8')"
      ]
     },
     "execution_count": 547,
     "metadata": {},
     "output_type": "execute_result"
    }
   ],
   "source": [
    "data['children'].dtype"
   ]
  },
  {
   "cell_type": "code",
   "execution_count": 548,
   "id": "49533bba",
   "metadata": {
    "scrolled": true
   },
   "outputs": [
    {
     "data": {
      "text/plain": [
       " 0     14149\n",
       " 1      4818\n",
       " 2      2055\n",
       " 3       330\n",
       " 20       76\n",
       "-1        47\n",
       " 4        41\n",
       " 5         9\n",
       "Name: children, dtype: int64"
      ]
     },
     "execution_count": 548,
     "metadata": {},
     "output_type": "execute_result"
    }
   ],
   "source": [
    "data['children'].value_counts()"
   ]
  },
  {
   "cell_type": "code",
   "execution_count": 549,
   "id": "17ff0ed8",
   "metadata": {},
   "outputs": [
    {
     "data": {
      "text/plain": [
       "<AxesSubplot:title={'center':'Distribution of amount of children'}, xlabel='employers', ylabel='children'>"
      ]
     },
     "execution_count": 549,
     "metadata": {},
     "output_type": "execute_result"
    },
    {
     "data": {
      "image/png": "[encoded data removed]",
      "text/plain": [
       "<Figure size 1152x576 with 1 Axes>"
      ]
     },
     "metadata": {
      "needs_background": "light"
     },
     "output_type": "display_data"
    }
   ],
   "source": [
    "plt.figure(figsize=(16,8))\n",
    "plt.ylabel('children')\n",
    "plt.xlabel('employers')\n",
    "plt.title('Distribution of amount of children')\n",
    "data['children'].hist(bins=20,edgecolor='black')"
   ]
  },
  {
   "cell_type": "markdown",
   "id": "a58ffe85",
   "metadata": {},
   "source": [
    "*****Основной массив данных приходится на количество детей от 0 до 5. Количество детей, равное -1, является явной ошибкой, их,а также значения 20 имеет смысл обработать, как выбросы, заменив на моду (т.е. на ноль)*****"
   ]
  },
  {
   "cell_type": "code",
   "execution_count": 550,
   "id": "8a6ddbcc",
   "metadata": {},
   "outputs": [
    {
     "data": {
      "text/plain": [
       "0    14272\n",
       "1     4818\n",
       "2     2055\n",
       "3      330\n",
       "4       41\n",
       "5        9\n",
       "Name: children, dtype: int64"
      ]
     },
     "execution_count": 550,
     "metadata": {},
     "output_type": "execute_result"
    }
   ],
   "source": [
    "data.loc[(data['children'] < 0)|(data['children']>5),'children'] = 0\n",
    "data['children'].value_counts()"
   ]
  },
  {
   "cell_type": "code",
   "execution_count": 551,
   "id": "dd076e6f",
   "metadata": {},
   "outputs": [
    {
     "data": {
      "text/html": [
       "<div>\n",
       "<style scoped>\n",
       "    .dataframe tbody tr th:only-of-type {\n",
       "        vertical-align: middle;\n",
       "    }\n",
       "\n",
       "    .dataframe tbody tr th {\n",
       "        vertical-align: top;\n",
       "    }\n",
       "\n",
       "    .dataframe thead th {\n",
       "        text-align: right;\n",
       "    }\n",
       "</style>\n",
       "<table border=\"1\" class=\"dataframe\">\n",
       "  <thead>\n",
       "    <tr style=\"text-align: right;\">\n",
       "      <th></th>\n",
       "      <th>children</th>\n",
       "      <th>days_employed</th>\n",
       "      <th>dob_years</th>\n",
       "      <th>education_id</th>\n",
       "      <th>family_status_id</th>\n",
       "      <th>debt</th>\n",
       "      <th>total_income</th>\n",
       "    </tr>\n",
       "  </thead>\n",
       "  <tbody>\n",
       "    <tr>\n",
       "      <th>count</th>\n",
       "      <td>21525.000000</td>\n",
       "      <td>19351.000000</td>\n",
       "      <td>21525.000000</td>\n",
       "      <td>21525.000000</td>\n",
       "      <td>21525.000000</td>\n",
       "      <td>21525.000000</td>\n",
       "      <td>1.935100e+04</td>\n",
       "    </tr>\n",
       "    <tr>\n",
       "      <th>mean</th>\n",
       "      <td>0.470476</td>\n",
       "      <td>63046.652344</td>\n",
       "      <td>43.293380</td>\n",
       "      <td>0.817236</td>\n",
       "      <td>0.972544</td>\n",
       "      <td>0.080883</td>\n",
       "      <td>1.674221e+05</td>\n",
       "    </tr>\n",
       "    <tr>\n",
       "      <th>std</th>\n",
       "      <td>0.750534</td>\n",
       "      <td>140827.046875</td>\n",
       "      <td>12.574584</td>\n",
       "      <td>0.548138</td>\n",
       "      <td>1.420324</td>\n",
       "      <td>0.272661</td>\n",
       "      <td>1.029714e+05</td>\n",
       "    </tr>\n",
       "    <tr>\n",
       "      <th>min</th>\n",
       "      <td>0.000000</td>\n",
       "      <td>-18388.949219</td>\n",
       "      <td>0.000000</td>\n",
       "      <td>0.000000</td>\n",
       "      <td>0.000000</td>\n",
       "      <td>0.000000</td>\n",
       "      <td>2.066726e+04</td>\n",
       "    </tr>\n",
       "    <tr>\n",
       "      <th>25%</th>\n",
       "      <td>0.000000</td>\n",
       "      <td>-2747.423584</td>\n",
       "      <td>33.000000</td>\n",
       "      <td>1.000000</td>\n",
       "      <td>0.000000</td>\n",
       "      <td>0.000000</td>\n",
       "      <td>1.030532e+05</td>\n",
       "    </tr>\n",
       "    <tr>\n",
       "      <th>50%</th>\n",
       "      <td>0.000000</td>\n",
       "      <td>-1203.369507</td>\n",
       "      <td>42.000000</td>\n",
       "      <td>1.000000</td>\n",
       "      <td>0.000000</td>\n",
       "      <td>0.000000</td>\n",
       "      <td>1.450179e+05</td>\n",
       "    </tr>\n",
       "    <tr>\n",
       "      <th>75%</th>\n",
       "      <td>1.000000</td>\n",
       "      <td>-291.095947</td>\n",
       "      <td>53.000000</td>\n",
       "      <td>1.000000</td>\n",
       "      <td>1.000000</td>\n",
       "      <td>0.000000</td>\n",
       "      <td>2.034351e+05</td>\n",
       "    </tr>\n",
       "    <tr>\n",
       "      <th>max</th>\n",
       "      <td>5.000000</td>\n",
       "      <td>401755.406250</td>\n",
       "      <td>75.000000</td>\n",
       "      <td>4.000000</td>\n",
       "      <td>4.000000</td>\n",
       "      <td>1.000000</td>\n",
       "      <td>2.265604e+06</td>\n",
       "    </tr>\n",
       "  </tbody>\n",
       "</table>\n",
       "</div>"
      ],
      "text/plain": [
       "           children  days_employed     dob_years  education_id  \\\n",
       "count  21525.000000   19351.000000  21525.000000  21525.000000   \n",
       "mean       0.470476   63046.652344     43.293380      0.817236   \n",
       "std        0.750534  140827.046875     12.574584      0.548138   \n",
       "min        0.000000  -18388.949219      0.000000      0.000000   \n",
       "25%        0.000000   -2747.423584     33.000000      1.000000   \n",
       "50%        0.000000   -1203.369507     42.000000      1.000000   \n",
       "75%        1.000000    -291.095947     53.000000      1.000000   \n",
       "max        5.000000  401755.406250     75.000000      4.000000   \n",
       "\n",
       "       family_status_id          debt  total_income  \n",
       "count      21525.000000  21525.000000  1.935100e+04  \n",
       "mean           0.972544      0.080883  1.674221e+05  \n",
       "std            1.420324      0.272661  1.029714e+05  \n",
       "min            0.000000      0.000000  2.066726e+04  \n",
       "25%            0.000000      0.000000  1.030532e+05  \n",
       "50%            0.000000      0.000000  1.450179e+05  \n",
       "75%            1.000000      0.000000  2.034351e+05  \n",
       "max            4.000000      1.000000  2.265604e+06  "
      ]
     },
     "execution_count": 551,
     "metadata": {},
     "output_type": "execute_result"
    }
   ],
   "source": [
    "data.describe()"
   ]
  },
  {
   "cell_type": "markdown",
   "id": "434066cf",
   "metadata": {},
   "source": [
    "### DaysEmployed ###"
   ]
  },
  {
   "cell_type": "code",
   "execution_count": 552,
   "id": "cc7c5685",
   "metadata": {},
   "outputs": [
    {
     "data": {
      "text/plain": [
       "0         -8437.672852\n",
       "1         -4024.803711\n",
       "2         -5623.422852\n",
       "3         -4124.747070\n",
       "4        340266.062500\n",
       "             ...      \n",
       "21520     -4529.316895\n",
       "21521    343937.406250\n",
       "21522     -2113.346924\n",
       "21523     -3112.481689\n",
       "21524     -1984.507568\n",
       "Name: days_employed, Length: 21525, dtype: float32"
      ]
     },
     "execution_count": 552,
     "metadata": {},
     "output_type": "execute_result"
    }
   ],
   "source": [
    "data['days_employed']"
   ]
  },
  {
   "cell_type": "code",
   "execution_count": 553,
   "id": "6cf591cb",
   "metadata": {},
   "outputs": [
    {
     "data": {
      "text/plain": [
       "<AxesSubplot:title={'center':'Distribution of days_employment'}, xlabel='Employment time', ylabel='Number of employments'>"
      ]
     },
     "execution_count": 553,
     "metadata": {},
     "output_type": "execute_result"
    },
    {
     "data": {
      "image/png": "[encoded data removed]",
      "text/plain": [
       "<Figure size 1152x576 with 1 Axes>"
      ]
     },
     "metadata": {
      "needs_background": "light"
     },
     "output_type": "display_data"
    }
   ],
   "source": [
    "plt.figure(figsize=(16,8))\n",
    "plt.ylabel('Number of employments')\n",
    "plt.xlabel('Employment time')\n",
    "plt.title('Distribution of days_employment')\n",
    "data['days_employed'].hist(bins=20)"
   ]
  },
  {
   "cell_type": "markdown",
   "id": "f682e875",
   "metadata": {},
   "source": [
    "***Наблюдается неадекватное распределение признака, что вероятно связано с большим количеством пропусков/выбросов, а также с наличием отрицательныйх значений***"
   ]
  },
  {
   "cell_type": "code",
   "execution_count": 554,
   "id": "180508aa",
   "metadata": {},
   "outputs": [
    {
     "data": {
      "text/plain": [
       "0       -8437.672852\n",
       "1       -4024.803711\n",
       "2       -5623.422852\n",
       "3       -4124.747070\n",
       "5        -926.185852\n",
       "            ...     \n",
       "21519   -2351.431885\n",
       "21520   -4529.316895\n",
       "21522   -2113.346924\n",
       "21523   -3112.481689\n",
       "21524   -1984.507568\n",
       "Name: days_employed, Length: 15906, dtype: float32"
      ]
     },
     "execution_count": 554,
     "metadata": {},
     "output_type": "execute_result"
    }
   ],
   "source": [
    "data.loc[(data['days_employed']<0),'days_employed'] ### Наблюдаем 15 906 отрицательных значений"
   ]
  },
  {
   "cell_type": "code",
   "execution_count": 555,
   "id": "c32cbbaa",
   "metadata": {},
   "outputs": [],
   "source": [
    "data.loc[(data['days_employed']<0),'days_employed'] *= -1 ### преобразуем к положительным"
   ]
  },
  {
   "cell_type": "markdown",
   "id": "7baac054",
   "metadata": {},
   "source": [
    "***Еще на этапе ознакомления с датасетом было выявлено большое количество пропусков в данном признаке. Их требуется обработать***"
   ]
  },
  {
   "cell_type": "code",
   "execution_count": 556,
   "id": "be57effe",
   "metadata": {},
   "outputs": [
    {
     "data": {
      "text/plain": [
       "2174"
      ]
     },
     "execution_count": 556,
     "metadata": {},
     "output_type": "execute_result"
    }
   ],
   "source": [
    "data['days_employed'].isna().sum() #2174 пропуск"
   ]
  },
  {
   "cell_type": "code",
   "execution_count": 557,
   "id": "d4faf43a",
   "metadata": {},
   "outputs": [],
   "source": [
    "data.loc[data['days_employed'].isnull()==True,'days_employed'] = data['days_employed'].median() #Учитывая признак и характер его распредления имеет смысл заменить пропуски на медиану"
   ]
  },
  {
   "cell_type": "markdown",
   "id": "292fcc60",
   "metadata": {},
   "source": [
    "***Оценить количество выбросов можно с помощью построения боксплотов***"
   ]
  },
  {
   "cell_type": "code",
   "execution_count": 558,
   "id": "17a4fc67",
   "metadata": {},
   "outputs": [
    {
     "data": {
      "text/plain": [
       "<AxesSubplot:xlabel='days_employed'>"
      ]
     },
     "execution_count": 558,
     "metadata": {},
     "output_type": "execute_result"
    },
    {
     "data": {
      "image/png": "[encoded data removed]",
      "text/plain": [
       "<Figure size 1296x360 with 1 Axes>"
      ]
     },
     "metadata": {
      "needs_background": "light"
     },
     "output_type": "display_data"
    }
   ],
   "source": [
    "plt.figure(figsize=(18,5))\n",
    "plt.xlabel('Employment time')\n",
    "sns.boxplot(data['days_employed'], whis=1.5)"
   ]
  },
  {
   "cell_type": "markdown",
   "id": "c3c63a59",
   "metadata": {},
   "source": [
    "***Судя по боксплотам при обработке выбросов в данных показателях имеет смысл воспользоваться межквартильным размахом и заменой на медиану***"
   ]
  },
  {
   "cell_type": "code",
   "execution_count": 559,
   "id": "ce2ab222",
   "metadata": {},
   "outputs": [
    {
     "data": {
      "text/html": [
       "<div>\n",
       "<style scoped>\n",
       "    .dataframe tbody tr th:only-of-type {\n",
       "        vertical-align: middle;\n",
       "    }\n",
       "\n",
       "    .dataframe tbody tr th {\n",
       "        vertical-align: top;\n",
       "    }\n",
       "\n",
       "    .dataframe thead th {\n",
       "        text-align: right;\n",
       "    }\n",
       "</style>\n",
       "<table border=\"1\" class=\"dataframe\">\n",
       "  <thead>\n",
       "    <tr style=\"text-align: right;\">\n",
       "      <th></th>\n",
       "      <th>children</th>\n",
       "      <th>days_employed</th>\n",
       "      <th>dob_years</th>\n",
       "      <th>education_id</th>\n",
       "      <th>family_status_id</th>\n",
       "      <th>debt</th>\n",
       "      <th>total_income</th>\n",
       "    </tr>\n",
       "  </thead>\n",
       "  <tbody>\n",
       "    <tr>\n",
       "      <th>count</th>\n",
       "      <td>21525.000000</td>\n",
       "      <td>21525.000000</td>\n",
       "      <td>21525.000000</td>\n",
       "      <td>21525.000000</td>\n",
       "      <td>21525.000000</td>\n",
       "      <td>21525.000000</td>\n",
       "      <td>1.935100e+04</td>\n",
       "    </tr>\n",
       "    <tr>\n",
       "      <th>mean</th>\n",
       "      <td>0.470476</td>\n",
       "      <td>60377.238281</td>\n",
       "      <td>43.293380</td>\n",
       "      <td>0.817236</td>\n",
       "      <td>0.972544</td>\n",
       "      <td>0.080883</td>\n",
       "      <td>1.674221e+05</td>\n",
       "    </tr>\n",
       "    <tr>\n",
       "      <th>std</th>\n",
       "      <td>0.750534</td>\n",
       "      <td>133258.687500</td>\n",
       "      <td>12.574584</td>\n",
       "      <td>0.548138</td>\n",
       "      <td>1.420324</td>\n",
       "      <td>0.272661</td>\n",
       "      <td>1.029714e+05</td>\n",
       "    </tr>\n",
       "    <tr>\n",
       "      <th>min</th>\n",
       "      <td>0.000000</td>\n",
       "      <td>24.141634</td>\n",
       "      <td>0.000000</td>\n",
       "      <td>0.000000</td>\n",
       "      <td>0.000000</td>\n",
       "      <td>0.000000</td>\n",
       "      <td>2.066726e+04</td>\n",
       "    </tr>\n",
       "    <tr>\n",
       "      <th>25%</th>\n",
       "      <td>0.000000</td>\n",
       "      <td>1025.608154</td>\n",
       "      <td>33.000000</td>\n",
       "      <td>1.000000</td>\n",
       "      <td>0.000000</td>\n",
       "      <td>0.000000</td>\n",
       "      <td>1.030532e+05</td>\n",
       "    </tr>\n",
       "    <tr>\n",
       "      <th>50%</th>\n",
       "      <td>0.000000</td>\n",
       "      <td>2194.220459</td>\n",
       "      <td>42.000000</td>\n",
       "      <td>1.000000</td>\n",
       "      <td>0.000000</td>\n",
       "      <td>0.000000</td>\n",
       "      <td>1.450179e+05</td>\n",
       "    </tr>\n",
       "    <tr>\n",
       "      <th>75%</th>\n",
       "      <td>1.000000</td>\n",
       "      <td>4779.587891</td>\n",
       "      <td>53.000000</td>\n",
       "      <td>1.000000</td>\n",
       "      <td>1.000000</td>\n",
       "      <td>0.000000</td>\n",
       "      <td>2.034351e+05</td>\n",
       "    </tr>\n",
       "    <tr>\n",
       "      <th>max</th>\n",
       "      <td>5.000000</td>\n",
       "      <td>401755.406250</td>\n",
       "      <td>75.000000</td>\n",
       "      <td>4.000000</td>\n",
       "      <td>4.000000</td>\n",
       "      <td>1.000000</td>\n",
       "      <td>2.265604e+06</td>\n",
       "    </tr>\n",
       "  </tbody>\n",
       "</table>\n",
       "</div>"
      ],
      "text/plain": [
       "           children  days_employed     dob_years  education_id  \\\n",
       "count  21525.000000   21525.000000  21525.000000  21525.000000   \n",
       "mean       0.470476   60377.238281     43.293380      0.817236   \n",
       "std        0.750534  133258.687500     12.574584      0.548138   \n",
       "min        0.000000      24.141634      0.000000      0.000000   \n",
       "25%        0.000000    1025.608154     33.000000      1.000000   \n",
       "50%        0.000000    2194.220459     42.000000      1.000000   \n",
       "75%        1.000000    4779.587891     53.000000      1.000000   \n",
       "max        5.000000  401755.406250     75.000000      4.000000   \n",
       "\n",
       "       family_status_id          debt  total_income  \n",
       "count      21525.000000  21525.000000  1.935100e+04  \n",
       "mean           0.972544      0.080883  1.674221e+05  \n",
       "std            1.420324      0.272661  1.029714e+05  \n",
       "min            0.000000      0.000000  2.066726e+04  \n",
       "25%            0.000000      0.000000  1.030532e+05  \n",
       "50%            0.000000      0.000000  1.450179e+05  \n",
       "75%            1.000000      0.000000  2.034351e+05  \n",
       "max            4.000000      1.000000  2.265604e+06  "
      ]
     },
     "execution_count": 559,
     "metadata": {},
     "output_type": "execute_result"
    }
   ],
   "source": [
    "data.describe()"
   ]
  },
  {
   "cell_type": "code",
   "execution_count": 560,
   "id": "cd589beb",
   "metadata": {
    "scrolled": true
   },
   "outputs": [],
   "source": [
    "days_employed_q_80 = np.quantile(data['days_employed'], q=0.8)\n",
    "days_employed_q_025 = np.quantile(data['days_employed'], q=0.025)\n",
    "days_employed_median = data['days_employed'].median()\n",
    "data.loc[(data['days_employed']>days_employed_q_80)|(data['days_employed']<days_employed_q_025),'days_employed'] = days_employed_median"
   ]
  },
  {
   "cell_type": "code",
   "execution_count": 561,
   "id": "93ba33c8",
   "metadata": {},
   "outputs": [
    {
     "data": {
      "text/plain": [
       "7010.235449218751"
      ]
     },
     "execution_count": 561,
     "metadata": {},
     "output_type": "execute_result"
    }
   ],
   "source": [
    "days_employed_q_80"
   ]
  },
  {
   "cell_type": "code",
   "execution_count": 562,
   "id": "521a5f39",
   "metadata": {
    "scrolled": true
   },
   "outputs": [
    {
     "data": {
      "text/plain": [
       "<AxesSubplot:xlabel='days_employed'>"
      ]
     },
     "execution_count": 562,
     "metadata": {},
     "output_type": "execute_result"
    },
    {
     "data": {
      "image/png": "[encoded data removed]",
      "text/plain": [
       "<Figure size 1296x360 with 1 Axes>"
      ]
     },
     "metadata": {
      "needs_background": "light"
     },
     "output_type": "display_data"
    }
   ],
   "source": [
    "plt.figure(figsize=(18,5))\n",
    "plt.xlabel('Employment time')\n",
    "sns.boxplot(data['days_employed'], whis=1.5)"
   ]
  },
  {
   "cell_type": "code",
   "execution_count": 563,
   "id": "1d888e8b",
   "metadata": {
    "scrolled": true
   },
   "outputs": [
    {
     "data": {
      "text/plain": [
       "<AxesSubplot:title={'center':'Distribution of days_employment'}, xlabel='Employment time', ylabel='Number of employments'>"
      ]
     },
     "execution_count": 563,
     "metadata": {},
     "output_type": "execute_result"
    },
    {
     "data": {
      "image/png": "[encoded data removed]",
      "text/plain": [
       "<Figure size 1152x576 with 1 Axes>"
      ]
     },
     "metadata": {
      "needs_background": "light"
     },
     "output_type": "display_data"
    }
   ],
   "source": [
    "plt.figure(figsize=(16,8))\n",
    "plt.ylabel('Number of employments')\n",
    "plt.xlabel('Employment time')\n",
    "plt.title('Distribution of days_employment')\n",
    "data['days_employed'].hist(bins=20)"
   ]
  },
  {
   "cell_type": "markdown",
   "id": "5faa9420",
   "metadata": {},
   "source": [
    "### Dob_years ###"
   ]
  },
  {
   "cell_type": "code",
   "execution_count": 564,
   "id": "e32b389d",
   "metadata": {},
   "outputs": [
    {
     "data": {
      "text/plain": [
       "array([ 0, 19, 20, 21, 22, 23, 24, 25, 26, 27, 28, 29, 30, 31, 32, 33, 34,\n",
       "       35, 36, 37, 38, 39, 40, 41, 42, 43, 44, 45, 46, 47, 48, 49, 50, 51,\n",
       "       52, 53, 54, 55, 56, 57, 58, 59, 60, 61, 62, 63, 64, 65, 66, 67, 68,\n",
       "       69, 70, 71, 72, 73, 74, 75], dtype=int8)"
      ]
     },
     "execution_count": 564,
     "metadata": {},
     "output_type": "execute_result"
    }
   ],
   "source": [
    "data['dob_years'].sort_values().unique()"
   ]
  },
  {
   "cell_type": "code",
   "execution_count": 565,
   "id": "38df4dca",
   "metadata": {},
   "outputs": [
    {
     "data": {
      "text/plain": [
       "0"
      ]
     },
     "execution_count": 565,
     "metadata": {},
     "output_type": "execute_result"
    }
   ],
   "source": [
    "data['dob_years'].isna().sum()"
   ]
  },
  {
   "cell_type": "markdown",
   "id": "30e09898",
   "metadata": {},
   "source": [
    "***Нулевых значений для возраста не может быть***"
   ]
  },
  {
   "cell_type": "code",
   "execution_count": 566,
   "id": "4e0c55db",
   "metadata": {},
   "outputs": [
    {
     "data": {
      "text/plain": [
       "101"
      ]
     },
     "execution_count": 566,
     "metadata": {},
     "output_type": "execute_result"
    }
   ],
   "source": [
    "data.loc[data['dob_years']==0,'dob_years'].shape[0] # Таких значений 101"
   ]
  },
  {
   "cell_type": "markdown",
   "id": "fbb671cc",
   "metadata": {},
   "source": [
    "***Приравняем данные значения к моде***"
   ]
  },
  {
   "cell_type": "code",
   "execution_count": 567,
   "id": "095a9b6d",
   "metadata": {},
   "outputs": [],
   "source": [
    "dob_years_mode = data['dob_years'].mode()[0]"
   ]
  },
  {
   "cell_type": "code",
   "execution_count": 568,
   "id": "ab8ef916",
   "metadata": {},
   "outputs": [
    {
     "data": {
      "text/html": [
       "<div>\n",
       "<style scoped>\n",
       "    .dataframe tbody tr th:only-of-type {\n",
       "        vertical-align: middle;\n",
       "    }\n",
       "\n",
       "    .dataframe tbody tr th {\n",
       "        vertical-align: top;\n",
       "    }\n",
       "\n",
       "    .dataframe thead th {\n",
       "        text-align: right;\n",
       "    }\n",
       "</style>\n",
       "<table border=\"1\" class=\"dataframe\">\n",
       "  <thead>\n",
       "    <tr style=\"text-align: right;\">\n",
       "      <th></th>\n",
       "      <th>children</th>\n",
       "      <th>days_employed</th>\n",
       "      <th>dob_years</th>\n",
       "      <th>education_id</th>\n",
       "      <th>family_status_id</th>\n",
       "      <th>debt</th>\n",
       "      <th>total_income</th>\n",
       "    </tr>\n",
       "  </thead>\n",
       "  <tbody>\n",
       "    <tr>\n",
       "      <th>count</th>\n",
       "      <td>21525.000000</td>\n",
       "      <td>21525.000000</td>\n",
       "      <td>21525.000000</td>\n",
       "      <td>21525.000000</td>\n",
       "      <td>21525.000000</td>\n",
       "      <td>21525.000000</td>\n",
       "      <td>1.935100e+04</td>\n",
       "    </tr>\n",
       "    <tr>\n",
       "      <th>mean</th>\n",
       "      <td>0.470476</td>\n",
       "      <td>2078.340820</td>\n",
       "      <td>43.457607</td>\n",
       "      <td>0.817236</td>\n",
       "      <td>0.972544</td>\n",
       "      <td>0.080883</td>\n",
       "      <td>1.674221e+05</td>\n",
       "    </tr>\n",
       "    <tr>\n",
       "      <th>std</th>\n",
       "      <td>0.750534</td>\n",
       "      <td>1274.676514</td>\n",
       "      <td>12.231959</td>\n",
       "      <td>0.548138</td>\n",
       "      <td>1.420324</td>\n",
       "      <td>0.272661</td>\n",
       "      <td>1.029714e+05</td>\n",
       "    </tr>\n",
       "    <tr>\n",
       "      <th>min</th>\n",
       "      <td>0.000000</td>\n",
       "      <td>171.423920</td>\n",
       "      <td>19.000000</td>\n",
       "      <td>0.000000</td>\n",
       "      <td>0.000000</td>\n",
       "      <td>0.000000</td>\n",
       "      <td>2.066726e+04</td>\n",
       "    </tr>\n",
       "    <tr>\n",
       "      <th>25%</th>\n",
       "      <td>0.000000</td>\n",
       "      <td>1138.059082</td>\n",
       "      <td>34.000000</td>\n",
       "      <td>1.000000</td>\n",
       "      <td>0.000000</td>\n",
       "      <td>0.000000</td>\n",
       "      <td>1.030532e+05</td>\n",
       "    </tr>\n",
       "    <tr>\n",
       "      <th>50%</th>\n",
       "      <td>0.000000</td>\n",
       "      <td>2194.220459</td>\n",
       "      <td>42.000000</td>\n",
       "      <td>1.000000</td>\n",
       "      <td>0.000000</td>\n",
       "      <td>0.000000</td>\n",
       "      <td>1.450179e+05</td>\n",
       "    </tr>\n",
       "    <tr>\n",
       "      <th>75%</th>\n",
       "      <td>1.000000</td>\n",
       "      <td>2194.220459</td>\n",
       "      <td>53.000000</td>\n",
       "      <td>1.000000</td>\n",
       "      <td>1.000000</td>\n",
       "      <td>0.000000</td>\n",
       "      <td>2.034351e+05</td>\n",
       "    </tr>\n",
       "    <tr>\n",
       "      <th>max</th>\n",
       "      <td>5.000000</td>\n",
       "      <td>7010.022461</td>\n",
       "      <td>75.000000</td>\n",
       "      <td>4.000000</td>\n",
       "      <td>4.000000</td>\n",
       "      <td>1.000000</td>\n",
       "      <td>2.265604e+06</td>\n",
       "    </tr>\n",
       "  </tbody>\n",
       "</table>\n",
       "</div>"
      ],
      "text/plain": [
       "           children  days_employed     dob_years  education_id  \\\n",
       "count  21525.000000   21525.000000  21525.000000  21525.000000   \n",
       "mean       0.470476    2078.340820     43.457607      0.817236   \n",
       "std        0.750534    1274.676514     12.231959      0.548138   \n",
       "min        0.000000     171.423920     19.000000      0.000000   \n",
       "25%        0.000000    1138.059082     34.000000      1.000000   \n",
       "50%        0.000000    2194.220459     42.000000      1.000000   \n",
       "75%        1.000000    2194.220459     53.000000      1.000000   \n",
       "max        5.000000    7010.022461     75.000000      4.000000   \n",
       "\n",
       "       family_status_id          debt  total_income  \n",
       "count      21525.000000  21525.000000  1.935100e+04  \n",
       "mean           0.972544      0.080883  1.674221e+05  \n",
       "std            1.420324      0.272661  1.029714e+05  \n",
       "min            0.000000      0.000000  2.066726e+04  \n",
       "25%            0.000000      0.000000  1.030532e+05  \n",
       "50%            0.000000      0.000000  1.450179e+05  \n",
       "75%            1.000000      0.000000  2.034351e+05  \n",
       "max            4.000000      1.000000  2.265604e+06  "
      ]
     },
     "execution_count": 568,
     "metadata": {},
     "output_type": "execute_result"
    }
   ],
   "source": [
    "data.loc[data['dob_years']==0,'dob_years'] = dob_years_mode\n",
    "data.describe() # видим, что минимальным значением стал возраст 19 лет"
   ]
  },
  {
   "cell_type": "code",
   "execution_count": 569,
   "id": "02b76c1b",
   "metadata": {},
   "outputs": [
    {
     "data": {
      "text/plain": [
       "<AxesSubplot:title={'center':'Distribution of age'}, xlabel='dob_years', ylabel='employees'>"
      ]
     },
     "execution_count": 569,
     "metadata": {},
     "output_type": "execute_result"
    },
    {
     "data": {
      "image/png": "[encoded data removed]",
      "text/plain": [
       "<Figure size 1296x360 with 1 Axes>"
      ]
     },
     "metadata": {
      "needs_background": "light"
     },
     "output_type": "display_data"
    }
   ],
   "source": [
    "plt.figure(figsize=(18,5))\n",
    "plt.xlabel('dob_years')\n",
    "plt.ylabel('employees')\n",
    "plt.title('Distribution of age')\n",
    "data['dob_years'].hist(bins=20)\n"
   ]
  },
  {
   "cell_type": "markdown",
   "id": "3feebbcb",
   "metadata": {},
   "source": [
    "### Education ###"
   ]
  },
  {
   "cell_type": "code",
   "execution_count": 570,
   "id": "4d593dde",
   "metadata": {},
   "outputs": [
    {
     "data": {
      "text/plain": [
       "['ВЫСШЕЕ', 'Высшее', 'НАЧАЛЬНОЕ', 'НЕОКОНЧЕННОЕ ВЫСШЕЕ', 'Начальное', ..., 'высшее', 'начальное', 'неоконченное высшее', 'среднее', 'ученая степень']\n",
       "Length: 15\n",
       "Categories (15, object): ['ВЫСШЕЕ', 'Высшее', 'НАЧАЛЬНОЕ', 'НЕОКОНЧЕННОЕ ВЫСШЕЕ', ..., 'начальное', 'неоконченное высшее', 'среднее', 'ученая степень']"
      ]
     },
     "execution_count": 570,
     "metadata": {},
     "output_type": "execute_result"
    }
   ],
   "source": [
    "data['education'].sort_values().unique()"
   ]
  },
  {
   "cell_type": "code",
   "execution_count": 571,
   "id": "8e989967",
   "metadata": {},
   "outputs": [
    {
     "data": {
      "text/plain": [
       "среднее                13750\n",
       "высшее                  4718\n",
       "СРЕДНЕЕ                  772\n",
       "Среднее                  711\n",
       "неоконченное высшее      668\n",
       "ВЫСШЕЕ                   274\n",
       "Высшее                   268\n",
       "начальное                250\n",
       "Неоконченное высшее       47\n",
       "НЕОКОНЧЕННОЕ ВЫСШЕЕ       29\n",
       "НАЧАЛЬНОЕ                 17\n",
       "Начальное                 15\n",
       "ученая степень             4\n",
       "УЧЕНАЯ СТЕПЕНЬ             1\n",
       "Ученая степень             1\n",
       "Name: education, dtype: int64"
      ]
     },
     "execution_count": 571,
     "metadata": {},
     "output_type": "execute_result"
    }
   ],
   "source": [
    "data['education'].value_counts()"
   ]
  },
  {
   "cell_type": "code",
   "execution_count": 572,
   "id": "302fe9e5",
   "metadata": {},
   "outputs": [],
   "source": [
    "data.loc[(data['education'] == 'СРЕДНЕЕ') | (data['education'] == 'Среднее'), 'education'] = 'среднее'\n",
    "data.loc[(data['education'] == 'ВЫСШЕЕ') | (data['education'] == 'Высшее'), 'education'] = 'высшее'\n",
    "data.loc[(data['education'] == 'НЕОКОНЧЕННОЕ ВЫСШЕЕ') | (data['education'] == 'Неоконченное высшее'), 'education'] = 'неоконченное высшее'\n",
    "data.loc[(data['education'] == 'НАЧАЛЬНОЕ') | (data['education'] == 'Начальное'), 'education'] = 'начальное'\n",
    "data.loc[(data['education'] == 'УЧЕНАЯ СТЕПЕНЬ') | (data['education'] == 'Ученая степень'), 'education'] = 'ученая степень'"
   ]
  },
  {
   "cell_type": "code",
   "execution_count": 573,
   "id": "9717e848",
   "metadata": {},
   "outputs": [
    {
     "data": {
      "text/plain": [
       "count       21525\n",
       "unique          5\n",
       "top       среднее\n",
       "freq        15233\n",
       "Name: education, dtype: object"
      ]
     },
     "execution_count": 573,
     "metadata": {},
     "output_type": "execute_result"
    }
   ],
   "source": [
    "data['education'].describe()"
   ]
  },
  {
   "cell_type": "markdown",
   "id": "e845835d",
   "metadata": {},
   "source": [
    "### Education_id ###"
   ]
  },
  {
   "cell_type": "code",
   "execution_count": 574,
   "id": "d36f2442",
   "metadata": {},
   "outputs": [
    {
     "data": {
      "text/plain": [
       "array([0, 1, 2, 3, 4], dtype=int8)"
      ]
     },
     "execution_count": 574,
     "metadata": {},
     "output_type": "execute_result"
    }
   ],
   "source": [
    "data['education_id'].sort_values().unique()"
   ]
  },
  {
   "cell_type": "code",
   "execution_count": 575,
   "id": "55fc3752",
   "metadata": {},
   "outputs": [
    {
     "data": {
      "text/plain": [
       "count    21525.000000\n",
       "mean         0.817236\n",
       "std          0.548138\n",
       "min          0.000000\n",
       "25%          1.000000\n",
       "50%          1.000000\n",
       "75%          1.000000\n",
       "max          4.000000\n",
       "Name: education_id, dtype: float64"
      ]
     },
     "execution_count": 575,
     "metadata": {},
     "output_type": "execute_result"
    }
   ],
   "source": [
    "data['education_id'].describe()"
   ]
  },
  {
   "cell_type": "markdown",
   "id": "b3519e83",
   "metadata": {},
   "source": [
    "### Family_status ###"
   ]
  },
  {
   "cell_type": "code",
   "execution_count": 576,
   "id": "39195767",
   "metadata": {},
   "outputs": [
    {
     "data": {
      "text/plain": [
       "['Не женат / не замужем', 'в разводе', 'вдовец / вдова', 'гражданский брак', 'женат / замужем']\n",
       "Categories (5, object): ['Не женат / не замужем', 'в разводе', 'вдовец / вдова', 'гражданский брак', 'женат / замужем']"
      ]
     },
     "execution_count": 576,
     "metadata": {},
     "output_type": "execute_result"
    }
   ],
   "source": [
    "data['family_status'].sort_values().unique()"
   ]
  },
  {
   "cell_type": "code",
   "execution_count": 577,
   "id": "fdb3707e",
   "metadata": {},
   "outputs": [
    {
     "data": {
      "text/plain": [
       "женат / замужем          12380\n",
       "гражданский брак          4177\n",
       "Не женат / не замужем     2813\n",
       "в разводе                 1195\n",
       "вдовец / вдова             960\n",
       "Name: family_status, dtype: int64"
      ]
     },
     "execution_count": 577,
     "metadata": {},
     "output_type": "execute_result"
    }
   ],
   "source": [
    "data['family_status'].value_counts()"
   ]
  },
  {
   "cell_type": "code",
   "execution_count": 578,
   "id": "537eb700",
   "metadata": {
    "scrolled": true
   },
   "outputs": [
    {
     "data": {
      "text/plain": [
       "count               21525\n",
       "unique                  5\n",
       "top       женат / замужем\n",
       "freq                12380\n",
       "Name: family_status, dtype: object"
      ]
     },
     "execution_count": 578,
     "metadata": {},
     "output_type": "execute_result"
    }
   ],
   "source": [
    "data['family_status'].describe()"
   ]
  },
  {
   "cell_type": "markdown",
   "id": "8ebaca54",
   "metadata": {},
   "source": [
    "### Family_status_id ###"
   ]
  },
  {
   "cell_type": "code",
   "execution_count": 579,
   "id": "f493e51e",
   "metadata": {},
   "outputs": [
    {
     "data": {
      "text/plain": [
       "array([0, 1, 2, 3, 4], dtype=int8)"
      ]
     },
     "execution_count": 579,
     "metadata": {},
     "output_type": "execute_result"
    }
   ],
   "source": [
    "data['family_status_id'].sort_values().unique()"
   ]
  },
  {
   "cell_type": "code",
   "execution_count": 580,
   "id": "76cfaa72",
   "metadata": {},
   "outputs": [
    {
     "data": {
      "text/plain": [
       "count    21525.000000\n",
       "mean         0.972544\n",
       "std          1.420324\n",
       "min          0.000000\n",
       "25%          0.000000\n",
       "50%          0.000000\n",
       "75%          1.000000\n",
       "max          4.000000\n",
       "Name: family_status_id, dtype: float64"
      ]
     },
     "execution_count": 580,
     "metadata": {},
     "output_type": "execute_result"
    }
   ],
   "source": [
    "data['family_status_id'].describe()"
   ]
  },
  {
   "cell_type": "markdown",
   "id": "cbb7d127",
   "metadata": {},
   "source": [
    "### Gender ###"
   ]
  },
  {
   "cell_type": "code",
   "execution_count": 581,
   "id": "54102a6c",
   "metadata": {},
   "outputs": [
    {
     "data": {
      "text/plain": [
       "['F', 'M', 'XNA']\n",
       "Categories (3, object): ['F', 'M', 'XNA']"
      ]
     },
     "execution_count": 581,
     "metadata": {},
     "output_type": "execute_result"
    }
   ],
   "source": [
    "data['gender'].sort_values().unique() ## значение XNA аномальное"
   ]
  },
  {
   "cell_type": "code",
   "execution_count": 582,
   "id": "55930b05",
   "metadata": {},
   "outputs": [
    {
     "data": {
      "text/html": [
       "<div>\n",
       "<style scoped>\n",
       "    .dataframe tbody tr th:only-of-type {\n",
       "        vertical-align: middle;\n",
       "    }\n",
       "\n",
       "    .dataframe tbody tr th {\n",
       "        vertical-align: top;\n",
       "    }\n",
       "\n",
       "    .dataframe thead th {\n",
       "        text-align: right;\n",
       "    }\n",
       "</style>\n",
       "<table border=\"1\" class=\"dataframe\">\n",
       "  <thead>\n",
       "    <tr style=\"text-align: right;\">\n",
       "      <th></th>\n",
       "      <th>children</th>\n",
       "      <th>days_employed</th>\n",
       "      <th>dob_years</th>\n",
       "      <th>education</th>\n",
       "      <th>education_id</th>\n",
       "      <th>family_status</th>\n",
       "      <th>family_status_id</th>\n",
       "      <th>gender</th>\n",
       "      <th>income_type</th>\n",
       "      <th>debt</th>\n",
       "      <th>total_income</th>\n",
       "      <th>purpose</th>\n",
       "    </tr>\n",
       "  </thead>\n",
       "  <tbody>\n",
       "    <tr>\n",
       "      <th>10701</th>\n",
       "      <td>0</td>\n",
       "      <td>2358.600586</td>\n",
       "      <td>24</td>\n",
       "      <td>неоконченное высшее</td>\n",
       "      <td>2</td>\n",
       "      <td>гражданский брак</td>\n",
       "      <td>1</td>\n",
       "      <td>XNA</td>\n",
       "      <td>компаньон</td>\n",
       "      <td>0</td>\n",
       "      <td>203905.15625</td>\n",
       "      <td>покупка недвижимости</td>\n",
       "    </tr>\n",
       "  </tbody>\n",
       "</table>\n",
       "</div>"
      ],
      "text/plain": [
       "       children  days_employed  dob_years            education  education_id  \\\n",
       "10701         0    2358.600586         24  неоконченное высшее             2   \n",
       "\n",
       "          family_status  family_status_id gender income_type  debt  \\\n",
       "10701  гражданский брак                 1    XNA   компаньон     0   \n",
       "\n",
       "       total_income               purpose  \n",
       "10701  203905.15625  покупка недвижимости  "
      ]
     },
     "execution_count": 582,
     "metadata": {},
     "output_type": "execute_result"
    }
   ],
   "source": [
    "data.loc[data['gender'] == 'XNA'] ## Такое значение только одно. \n",
    "##К сожалению, по косвенным признакам мы не можем определить пол данного сотрудника - поэтому можем заменить его на любое из двух."
   ]
  },
  {
   "cell_type": "code",
   "execution_count": 583,
   "id": "84efda03",
   "metadata": {},
   "outputs": [
    {
     "data": {
      "text/plain": [
       "['F', 'M']\n",
       "Categories (3, object): ['F', 'M', 'XNA']"
      ]
     },
     "execution_count": 583,
     "metadata": {},
     "output_type": "execute_result"
    }
   ],
   "source": [
    "data.loc[data['gender'] == 'XNA','gender'] = 'M'\n",
    "data['gender'].sort_values().unique() "
   ]
  },
  {
   "cell_type": "markdown",
   "id": "f6b3fcbe",
   "metadata": {},
   "source": [
    "### Income_type  ###"
   ]
  },
  {
   "cell_type": "code",
   "execution_count": 584,
   "id": "d3298cd2",
   "metadata": {},
   "outputs": [
    {
     "data": {
      "text/plain": [
       "count         21525\n",
       "unique            8\n",
       "top       сотрудник\n",
       "freq          11119\n",
       "Name: income_type, dtype: object"
      ]
     },
     "execution_count": 584,
     "metadata": {},
     "output_type": "execute_result"
    }
   ],
   "source": [
    "data.income_type.describe()"
   ]
  },
  {
   "cell_type": "code",
   "execution_count": 585,
   "id": "30daf14d",
   "metadata": {},
   "outputs": [
    {
     "data": {
      "text/plain": [
       "['безработный', 'в декрете', 'госслужащий', 'компаньон', 'пенсионер', 'предприниматель', 'сотрудник', 'студент']\n",
       "Categories (8, object): ['безработный', 'в декрете', 'госслужащий', 'компаньон', 'пенсионер', 'предприниматель', 'сотрудник', 'студент']"
      ]
     },
     "execution_count": 585,
     "metadata": {},
     "output_type": "execute_result"
    }
   ],
   "source": [
    "data.income_type.sort_values().unique()"
   ]
  },
  {
   "cell_type": "markdown",
   "id": "45f1dd7a",
   "metadata": {},
   "source": [
    "### Debt ###"
   ]
  },
  {
   "cell_type": "code",
   "execution_count": 586,
   "id": "ff583719",
   "metadata": {},
   "outputs": [
    {
     "data": {
      "text/plain": [
       "count    21525.000000\n",
       "mean         0.080883\n",
       "std          0.272661\n",
       "min          0.000000\n",
       "25%          0.000000\n",
       "50%          0.000000\n",
       "75%          0.000000\n",
       "max          1.000000\n",
       "Name: debt, dtype: float64"
      ]
     },
     "execution_count": 586,
     "metadata": {},
     "output_type": "execute_result"
    }
   ],
   "source": [
    "data.debt.describe()"
   ]
  },
  {
   "cell_type": "code",
   "execution_count": 587,
   "id": "befe81d9",
   "metadata": {},
   "outputs": [
    {
     "data": {
      "text/plain": [
       "0    19784\n",
       "1     1741\n",
       "Name: debt, dtype: int64"
      ]
     },
     "execution_count": 587,
     "metadata": {},
     "output_type": "execute_result"
    }
   ],
   "source": [
    "data.debt.value_counts()"
   ]
  },
  {
   "cell_type": "markdown",
   "id": "7e13d951",
   "metadata": {},
   "source": [
    "### total_income ###"
   ]
  },
  {
   "cell_type": "code",
   "execution_count": 588,
   "id": "3f477e7c",
   "metadata": {},
   "outputs": [
    {
     "data": {
      "text/plain": [
       "count    1.935100e+04\n",
       "mean     1.674221e+05\n",
       "std      1.029714e+05\n",
       "min      2.066726e+04\n",
       "25%      1.030532e+05\n",
       "50%      1.450179e+05\n",
       "75%      2.034351e+05\n",
       "max      2.265604e+06\n",
       "Name: total_income, dtype: float64"
      ]
     },
     "execution_count": 588,
     "metadata": {},
     "output_type": "execute_result"
    }
   ],
   "source": [
    "data.total_income.describe() ## признак вещественный, необходимо привести к целочисленному, но сначала нужно заменить пропуски"
   ]
  },
  {
   "cell_type": "code",
   "execution_count": 589,
   "id": "e36730cc",
   "metadata": {
    "scrolled": true
   },
   "outputs": [
    {
     "data": {
      "text/plain": [
       "2174"
      ]
     },
     "execution_count": 589,
     "metadata": {},
     "output_type": "execute_result"
    }
   ],
   "source": [
    "data['total_income'].isna().sum()"
   ]
  },
  {
   "cell_type": "code",
   "execution_count": 590,
   "id": "6d393fec",
   "metadata": {},
   "outputs": [],
   "source": [
    "total_income_median = data['total_income'].median()"
   ]
  },
  {
   "cell_type": "code",
   "execution_count": 591,
   "id": "774a1c98",
   "metadata": {},
   "outputs": [],
   "source": [
    "data.loc[data['total_income'].isnull() == True, 'total_income'] = total_income_median"
   ]
  },
  {
   "cell_type": "code",
   "execution_count": 592,
   "id": "448500db",
   "metadata": {},
   "outputs": [
    {
     "data": {
      "text/plain": [
       "0        253875\n",
       "1        112080\n",
       "2        145885\n",
       "3        267628\n",
       "4        158616\n",
       "          ...  \n",
       "21520    224791\n",
       "21521    155999\n",
       "21522     89672\n",
       "21523    244093\n",
       "21524     82047\n",
       "Name: total_income, Length: 21525, dtype: int32"
      ]
     },
     "execution_count": 592,
     "metadata": {},
     "output_type": "execute_result"
    }
   ],
   "source": [
    "data['total_income'].astype(int)"
   ]
  },
  {
   "cell_type": "code",
   "execution_count": 593,
   "id": "d7ef3d7c",
   "metadata": {},
   "outputs": [
    {
     "name": "stdout",
     "output_type": "stream",
     "text": [
      "<class 'pandas.core.frame.DataFrame'>\n",
      "RangeIndex: 21525 entries, 0 to 21524\n",
      "Data columns (total 12 columns):\n",
      " #   Column            Non-Null Count  Dtype   \n",
      "---  ------            --------------  -----   \n",
      " 0   children          21525 non-null  int8    \n",
      " 1   days_employed     21525 non-null  float32 \n",
      " 2   dob_years         21525 non-null  int8    \n",
      " 3   education         21525 non-null  category\n",
      " 4   education_id      21525 non-null  int8    \n",
      " 5   family_status     21525 non-null  category\n",
      " 6   family_status_id  21525 non-null  int8    \n",
      " 7   gender            21525 non-null  category\n",
      " 8   income_type       21525 non-null  category\n",
      " 9   debt              21525 non-null  int8    \n",
      " 10  total_income      21525 non-null  float32 \n",
      " 11  purpose           21525 non-null  category\n",
      "dtypes: category(5), float32(2), int8(5)\n",
      "memory usage: 381.2 KB\n"
     ]
    }
   ],
   "source": [
    "data.info() # Теперь тип целочисленный"
   ]
  },
  {
   "cell_type": "markdown",
   "id": "7e618ae5",
   "metadata": {},
   "source": [
    "###  Purpose ### "
   ]
  },
  {
   "cell_type": "code",
   "execution_count": 594,
   "id": "333c077d",
   "metadata": {},
   "outputs": [
    {
     "data": {
      "text/plain": [
       "count       21525\n",
       "unique         38\n",
       "top       свадьба\n",
       "freq          797\n",
       "Name: purpose, dtype: object"
      ]
     },
     "execution_count": 594,
     "metadata": {},
     "output_type": "execute_result"
    }
   ],
   "source": [
    "data.purpose.describe()"
   ]
  },
  {
   "cell_type": "code",
   "execution_count": 595,
   "id": "b97964f6",
   "metadata": {},
   "outputs": [
    {
     "data": {
      "text/plain": [
       "['автомобили', 'автомобиль', 'высшее образование', 'дополнительное образование', 'жилье', ..., 'сделка с подержанным автомобилем', 'строительство жилой недвижимости', 'строительство недвижимости', 'строительство собственной недвижимости', 'сыграть свадьбу']\n",
       "Length: 38\n",
       "Categories (38, object): ['автомобили', 'автомобиль', 'высшее образование', 'дополнительное образование', ..., 'строительство жилой недвижимости', 'строительство недвижимости', 'строительство собственной недвижимости', 'сыграть свадьбу']"
      ]
     },
     "execution_count": 595,
     "metadata": {},
     "output_type": "execute_result"
    }
   ],
   "source": [
    "data.purpose.sort_values().unique() ## видно, что многие категории очень похожи друг на друга"
   ]
  },
  {
   "cell_type": "code",
   "execution_count": 596,
   "id": "cc54e5ea",
   "metadata": {},
   "outputs": [
    {
     "data": {
      "text/plain": [
       "свадьба                                   797\n",
       "на проведение свадьбы                     777\n",
       "сыграть свадьбу                           774\n",
       "операции с недвижимостью                  676\n",
       "покупка коммерческой недвижимости         664\n",
       "операции с жильем                         653\n",
       "покупка жилья для сдачи                   653\n",
       "операции с коммерческой недвижимостью     651\n",
       "жилье                                     647\n",
       "покупка жилья                             647\n",
       "покупка жилья для семьи                   641\n",
       "строительство собственной недвижимости    635\n",
       "недвижимость                              634\n",
       "операции со своей недвижимостью           630\n",
       "строительство жилой недвижимости          626\n",
       "покупка недвижимости                      624\n",
       "строительство недвижимости                620\n",
       "покупка своего жилья                      620\n",
       "ремонт жилью                              612\n",
       "покупка жилой недвижимости                607\n",
       "на покупку своего автомобиля              505\n",
       "заняться высшим образованием              496\n",
       "автомобиль                                495\n",
       "сделка с подержанным автомобилем          489\n",
       "свой автомобиль                           480\n",
       "на покупку подержанного автомобиля        479\n",
       "автомобили                                478\n",
       "на покупку автомобиля                     472\n",
       "приобретение автомобиля                   462\n",
       "дополнительное образование                462\n",
       "сделка с автомобилем                      455\n",
       "высшее образование                        453\n",
       "получение дополнительного образования     447\n",
       "образование                               447\n",
       "получение образования                     443\n",
       "профильное образование                    436\n",
       "получение высшего образования             426\n",
       "заняться образованием                     412\n",
       "Name: purpose, dtype: int64"
      ]
     },
     "execution_count": 596,
     "metadata": {},
     "output_type": "execute_result"
    }
   ],
   "source": [
    "data.purpose.value_counts()"
   ]
  },
  {
   "cell_type": "code",
   "execution_count": 597,
   "id": "1f3a5927",
   "metadata": {},
   "outputs": [],
   "source": [
    "data.loc[(data['purpose'] == 'автомобили') | (data['purpose'] == 'свой автомобиль')\n",
    "         | (data['purpose'] == 'приобретение автомобиля') | (data['purpose'] == 'на покупку автомобиля')\n",
    "         | (data['purpose'] == 'на покупку своего автомобиля') | (data['purpose'] == 'на покупку своего автомобиля')\n",
    "         | (data['purpose'] == 'на покупку подержанного автомобиля'), 'purpose'] = 'автомобиль'\n",
    "data.loc[(data['purpose'] == 'заняться высшим образованием')|(data['purpose'] == 'получение высшего образования')\n",
    "         | (data['purpose'] == 'профильное образование')|(data['purpose'] == 'высшее образование') , 'purpose'] = 'образование'\n",
    "data.loc[(data['purpose'] == 'строительство собственной недвижимости') | (data['purpose'] == 'строительство жилой недвижимости'), 'purpose'] = 'строительство недвижимости'\n",
    "data.loc[(data['purpose'] == 'сыграть свадьбу') | (data['purpose'] == 'на проведение свадьбы'), 'purpose'] = 'свадьба'\n",
    "data.loc[(data['purpose'] == 'сделка с подержанным автомобилем') | (data['purpose'] == 'сделка с автомобилем'), 'purpose'] = 'автомобиль'\n",
    "data.loc[(data['purpose'] == 'заняться образованием')|(data['purpose'] == 'получение образования')\n",
    "         | (data['purpose'] == 'дополнительное образование')|(data['purpose'] == 'получение дополнительного образования')\n",
    "         , 'purpose'] = 'образование'\n",
    "data.loc[(data['purpose'] == 'покупка жилья') | (data['purpose'] == 'недвижимость') | (data['purpose'] == 'покупка жилья для семьи')\n",
    "         | (data['purpose'] == 'покупка недвижимости') | (data['purpose'] == 'покупка своего жилья') | (data['purpose'] == 'покупка жилой недвижимости')\n",
    "         | (data['purpose'] == 'покупка жилья для сдачи') | (data['purpose'] == 'покупка коммерческой недвижимости')\n",
    "         , 'purpose'] = 'жилье'\n",
    "data.loc[(data['purpose'] == 'операции с коммерческой недвижимостью') | (data['purpose'] == 'недвижимость') | (data['purpose'] == 'операции со своей недвижимостью')\n",
    "         | (data['purpose'] == 'операции с жильем'), 'purpose'] = 'операции с недвижимостью'"
   ]
  },
  {
   "cell_type": "markdown",
   "id": "6e6b4b67",
   "metadata": {},
   "source": [
    "### Работа с дубликатами ###"
   ]
  },
  {
   "cell_type": "code",
   "execution_count": 598,
   "id": "19ca6fbc",
   "metadata": {},
   "outputs": [
    {
     "data": {
      "text/html": [
       "<div>\n",
       "<style scoped>\n",
       "    .dataframe tbody tr th:only-of-type {\n",
       "        vertical-align: middle;\n",
       "    }\n",
       "\n",
       "    .dataframe tbody tr th {\n",
       "        vertical-align: top;\n",
       "    }\n",
       "\n",
       "    .dataframe thead th {\n",
       "        text-align: right;\n",
       "    }\n",
       "</style>\n",
       "<table border=\"1\" class=\"dataframe\">\n",
       "  <thead>\n",
       "    <tr style=\"text-align: right;\">\n",
       "      <th></th>\n",
       "      <th>children</th>\n",
       "      <th>days_employed</th>\n",
       "      <th>dob_years</th>\n",
       "      <th>education</th>\n",
       "      <th>education_id</th>\n",
       "      <th>family_status</th>\n",
       "      <th>family_status_id</th>\n",
       "      <th>gender</th>\n",
       "      <th>income_type</th>\n",
       "      <th>debt</th>\n",
       "      <th>total_income</th>\n",
       "      <th>purpose</th>\n",
       "    </tr>\n",
       "  </thead>\n",
       "  <tbody>\n",
       "    <tr>\n",
       "      <th>0</th>\n",
       "      <td>1</td>\n",
       "      <td>2194.220459</td>\n",
       "      <td>42</td>\n",
       "      <td>высшее</td>\n",
       "      <td>0</td>\n",
       "      <td>женат / замужем</td>\n",
       "      <td>0</td>\n",
       "      <td>F</td>\n",
       "      <td>сотрудник</td>\n",
       "      <td>0</td>\n",
       "      <td>253875.640625</td>\n",
       "      <td>жилье</td>\n",
       "    </tr>\n",
       "    <tr>\n",
       "      <th>1</th>\n",
       "      <td>1</td>\n",
       "      <td>4024.803711</td>\n",
       "      <td>36</td>\n",
       "      <td>среднее</td>\n",
       "      <td>1</td>\n",
       "      <td>женат / замужем</td>\n",
       "      <td>0</td>\n",
       "      <td>F</td>\n",
       "      <td>сотрудник</td>\n",
       "      <td>0</td>\n",
       "      <td>112080.015625</td>\n",
       "      <td>автомобиль</td>\n",
       "    </tr>\n",
       "    <tr>\n",
       "      <th>2</th>\n",
       "      <td>0</td>\n",
       "      <td>5623.422852</td>\n",
       "      <td>33</td>\n",
       "      <td>среднее</td>\n",
       "      <td>1</td>\n",
       "      <td>женат / замужем</td>\n",
       "      <td>0</td>\n",
       "      <td>M</td>\n",
       "      <td>сотрудник</td>\n",
       "      <td>0</td>\n",
       "      <td>145885.953125</td>\n",
       "      <td>жилье</td>\n",
       "    </tr>\n",
       "    <tr>\n",
       "      <th>3</th>\n",
       "      <td>3</td>\n",
       "      <td>4124.747070</td>\n",
       "      <td>32</td>\n",
       "      <td>среднее</td>\n",
       "      <td>1</td>\n",
       "      <td>женат / замужем</td>\n",
       "      <td>0</td>\n",
       "      <td>M</td>\n",
       "      <td>сотрудник</td>\n",
       "      <td>0</td>\n",
       "      <td>267628.562500</td>\n",
       "      <td>образование</td>\n",
       "    </tr>\n",
       "    <tr>\n",
       "      <th>4</th>\n",
       "      <td>0</td>\n",
       "      <td>2194.220459</td>\n",
       "      <td>53</td>\n",
       "      <td>среднее</td>\n",
       "      <td>1</td>\n",
       "      <td>гражданский брак</td>\n",
       "      <td>1</td>\n",
       "      <td>F</td>\n",
       "      <td>пенсионер</td>\n",
       "      <td>0</td>\n",
       "      <td>158616.078125</td>\n",
       "      <td>свадьба</td>\n",
       "    </tr>\n",
       "    <tr>\n",
       "      <th>...</th>\n",
       "      <td>...</td>\n",
       "      <td>...</td>\n",
       "      <td>...</td>\n",
       "      <td>...</td>\n",
       "      <td>...</td>\n",
       "      <td>...</td>\n",
       "      <td>...</td>\n",
       "      <td>...</td>\n",
       "      <td>...</td>\n",
       "      <td>...</td>\n",
       "      <td>...</td>\n",
       "      <td>...</td>\n",
       "    </tr>\n",
       "    <tr>\n",
       "      <th>21520</th>\n",
       "      <td>1</td>\n",
       "      <td>4529.316895</td>\n",
       "      <td>43</td>\n",
       "      <td>среднее</td>\n",
       "      <td>1</td>\n",
       "      <td>гражданский брак</td>\n",
       "      <td>1</td>\n",
       "      <td>F</td>\n",
       "      <td>компаньон</td>\n",
       "      <td>0</td>\n",
       "      <td>224791.859375</td>\n",
       "      <td>операции с недвижимостью</td>\n",
       "    </tr>\n",
       "    <tr>\n",
       "      <th>21521</th>\n",
       "      <td>0</td>\n",
       "      <td>2194.220459</td>\n",
       "      <td>67</td>\n",
       "      <td>среднее</td>\n",
       "      <td>1</td>\n",
       "      <td>женат / замужем</td>\n",
       "      <td>0</td>\n",
       "      <td>F</td>\n",
       "      <td>пенсионер</td>\n",
       "      <td>0</td>\n",
       "      <td>155999.812500</td>\n",
       "      <td>автомобиль</td>\n",
       "    </tr>\n",
       "    <tr>\n",
       "      <th>21522</th>\n",
       "      <td>1</td>\n",
       "      <td>2113.346924</td>\n",
       "      <td>38</td>\n",
       "      <td>среднее</td>\n",
       "      <td>1</td>\n",
       "      <td>гражданский брак</td>\n",
       "      <td>1</td>\n",
       "      <td>M</td>\n",
       "      <td>сотрудник</td>\n",
       "      <td>1</td>\n",
       "      <td>89672.562500</td>\n",
       "      <td>жилье</td>\n",
       "    </tr>\n",
       "    <tr>\n",
       "      <th>21523</th>\n",
       "      <td>3</td>\n",
       "      <td>3112.481689</td>\n",
       "      <td>38</td>\n",
       "      <td>среднее</td>\n",
       "      <td>1</td>\n",
       "      <td>женат / замужем</td>\n",
       "      <td>0</td>\n",
       "      <td>M</td>\n",
       "      <td>сотрудник</td>\n",
       "      <td>1</td>\n",
       "      <td>244093.046875</td>\n",
       "      <td>автомобиль</td>\n",
       "    </tr>\n",
       "    <tr>\n",
       "      <th>21524</th>\n",
       "      <td>2</td>\n",
       "      <td>1984.507568</td>\n",
       "      <td>40</td>\n",
       "      <td>среднее</td>\n",
       "      <td>1</td>\n",
       "      <td>женат / замужем</td>\n",
       "      <td>0</td>\n",
       "      <td>F</td>\n",
       "      <td>сотрудник</td>\n",
       "      <td>0</td>\n",
       "      <td>82047.421875</td>\n",
       "      <td>автомобиль</td>\n",
       "    </tr>\n",
       "  </tbody>\n",
       "</table>\n",
       "<p>21247 rows × 12 columns</p>\n",
       "</div>"
      ],
      "text/plain": [
       "       children  days_employed  dob_years education  education_id  \\\n",
       "0             1    2194.220459         42    высшее             0   \n",
       "1             1    4024.803711         36   среднее             1   \n",
       "2             0    5623.422852         33   среднее             1   \n",
       "3             3    4124.747070         32   среднее             1   \n",
       "4             0    2194.220459         53   среднее             1   \n",
       "...         ...            ...        ...       ...           ...   \n",
       "21520         1    4529.316895         43   среднее             1   \n",
       "21521         0    2194.220459         67   среднее             1   \n",
       "21522         1    2113.346924         38   среднее             1   \n",
       "21523         3    3112.481689         38   среднее             1   \n",
       "21524         2    1984.507568         40   среднее             1   \n",
       "\n",
       "          family_status  family_status_id gender income_type  debt  \\\n",
       "0       женат / замужем                 0      F   сотрудник     0   \n",
       "1       женат / замужем                 0      F   сотрудник     0   \n",
       "2       женат / замужем                 0      M   сотрудник     0   \n",
       "3       женат / замужем                 0      M   сотрудник     0   \n",
       "4      гражданский брак                 1      F   пенсионер     0   \n",
       "...                 ...               ...    ...         ...   ...   \n",
       "21520  гражданский брак                 1      F   компаньон     0   \n",
       "21521   женат / замужем                 0      F   пенсионер     0   \n",
       "21522  гражданский брак                 1      M   сотрудник     1   \n",
       "21523   женат / замужем                 0      M   сотрудник     1   \n",
       "21524   женат / замужем                 0      F   сотрудник     0   \n",
       "\n",
       "        total_income                   purpose  \n",
       "0      253875.640625                     жилье  \n",
       "1      112080.015625                автомобиль  \n",
       "2      145885.953125                     жилье  \n",
       "3      267628.562500               образование  \n",
       "4      158616.078125                   свадьба  \n",
       "...              ...                       ...  \n",
       "21520  224791.859375  операции с недвижимостью  \n",
       "21521  155999.812500                автомобиль  \n",
       "21522   89672.562500                     жилье  \n",
       "21523  244093.046875                автомобиль  \n",
       "21524   82047.421875                автомобиль  \n",
       "\n",
       "[21247 rows x 12 columns]"
      ]
     },
     "execution_count": 598,
     "metadata": {},
     "output_type": "execute_result"
    }
   ],
   "source": [
    "data.drop_duplicates()"
   ]
  },
  {
   "cell_type": "markdown",
   "id": "1b6c51b5",
   "metadata": {},
   "source": [
    "### Создание новых датафреймов ###"
   ]
  },
  {
   "cell_type": "code",
   "execution_count": 599,
   "id": "f3f4e6cc",
   "metadata": {},
   "outputs": [],
   "source": [
    "data_frame_1 = pd.DataFrame(data[['education_id','education']])"
   ]
  },
  {
   "cell_type": "code",
   "execution_count": 600,
   "id": "23d500da",
   "metadata": {},
   "outputs": [
    {
     "data": {
      "text/plain": [
       "education_id  education          \n",
       "1             среднее                15233\n",
       "0             высшее                  5260\n",
       "2             неоконченное высшее      744\n",
       "3             начальное                282\n",
       "4             ученая степень             6\n",
       "dtype: int64"
      ]
     },
     "execution_count": 600,
     "metadata": {},
     "output_type": "execute_result"
    }
   ],
   "source": [
    "data_frame_1.value_counts() #уникальные значения для датасета_1"
   ]
  },
  {
   "cell_type": "code",
   "execution_count": 601,
   "id": "cd4dfc56",
   "metadata": {},
   "outputs": [],
   "source": [
    "data_frame_2 = pd.DataFrame(data[['family_status_id','family_status']])"
   ]
  },
  {
   "cell_type": "code",
   "execution_count": 602,
   "id": "08a592d1",
   "metadata": {},
   "outputs": [
    {
     "data": {
      "text/plain": [
       "family_status_id  family_status        \n",
       "0                 женат / замужем          12380\n",
       "1                 гражданский брак          4177\n",
       "4                 Не женат / не замужем     2813\n",
       "3                 в разводе                 1195\n",
       "2                 вдовец / вдова             960\n",
       "dtype: int64"
      ]
     },
     "execution_count": 602,
     "metadata": {},
     "output_type": "execute_result"
    }
   ],
   "source": [
    "data_frame_2.value_counts() #уникальные значения для датасета_2"
   ]
  },
  {
   "cell_type": "markdown",
   "id": "6d5562b7",
   "metadata": {},
   "source": [
    "### Визуализация ###"
   ]
  },
  {
   "cell_type": "markdown",
   "id": "b25f954c",
   "metadata": {},
   "source": [
    "1. Распределение по количеству детей среди должников по кредиту;"
   ]
  },
  {
   "cell_type": "code",
   "execution_count": 603,
   "id": "b54850e6",
   "metadata": {},
   "outputs": [
    {
     "data": {
      "image/png": "[encoded data removed]",
      "text/plain": [
       "<Figure size 360x360 with 1 Axes>"
      ]
     },
     "metadata": {
      "needs_background": "light"
     },
     "output_type": "display_data"
    }
   ],
   "source": [
    "dis_debt_children = data.loc[data['debt'] == 1,'children']\n",
    "dis_child = sns.displot(data=dis_debt_children,discrete=True)\n",
    "dis_child.fig.subplots_adjust(top=.9)\n",
    "dis_child.fig.suptitle('Распределение должников по количеству детей в семье')\n",
    "plt.show()"
   ]
  },
  {
   "cell_type": "markdown",
   "id": "4f4eae4f",
   "metadata": {},
   "source": [
    "2. Распределение по полу среди должников по кредиту;"
   ]
  },
  {
   "cell_type": "code",
   "execution_count": 604,
   "id": "88027078",
   "metadata": {},
   "outputs": [
    {
     "data": {
      "image/png": "[encoded data removed]",
      "text/plain": [
       "<Figure size 360x360 with 1 Axes>"
      ]
     },
     "metadata": {
      "needs_background": "light"
     },
     "output_type": "display_data"
    }
   ],
   "source": [
    "dis_debt_children = data.loc[data['debt'] == 1,'gender']\n",
    "dis_child = sns.displot(data=dis_debt_children,discrete=True)\n",
    "dis_child.fig.subplots_adjust(top=.9)\n",
    "dis_child.fig.suptitle('Распределение должников по полу')\n",
    "plt.show()"
   ]
  },
  {
   "cell_type": "markdown",
   "id": "ccb364fa",
   "metadata": {},
   "source": [
    "3.\t3 наиболее популярные цели получения кредита для клиентов в возрасте 30+"
   ]
  },
  {
   "cell_type": "code",
   "execution_count": 673,
   "id": "bdd7542d",
   "metadata": {},
   "outputs": [],
   "source": [
    "age_purpose = data.loc[data['dob_years'] >=30,'purpose']"
   ]
  },
  {
   "cell_type": "code",
   "execution_count": 677,
   "id": "1c87cf64",
   "metadata": {},
   "outputs": [],
   "source": []
  },
  {
   "cell_type": "code",
   "execution_count": 699,
   "id": "812b1386",
   "metadata": {},
   "outputs": [
    {
     "data": {
      "text/plain": [
       "<BarContainer object of 3 artists>"
      ]
     },
     "execution_count": 699,
     "metadata": {},
     "output_type": "execute_result"
    },
    {
     "data": {
      "image/png": "[encoded data removed]",
      "text/plain": [
       "<Figure size 1152x576 with 1 Axes>"
      ]
     },
     "metadata": {
      "needs_background": "light"
     },
     "output_type": "display_data"
    }
   ],
   "source": [
    "plt.figure(figsize = (16,8))\n",
    "x = age_purpose.value_counts().head(3).keys()\n",
    "y = age_purpose.value_counts().head(3).values\n",
    "plt.xlabel('Топ три целей взятия кредита клиентами в возрасте >= 30 лет')\n",
    "plt.ylabel('Количество клиентов')\n",
    "plt.bar(x,y,width = 0.4)"
   ]
  }
 ],
 "metadata": {
  "kernelspec": {
   "display_name": "Python 3 (ipykernel)",
   "language": "python",
   "name": "python3"
  },
  "language_info": {
   "codemirror_mode": {
    "name": "ipython",
    "version": 3
   },
   "file_extension": ".py",
   "mimetype": "text/x-python",
   "name": "python",
   "nbconvert_exporter": "python",
   "pygments_lexer": "ipython3",
   "version": "3.9.7"
  }
 },
 "nbformat": 4,
 "nbformat_minor": 5
}
