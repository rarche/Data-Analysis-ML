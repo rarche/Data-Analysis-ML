{
 "cells": [
  {
   "cell_type": "markdown",
   "id": "9b0d45ed",
   "metadata": {},
   "source": [
    "#Итоговый проект: Real Estate Price Prediction"
   ]
  },
  {
   "cell_type": "markdown",
   "id": "bb2162e3",
   "metadata": {},
   "source": [
    "## Data Fields\n",
    "**Id** - идентификационный номер квартиры\n",
    "\n",
    "**DistrictId** - идентификационный номер района\n",
    "\n",
    "**Rooms** - количество комнат\n",
    "\n",
    "**Square** - площадь\n",
    "\n",
    "**LifeSquare** - жилая площадь\n",
    "\n",
    "**KitchenSquare** - площадь кухни\n",
    "\n",
    "**Floor** - этаж\n",
    "\n",
    "**HouseFloor** - количество этажей в доме\n",
    "\n",
    "**HouseYear** - год постройки дома\n",
    "\n",
    "**Ecology_1, Ecology_2, Ecology_3** - экологические показатели местности\n",
    "\n",
    "**Social_1, Social_2, Social_3** - социальные показатели местности\n",
    "\n",
    "**Healthcare_1, Helthcare_2** - показатели местности, связанные с охраной здоровья\n",
    "\n",
    "**Shops_1, Shops_2** - показатели, связанные с наличием магазинов, торговых центров\n",
    "\n",
    "**Price** - цена квартиры"
   ]
  },
  {
   "cell_type": "markdown",
   "id": "7743a38c",
   "metadata": {},
   "source": [
    "##Подключение библиотек и скриптов"
   ]
  },
  {
   "cell_type": "code",
   "execution_count": 1929,
   "id": "48bfae26",
   "metadata": {},
   "outputs": [],
   "source": [
    "import numpy as np\n",
    "import pandas as pd\n",
    "import seaborn as sbn\n",
    "import matplotlib.pyplot as plt\n",
    "import seaborn as sns\n",
    "def reduce_mem_usage(df):\n",
    "    \"\"\" iterate through all the columns of a dataframe and modify the data type\n",
    "        to reduce memory usage.        \n",
    "    \"\"\"\n",
    "    start_mem = df.memory_usage().sum() / 1024**2\n",
    "    print('Memory usage of dataframe is {:.2f} MB'.format(start_mem))\n",
    "    for col in df.columns:\n",
    "        col_type = df[col].dtype\n",
    " \n",
    "        if col_type != object:\n",
    "            c_min = df[col].min()\n",
    "            c_max = df[col].max()\n",
    "            if str(col_type)[:3] == 'int':\n",
    "                if c_min > np.iinfo(np.int8).min and c_max < np.iinfo(np.int8).max:\n",
    "                    df[col] = df[col].astype(np.int8)\n",
    "                elif c_min > np.iinfo(np.int16).min and c_max < np.iinfo(np.int16).max:\n",
    "                    df[col] = df[col].astype(np.int16)\n",
    "                elif c_min > np.iinfo(np.int32).min and c_max < np.iinfo(np.int32).max:\n",
    "                    df[col] = df[col].astype(np.int32)\n",
    "                elif c_min > np.iinfo(np.int64).min and c_max < np.iinfo(np.int64).max:\n",
    "                    df[col] = df[col].astype(np.int64)  \n",
    "            else:\n",
    "                if c_min > np.finfo(np.float16).min and c_max < np.finfo(np.float16).max:\n",
    "                    df[col] = df[col].astype(np.float16)\n",
    "                elif c_min > np.finfo(np.float32).min and c_max < np.finfo(np.float32).max:\n",
    "                    df[col] = df[col].astype(np.float32)\n",
    "                else:\n",
    "                    df[col] = df[col].astype(np.float64)\n",
    "        else:\n",
    "            df[col] = df[col].astype('category')\n",
    " \n",
    "    end_mem = df.memory_usage().sum() / 1024**2\n",
    "    print('Memory usage after optimization is: {:.2f} MB'.format(end_mem))\n",
    "    print('Decreased by {:.1f}%'.format(100 * (start_mem - end_mem) / start_mem))\n",
    " \n",
    "    return df\n",
    "\n",
    "import warnings\n",
    "warnings.filterwarnings('ignore')\n",
    "%matplotlib inline"
   ]
  },
  {
   "cell_type": "markdown",
   "id": "f76626c9",
   "metadata": {},
   "source": [
    "##Пути к директориям и файлам"
   ]
  },
  {
   "cell_type": "code",
   "execution_count": 1930,
   "id": "f988cd2c",
   "metadata": {},
   "outputs": [],
   "source": [
    "DATASET_TRAIN_PATH = './Final Project/train.csv'\n",
    "DATASET_TEST_PATH = './Final Project/test.csv'\n",
    "train_data = pd.read_csv(DATASET_TRAIN_PATH)\n",
    "test_data = pd.read_csv(DATASET_TEST_PATH)"
   ]
  },
  {
   "cell_type": "markdown",
   "id": "10cecbf9",
   "metadata": {},
   "source": [
    "##Ознакомление с датасетом и переменными"
   ]
  },
  {
   "cell_type": "code",
   "execution_count": 1931,
   "id": "56cf9f36",
   "metadata": {},
   "outputs": [
    {
     "name": "stdout",
     "output_type": "stream",
     "text": [
      "Memory usage of dataframe is 1.53 MB\n",
      "Memory usage after optimization is: 0.35 MB\n",
      "Decreased by 76.8%\n"
     ]
    }
   ],
   "source": [
    "train_data = reduce_mem_usage(train_data) ##уменьшение размерности датасета"
   ]
  },
  {
   "cell_type": "code",
   "execution_count": 1932,
   "id": "71e1692f",
   "metadata": {},
   "outputs": [
    {
     "name": "stdout",
     "output_type": "stream",
     "text": [
      "<class 'pandas.core.frame.DataFrame'>\n",
      "RangeIndex: 10000 entries, 0 to 9999\n",
      "Data columns (total 20 columns):\n",
      " #   Column         Non-Null Count  Dtype   \n",
      "---  ------         --------------  -----   \n",
      " 0   Id             10000 non-null  int16   \n",
      " 1   DistrictId     10000 non-null  int16   \n",
      " 2   Rooms          10000 non-null  float16 \n",
      " 3   Square         10000 non-null  float16 \n",
      " 4   LifeSquare     7887 non-null   float16 \n",
      " 5   KitchenSquare  10000 non-null  float16 \n",
      " 6   Floor          10000 non-null  int8    \n",
      " 7   HouseFloor     10000 non-null  float16 \n",
      " 8   HouseYear      10000 non-null  int32   \n",
      " 9   Ecology_1      10000 non-null  float16 \n",
      " 10  Ecology_2      10000 non-null  category\n",
      " 11  Ecology_3      10000 non-null  category\n",
      " 12  Social_1       10000 non-null  int8    \n",
      " 13  Social_2       10000 non-null  int16   \n",
      " 14  Social_3       10000 non-null  int16   \n",
      " 15  Healthcare_1   5202 non-null   float16 \n",
      " 16  Helthcare_2    10000 non-null  int8    \n",
      " 17  Shops_1        10000 non-null  int8    \n",
      " 18  Shops_2        10000 non-null  category\n",
      " 19  Price          10000 non-null  float32 \n",
      "dtypes: category(3), float16(7), float32(1), int16(4), int32(1), int8(4)\n",
      "memory usage: 361.8 KB\n"
     ]
    }
   ],
   "source": [
    "train_data.info()"
   ]
  },
  {
   "cell_type": "code",
   "execution_count": 1933,
   "id": "de21a46e",
   "metadata": {},
   "outputs": [
    {
     "data": {
      "text/html": [
       "<div>\n",
       "<style scoped>\n",
       "    .dataframe tbody tr th:only-of-type {\n",
       "        vertical-align: middle;\n",
       "    }\n",
       "\n",
       "    .dataframe tbody tr th {\n",
       "        vertical-align: top;\n",
       "    }\n",
       "\n",
       "    .dataframe thead th {\n",
       "        text-align: right;\n",
       "    }\n",
       "</style>\n",
       "<table border=\"1\" class=\"dataframe\">\n",
       "  <thead>\n",
       "    <tr style=\"text-align: right;\">\n",
       "      <th></th>\n",
       "      <th>Id</th>\n",
       "      <th>DistrictId</th>\n",
       "      <th>Rooms</th>\n",
       "      <th>Square</th>\n",
       "      <th>LifeSquare</th>\n",
       "      <th>KitchenSquare</th>\n",
       "      <th>Floor</th>\n",
       "      <th>HouseFloor</th>\n",
       "      <th>HouseYear</th>\n",
       "      <th>Ecology_1</th>\n",
       "      <th>Ecology_2</th>\n",
       "      <th>Ecology_3</th>\n",
       "      <th>Social_1</th>\n",
       "      <th>Social_2</th>\n",
       "      <th>Social_3</th>\n",
       "      <th>Healthcare_1</th>\n",
       "      <th>Helthcare_2</th>\n",
       "      <th>Shops_1</th>\n",
       "      <th>Shops_2</th>\n",
       "      <th>Price</th>\n",
       "    </tr>\n",
       "  </thead>\n",
       "  <tbody>\n",
       "    <tr>\n",
       "      <th>0</th>\n",
       "      <td>11809</td>\n",
       "      <td>27</td>\n",
       "      <td>3.0</td>\n",
       "      <td>115.000000</td>\n",
       "      <td>NaN</td>\n",
       "      <td>10.0</td>\n",
       "      <td>4</td>\n",
       "      <td>10.0</td>\n",
       "      <td>2014</td>\n",
       "      <td>0.075439</td>\n",
       "      <td>B</td>\n",
       "      <td>B</td>\n",
       "      <td>11</td>\n",
       "      <td>3097</td>\n",
       "      <td>0</td>\n",
       "      <td>NaN</td>\n",
       "      <td>0</td>\n",
       "      <td>0</td>\n",
       "      <td>B</td>\n",
       "      <td>305018.875000</td>\n",
       "    </tr>\n",
       "    <tr>\n",
       "      <th>1</th>\n",
       "      <td>3013</td>\n",
       "      <td>22</td>\n",
       "      <td>1.0</td>\n",
       "      <td>39.843750</td>\n",
       "      <td>23.171875</td>\n",
       "      <td>8.0</td>\n",
       "      <td>7</td>\n",
       "      <td>8.0</td>\n",
       "      <td>1966</td>\n",
       "      <td>0.118530</td>\n",
       "      <td>B</td>\n",
       "      <td>B</td>\n",
       "      <td>30</td>\n",
       "      <td>6207</td>\n",
       "      <td>1</td>\n",
       "      <td>1183.0</td>\n",
       "      <td>1</td>\n",
       "      <td>0</td>\n",
       "      <td>B</td>\n",
       "      <td>177734.546875</td>\n",
       "    </tr>\n",
       "    <tr>\n",
       "      <th>2</th>\n",
       "      <td>8215</td>\n",
       "      <td>1</td>\n",
       "      <td>3.0</td>\n",
       "      <td>78.312500</td>\n",
       "      <td>47.687500</td>\n",
       "      <td>10.0</td>\n",
       "      <td>2</td>\n",
       "      <td>17.0</td>\n",
       "      <td>1988</td>\n",
       "      <td>0.025604</td>\n",
       "      <td>B</td>\n",
       "      <td>B</td>\n",
       "      <td>33</td>\n",
       "      <td>5261</td>\n",
       "      <td>0</td>\n",
       "      <td>240.0</td>\n",
       "      <td>3</td>\n",
       "      <td>1</td>\n",
       "      <td>B</td>\n",
       "      <td>282078.718750</td>\n",
       "    </tr>\n",
       "    <tr>\n",
       "      <th>3</th>\n",
       "      <td>2352</td>\n",
       "      <td>1</td>\n",
       "      <td>1.0</td>\n",
       "      <td>40.406250</td>\n",
       "      <td>NaN</td>\n",
       "      <td>1.0</td>\n",
       "      <td>10</td>\n",
       "      <td>22.0</td>\n",
       "      <td>1977</td>\n",
       "      <td>0.007122</td>\n",
       "      <td>B</td>\n",
       "      <td>B</td>\n",
       "      <td>1</td>\n",
       "      <td>264</td>\n",
       "      <td>0</td>\n",
       "      <td>NaN</td>\n",
       "      <td>0</td>\n",
       "      <td>1</td>\n",
       "      <td>B</td>\n",
       "      <td>168106.000000</td>\n",
       "    </tr>\n",
       "    <tr>\n",
       "      <th>4</th>\n",
       "      <td>13866</td>\n",
       "      <td>94</td>\n",
       "      <td>2.0</td>\n",
       "      <td>64.312500</td>\n",
       "      <td>38.562500</td>\n",
       "      <td>9.0</td>\n",
       "      <td>16</td>\n",
       "      <td>16.0</td>\n",
       "      <td>1972</td>\n",
       "      <td>0.282715</td>\n",
       "      <td>B</td>\n",
       "      <td>B</td>\n",
       "      <td>33</td>\n",
       "      <td>8667</td>\n",
       "      <td>2</td>\n",
       "      <td>NaN</td>\n",
       "      <td>0</td>\n",
       "      <td>6</td>\n",
       "      <td>B</td>\n",
       "      <td>343995.093750</td>\n",
       "    </tr>\n",
       "    <tr>\n",
       "      <th>...</th>\n",
       "      <td>...</td>\n",
       "      <td>...</td>\n",
       "      <td>...</td>\n",
       "      <td>...</td>\n",
       "      <td>...</td>\n",
       "      <td>...</td>\n",
       "      <td>...</td>\n",
       "      <td>...</td>\n",
       "      <td>...</td>\n",
       "      <td>...</td>\n",
       "      <td>...</td>\n",
       "      <td>...</td>\n",
       "      <td>...</td>\n",
       "      <td>...</td>\n",
       "      <td>...</td>\n",
       "      <td>...</td>\n",
       "      <td>...</td>\n",
       "      <td>...</td>\n",
       "      <td>...</td>\n",
       "      <td>...</td>\n",
       "    </tr>\n",
       "    <tr>\n",
       "      <th>9995</th>\n",
       "      <td>1260</td>\n",
       "      <td>61</td>\n",
       "      <td>2.0</td>\n",
       "      <td>49.093750</td>\n",
       "      <td>33.281250</td>\n",
       "      <td>6.0</td>\n",
       "      <td>3</td>\n",
       "      <td>12.0</td>\n",
       "      <td>1981</td>\n",
       "      <td>0.300293</td>\n",
       "      <td>B</td>\n",
       "      <td>B</td>\n",
       "      <td>52</td>\n",
       "      <td>10311</td>\n",
       "      <td>6</td>\n",
       "      <td>NaN</td>\n",
       "      <td>1</td>\n",
       "      <td>9</td>\n",
       "      <td>B</td>\n",
       "      <td>119367.453125</td>\n",
       "    </tr>\n",
       "    <tr>\n",
       "      <th>9996</th>\n",
       "      <td>16265</td>\n",
       "      <td>27</td>\n",
       "      <td>2.0</td>\n",
       "      <td>64.312500</td>\n",
       "      <td>37.031250</td>\n",
       "      <td>9.0</td>\n",
       "      <td>13</td>\n",
       "      <td>0.0</td>\n",
       "      <td>1977</td>\n",
       "      <td>0.072144</td>\n",
       "      <td>B</td>\n",
       "      <td>B</td>\n",
       "      <td>2</td>\n",
       "      <td>629</td>\n",
       "      <td>1</td>\n",
       "      <td>NaN</td>\n",
       "      <td>0</td>\n",
       "      <td>0</td>\n",
       "      <td>A</td>\n",
       "      <td>199715.156250</td>\n",
       "    </tr>\n",
       "    <tr>\n",
       "      <th>9997</th>\n",
       "      <td>2795</td>\n",
       "      <td>178</td>\n",
       "      <td>1.0</td>\n",
       "      <td>29.640625</td>\n",
       "      <td>16.562500</td>\n",
       "      <td>5.0</td>\n",
       "      <td>3</td>\n",
       "      <td>5.0</td>\n",
       "      <td>1958</td>\n",
       "      <td>0.460449</td>\n",
       "      <td>B</td>\n",
       "      <td>B</td>\n",
       "      <td>20</td>\n",
       "      <td>4386</td>\n",
       "      <td>14</td>\n",
       "      <td>NaN</td>\n",
       "      <td>1</td>\n",
       "      <td>5</td>\n",
       "      <td>B</td>\n",
       "      <td>165953.906250</td>\n",
       "    </tr>\n",
       "    <tr>\n",
       "      <th>9998</th>\n",
       "      <td>14561</td>\n",
       "      <td>21</td>\n",
       "      <td>1.0</td>\n",
       "      <td>32.343750</td>\n",
       "      <td>22.328125</td>\n",
       "      <td>5.0</td>\n",
       "      <td>3</td>\n",
       "      <td>9.0</td>\n",
       "      <td>1969</td>\n",
       "      <td>0.194458</td>\n",
       "      <td>B</td>\n",
       "      <td>B</td>\n",
       "      <td>47</td>\n",
       "      <td>8004</td>\n",
       "      <td>3</td>\n",
       "      <td>125.0</td>\n",
       "      <td>3</td>\n",
       "      <td>5</td>\n",
       "      <td>B</td>\n",
       "      <td>171842.406250</td>\n",
       "    </tr>\n",
       "    <tr>\n",
       "      <th>9999</th>\n",
       "      <td>7202</td>\n",
       "      <td>94</td>\n",
       "      <td>1.0</td>\n",
       "      <td>35.812500</td>\n",
       "      <td>22.296875</td>\n",
       "      <td>6.0</td>\n",
       "      <td>9</td>\n",
       "      <td>9.0</td>\n",
       "      <td>1975</td>\n",
       "      <td>0.127319</td>\n",
       "      <td>B</td>\n",
       "      <td>B</td>\n",
       "      <td>43</td>\n",
       "      <td>8429</td>\n",
       "      <td>3</td>\n",
       "      <td>NaN</td>\n",
       "      <td>3</td>\n",
       "      <td>9</td>\n",
       "      <td>B</td>\n",
       "      <td>177685.625000</td>\n",
       "    </tr>\n",
       "  </tbody>\n",
       "</table>\n",
       "<p>10000 rows × 20 columns</p>\n",
       "</div>"
      ],
      "text/plain": [
       "         Id  DistrictId  Rooms      Square  LifeSquare  KitchenSquare  Floor  \\\n",
       "0     11809          27    3.0  115.000000         NaN           10.0      4   \n",
       "1      3013          22    1.0   39.843750   23.171875            8.0      7   \n",
       "2      8215           1    3.0   78.312500   47.687500           10.0      2   \n",
       "3      2352           1    1.0   40.406250         NaN            1.0     10   \n",
       "4     13866          94    2.0   64.312500   38.562500            9.0     16   \n",
       "...     ...         ...    ...         ...         ...            ...    ...   \n",
       "9995   1260          61    2.0   49.093750   33.281250            6.0      3   \n",
       "9996  16265          27    2.0   64.312500   37.031250            9.0     13   \n",
       "9997   2795         178    1.0   29.640625   16.562500            5.0      3   \n",
       "9998  14561          21    1.0   32.343750   22.328125            5.0      3   \n",
       "9999   7202          94    1.0   35.812500   22.296875            6.0      9   \n",
       "\n",
       "      HouseFloor  HouseYear  Ecology_1 Ecology_2 Ecology_3  Social_1  \\\n",
       "0           10.0       2014   0.075439         B         B        11   \n",
       "1            8.0       1966   0.118530         B         B        30   \n",
       "2           17.0       1988   0.025604         B         B        33   \n",
       "3           22.0       1977   0.007122         B         B         1   \n",
       "4           16.0       1972   0.282715         B         B        33   \n",
       "...          ...        ...        ...       ...       ...       ...   \n",
       "9995        12.0       1981   0.300293         B         B        52   \n",
       "9996         0.0       1977   0.072144         B         B         2   \n",
       "9997         5.0       1958   0.460449         B         B        20   \n",
       "9998         9.0       1969   0.194458         B         B        47   \n",
       "9999         9.0       1975   0.127319         B         B        43   \n",
       "\n",
       "      Social_2  Social_3  Healthcare_1  Helthcare_2  Shops_1 Shops_2  \\\n",
       "0         3097         0           NaN            0        0       B   \n",
       "1         6207         1        1183.0            1        0       B   \n",
       "2         5261         0         240.0            3        1       B   \n",
       "3          264         0           NaN            0        1       B   \n",
       "4         8667         2           NaN            0        6       B   \n",
       "...        ...       ...           ...          ...      ...     ...   \n",
       "9995     10311         6           NaN            1        9       B   \n",
       "9996       629         1           NaN            0        0       A   \n",
       "9997      4386        14           NaN            1        5       B   \n",
       "9998      8004         3         125.0            3        5       B   \n",
       "9999      8429         3           NaN            3        9       B   \n",
       "\n",
       "              Price  \n",
       "0     305018.875000  \n",
       "1     177734.546875  \n",
       "2     282078.718750  \n",
       "3     168106.000000  \n",
       "4     343995.093750  \n",
       "...             ...  \n",
       "9995  119367.453125  \n",
       "9996  199715.156250  \n",
       "9997  165953.906250  \n",
       "9998  171842.406250  \n",
       "9999  177685.625000  \n",
       "\n",
       "[10000 rows x 20 columns]"
      ]
     },
     "execution_count": 1933,
     "metadata": {},
     "output_type": "execute_result"
    }
   ],
   "source": [
    "train_data"
   ]
  },
  {
   "cell_type": "code",
   "execution_count": 1934,
   "id": "fe1fcf04",
   "metadata": {},
   "outputs": [
    {
     "data": {
      "text/html": [
       "<div>\n",
       "<style scoped>\n",
       "    .dataframe tbody tr th:only-of-type {\n",
       "        vertical-align: middle;\n",
       "    }\n",
       "\n",
       "    .dataframe tbody tr th {\n",
       "        vertical-align: top;\n",
       "    }\n",
       "\n",
       "    .dataframe thead th {\n",
       "        text-align: right;\n",
       "    }\n",
       "</style>\n",
       "<table border=\"1\" class=\"dataframe\">\n",
       "  <thead>\n",
       "    <tr style=\"text-align: right;\">\n",
       "      <th></th>\n",
       "      <th>Id</th>\n",
       "      <th>DistrictId</th>\n",
       "      <th>Rooms</th>\n",
       "      <th>Square</th>\n",
       "      <th>LifeSquare</th>\n",
       "      <th>KitchenSquare</th>\n",
       "      <th>Floor</th>\n",
       "      <th>HouseFloor</th>\n",
       "      <th>HouseYear</th>\n",
       "      <th>Ecology_1</th>\n",
       "      <th>Social_1</th>\n",
       "      <th>Social_2</th>\n",
       "      <th>Social_3</th>\n",
       "      <th>Healthcare_1</th>\n",
       "      <th>Helthcare_2</th>\n",
       "      <th>Shops_1</th>\n",
       "      <th>Price</th>\n",
       "    </tr>\n",
       "  </thead>\n",
       "  <tbody>\n",
       "    <tr>\n",
       "      <th>count</th>\n",
       "      <td>10000.00000</td>\n",
       "      <td>10000.000000</td>\n",
       "      <td>10000.000000</td>\n",
       "      <td>1.000000e+04</td>\n",
       "      <td>7887.000000</td>\n",
       "      <td>1.000000e+04</td>\n",
       "      <td>10000.000000</td>\n",
       "      <td>1.000000e+04</td>\n",
       "      <td>1.000000e+04</td>\n",
       "      <td>10000.000000</td>\n",
       "      <td>10000.000000</td>\n",
       "      <td>10000.000000</td>\n",
       "      <td>10000.000000</td>\n",
       "      <td>5202.0</td>\n",
       "      <td>10000.000000</td>\n",
       "      <td>10000.000000</td>\n",
       "      <td>10000.000000</td>\n",
       "    </tr>\n",
       "    <tr>\n",
       "      <th>mean</th>\n",
       "      <td>8383.40770</td>\n",
       "      <td>50.400800</td>\n",
       "      <td>1.891602</td>\n",
       "      <td>inf</td>\n",
       "      <td>inf</td>\n",
       "      <td>6.273438e+00</td>\n",
       "      <td>8.526700</td>\n",
       "      <td>inf</td>\n",
       "      <td>3.990166e+03</td>\n",
       "      <td>0.118896</td>\n",
       "      <td>24.687000</td>\n",
       "      <td>5352.157400</td>\n",
       "      <td>8.039200</td>\n",
       "      <td>inf</td>\n",
       "      <td>1.319500</td>\n",
       "      <td>4.231300</td>\n",
       "      <td>214138.937500</td>\n",
       "    </tr>\n",
       "    <tr>\n",
       "      <th>std</th>\n",
       "      <td>4859.01902</td>\n",
       "      <td>43.587592</td>\n",
       "      <td>0.839844</td>\n",
       "      <td>inf</td>\n",
       "      <td>inf</td>\n",
       "      <td>inf</td>\n",
       "      <td>5.241148</td>\n",
       "      <td>6.777344e+00</td>\n",
       "      <td>2.005003e+05</td>\n",
       "      <td>0.119019</td>\n",
       "      <td>17.532614</td>\n",
       "      <td>4006.799803</td>\n",
       "      <td>23.831875</td>\n",
       "      <td>inf</td>\n",
       "      <td>1.493601</td>\n",
       "      <td>4.806341</td>\n",
       "      <td>92872.273438</td>\n",
       "    </tr>\n",
       "    <tr>\n",
       "      <th>min</th>\n",
       "      <td>0.00000</td>\n",
       "      <td>0.000000</td>\n",
       "      <td>0.000000</td>\n",
       "      <td>1.136719e+00</td>\n",
       "      <td>0.370605</td>\n",
       "      <td>0.000000e+00</td>\n",
       "      <td>1.000000</td>\n",
       "      <td>0.000000e+00</td>\n",
       "      <td>1.910000e+03</td>\n",
       "      <td>0.000000</td>\n",
       "      <td>0.000000</td>\n",
       "      <td>168.000000</td>\n",
       "      <td>0.000000</td>\n",
       "      <td>0.0</td>\n",
       "      <td>0.000000</td>\n",
       "      <td>0.000000</td>\n",
       "      <td>59174.777344</td>\n",
       "    </tr>\n",
       "    <tr>\n",
       "      <th>25%</th>\n",
       "      <td>4169.50000</td>\n",
       "      <td>20.000000</td>\n",
       "      <td>1.000000</td>\n",
       "      <td>4.178125e+01</td>\n",
       "      <td>22.765625</td>\n",
       "      <td>1.000000e+00</td>\n",
       "      <td>4.000000</td>\n",
       "      <td>9.000000e+00</td>\n",
       "      <td>1.974000e+03</td>\n",
       "      <td>0.017654</td>\n",
       "      <td>6.000000</td>\n",
       "      <td>1564.000000</td>\n",
       "      <td>0.000000</td>\n",
       "      <td>350.0</td>\n",
       "      <td>0.000000</td>\n",
       "      <td>1.000000</td>\n",
       "      <td>153872.628906</td>\n",
       "    </tr>\n",
       "    <tr>\n",
       "      <th>50%</th>\n",
       "      <td>8394.50000</td>\n",
       "      <td>36.000000</td>\n",
       "      <td>2.000000</td>\n",
       "      <td>5.250000e+01</td>\n",
       "      <td>32.781250</td>\n",
       "      <td>6.000000e+00</td>\n",
       "      <td>7.000000</td>\n",
       "      <td>1.300000e+01</td>\n",
       "      <td>1.977000e+03</td>\n",
       "      <td>0.075439</td>\n",
       "      <td>25.000000</td>\n",
       "      <td>5285.000000</td>\n",
       "      <td>2.000000</td>\n",
       "      <td>900.0</td>\n",
       "      <td>1.000000</td>\n",
       "      <td>3.000000</td>\n",
       "      <td>192269.648438</td>\n",
       "    </tr>\n",
       "    <tr>\n",
       "      <th>75%</th>\n",
       "      <td>12592.50000</td>\n",
       "      <td>75.000000</td>\n",
       "      <td>2.000000</td>\n",
       "      <td>6.587500e+01</td>\n",
       "      <td>45.125000</td>\n",
       "      <td>9.000000e+00</td>\n",
       "      <td>12.000000</td>\n",
       "      <td>1.700000e+01</td>\n",
       "      <td>2.001000e+03</td>\n",
       "      <td>0.195801</td>\n",
       "      <td>36.000000</td>\n",
       "      <td>7227.000000</td>\n",
       "      <td>5.000000</td>\n",
       "      <td>1548.0</td>\n",
       "      <td>2.000000</td>\n",
       "      <td>6.000000</td>\n",
       "      <td>249135.460938</td>\n",
       "    </tr>\n",
       "    <tr>\n",
       "      <th>max</th>\n",
       "      <td>16798.00000</td>\n",
       "      <td>209.000000</td>\n",
       "      <td>19.000000</td>\n",
       "      <td>6.410000e+02</td>\n",
       "      <td>7480.000000</td>\n",
       "      <td>2.014000e+03</td>\n",
       "      <td>42.000000</td>\n",
       "      <td>1.170000e+02</td>\n",
       "      <td>2.005201e+07</td>\n",
       "      <td>0.521973</td>\n",
       "      <td>74.000000</td>\n",
       "      <td>19083.000000</td>\n",
       "      <td>141.000000</td>\n",
       "      <td>4848.0</td>\n",
       "      <td>6.000000</td>\n",
       "      <td>23.000000</td>\n",
       "      <td>633233.437500</td>\n",
       "    </tr>\n",
       "  </tbody>\n",
       "</table>\n",
       "</div>"
      ],
      "text/plain": [
       "                Id    DistrictId         Rooms        Square   LifeSquare  \\\n",
       "count  10000.00000  10000.000000  10000.000000  1.000000e+04  7887.000000   \n",
       "mean    8383.40770     50.400800      1.891602           inf          inf   \n",
       "std     4859.01902     43.587592      0.839844           inf          inf   \n",
       "min        0.00000      0.000000      0.000000  1.136719e+00     0.370605   \n",
       "25%     4169.50000     20.000000      1.000000  4.178125e+01    22.765625   \n",
       "50%     8394.50000     36.000000      2.000000  5.250000e+01    32.781250   \n",
       "75%    12592.50000     75.000000      2.000000  6.587500e+01    45.125000   \n",
       "max    16798.00000    209.000000     19.000000  6.410000e+02  7480.000000   \n",
       "\n",
       "       KitchenSquare         Floor    HouseFloor     HouseYear     Ecology_1  \\\n",
       "count   1.000000e+04  10000.000000  1.000000e+04  1.000000e+04  10000.000000   \n",
       "mean    6.273438e+00      8.526700           inf  3.990166e+03      0.118896   \n",
       "std              inf      5.241148  6.777344e+00  2.005003e+05      0.119019   \n",
       "min     0.000000e+00      1.000000  0.000000e+00  1.910000e+03      0.000000   \n",
       "25%     1.000000e+00      4.000000  9.000000e+00  1.974000e+03      0.017654   \n",
       "50%     6.000000e+00      7.000000  1.300000e+01  1.977000e+03      0.075439   \n",
       "75%     9.000000e+00     12.000000  1.700000e+01  2.001000e+03      0.195801   \n",
       "max     2.014000e+03     42.000000  1.170000e+02  2.005201e+07      0.521973   \n",
       "\n",
       "           Social_1      Social_2      Social_3  Healthcare_1   Helthcare_2  \\\n",
       "count  10000.000000  10000.000000  10000.000000        5202.0  10000.000000   \n",
       "mean      24.687000   5352.157400      8.039200           inf      1.319500   \n",
       "std       17.532614   4006.799803     23.831875           inf      1.493601   \n",
       "min        0.000000    168.000000      0.000000           0.0      0.000000   \n",
       "25%        6.000000   1564.000000      0.000000         350.0      0.000000   \n",
       "50%       25.000000   5285.000000      2.000000         900.0      1.000000   \n",
       "75%       36.000000   7227.000000      5.000000        1548.0      2.000000   \n",
       "max       74.000000  19083.000000    141.000000        4848.0      6.000000   \n",
       "\n",
       "            Shops_1          Price  \n",
       "count  10000.000000   10000.000000  \n",
       "mean       4.231300  214138.937500  \n",
       "std        4.806341   92872.273438  \n",
       "min        0.000000   59174.777344  \n",
       "25%        1.000000  153872.628906  \n",
       "50%        3.000000  192269.648438  \n",
       "75%        6.000000  249135.460938  \n",
       "max       23.000000  633233.437500  "
      ]
     },
     "execution_count": 1934,
     "metadata": {},
     "output_type": "execute_result"
    }
   ],
   "source": [
    "train_data.describe()"
   ]
  },
  {
   "cell_type": "markdown",
   "id": "dd898d76",
   "metadata": {},
   "source": [
    "## Работа с признаками/переменными"
   ]
  },
  {
   "cell_type": "markdown",
   "id": "52a78244",
   "metadata": {},
   "source": [
    "### Id и DistrictId"
   ]
  },
  {
   "cell_type": "code",
   "execution_count": 1935,
   "id": "abf14582",
   "metadata": {},
   "outputs": [
    {
     "data": {
      "text/plain": [
       "dtype('int16')"
      ]
     },
     "execution_count": 1935,
     "metadata": {},
     "output_type": "execute_result"
    }
   ],
   "source": [
    "train_data['DistrictId'].dtype"
   ]
  },
  {
   "cell_type": "code",
   "execution_count": 1936,
   "id": "b21813a0",
   "metadata": {},
   "outputs": [
    {
     "data": {
      "text/plain": [
       "dtype('int16')"
      ]
     },
     "execution_count": 1936,
     "metadata": {},
     "output_type": "execute_result"
    }
   ],
   "source": [
    "train_data['Id'].dtype"
   ]
  },
  {
   "cell_type": "code",
   "execution_count": 1937,
   "id": "be3bede8",
   "metadata": {},
   "outputs": [
    {
     "data": {
      "text/plain": [
       "0    27\n",
       "1    22\n",
       "2     1\n",
       "3     1\n",
       "4    94\n",
       "Name: DistrictId, dtype: int16"
      ]
     },
     "execution_count": 1937,
     "metadata": {},
     "output_type": "execute_result"
    }
   ],
   "source": [
    "train_data['DistrictId'].head(5)"
   ]
  },
  {
   "cell_type": "code",
   "execution_count": 1938,
   "id": "0de7f2e4",
   "metadata": {},
   "outputs": [
    {
     "data": {
      "text/plain": [
       "0    11809\n",
       "1     3013\n",
       "2     8215\n",
       "3     2352\n",
       "4    13866\n",
       "Name: Id, dtype: int16"
      ]
     },
     "execution_count": 1938,
     "metadata": {},
     "output_type": "execute_result"
    }
   ],
   "source": [
    "train_data['Id'].head(5)"
   ]
  },
  {
   "cell_type": "markdown",
   "id": "30e35525",
   "metadata": {},
   "source": [
    "*** Id - идентификационный номер квартиры\n",
    "    DistrictId - идентификационный номер района\n",
    "Индексs не представляют интереса, как признак, способный повлиять на цену жилья, поэтому можно его удалить ***"
   ]
  },
  {
   "cell_type": "code",
   "execution_count": 1939,
   "id": "c1718936",
   "metadata": {},
   "outputs": [],
   "source": [
    "train_data.drop(['Id', 'DistrictId'], axis=1,inplace=True)"
   ]
  },
  {
   "cell_type": "code",
   "execution_count": 1940,
   "id": "a9f5bcb6",
   "metadata": {},
   "outputs": [
    {
     "data": {
      "text/plain": [
       "Index(['Rooms', 'Square', 'LifeSquare', 'KitchenSquare', 'Floor', 'HouseFloor',\n",
       "       'HouseYear', 'Ecology_1', 'Ecology_2', 'Ecology_3', 'Social_1',\n",
       "       'Social_2', 'Social_3', 'Healthcare_1', 'Helthcare_2', 'Shops_1',\n",
       "       'Shops_2', 'Price'],\n",
       "      dtype='object')"
      ]
     },
     "execution_count": 1940,
     "metadata": {},
     "output_type": "execute_result"
    }
   ],
   "source": [
    "train_data.columns"
   ]
  },
  {
   "cell_type": "code",
   "execution_count": 1941,
   "id": "6d5e9c66",
   "metadata": {},
   "outputs": [
    {
     "data": {
      "text/plain": [
       "Index(['Id', 'DistrictId', 'Rooms', 'Square', 'LifeSquare', 'KitchenSquare',\n",
       "       'Floor', 'HouseFloor', 'HouseYear', 'Ecology_1', 'Ecology_2',\n",
       "       'Ecology_3', 'Social_1', 'Social_2', 'Social_3', 'Healthcare_1',\n",
       "       'Helthcare_2', 'Shops_1', 'Shops_2'],\n",
       "      dtype='object')"
      ]
     },
     "execution_count": 1941,
     "metadata": {},
     "output_type": "execute_result"
    }
   ],
   "source": [
    "test_data.columns"
   ]
  },
  {
   "cell_type": "markdown",
   "id": "05c0089f",
   "metadata": {},
   "source": [
    "### Rooms"
   ]
  },
  {
   "cell_type": "code",
   "execution_count": 1942,
   "id": "9348d959",
   "metadata": {},
   "outputs": [
    {
     "data": {
      "text/plain": [
       "dtype('float16')"
      ]
     },
     "execution_count": 1942,
     "metadata": {},
     "output_type": "execute_result"
    }
   ],
   "source": [
    "train_data['Rooms'].dtype"
   ]
  },
  {
   "cell_type": "code",
   "execution_count": 1943,
   "id": "49533bba",
   "metadata": {
    "scrolled": true
   },
   "outputs": [
    {
     "data": {
      "text/plain": [
       "2.0     3880\n",
       "1.0     3705\n",
       "3.0     2235\n",
       "4.0      150\n",
       "5.0       18\n",
       "0.0        8\n",
       "10.0       2\n",
       "19.0       1\n",
       "6.0        1\n",
       "Name: Rooms, dtype: int64"
      ]
     },
     "execution_count": 1943,
     "metadata": {},
     "output_type": "execute_result"
    }
   ],
   "source": [
    "train_data['Rooms'].value_counts()"
   ]
  },
  {
   "cell_type": "code",
   "execution_count": 1944,
   "id": "17ff0ed8",
   "metadata": {},
   "outputs": [
    {
     "data": {
      "text/plain": [
       "<AxesSubplot:title={'center':'Distribution of amount of rooms in apartment'}, xlabel='Rooms', ylabel='Number of apartments'>"
      ]
     },
     "execution_count": 1944,
     "metadata": {},
     "output_type": "execute_result"
    },
    {
     "data": {
      "image/png": "[encoded data removed]",
      "text/plain": [
       "<Figure size 1152x576 with 1 Axes>"
      ]
     },
     "metadata": {
      "needs_background": "light"
     },
     "output_type": "display_data"
    }
   ],
   "source": [
    "plt.figure(figsize=(16,8))\n",
    "plt.ylabel('Number of apartments')\n",
    "plt.xlabel('Rooms')\n",
    "plt.title('Distribution of amount of rooms in apartment')\n",
    "train_data['Rooms'].hist(bins=20,edgecolor='black')"
   ]
  },
  {
   "cell_type": "markdown",
   "id": "a58ffe85",
   "metadata": {},
   "source": [
    "***Основной массив квартир приходится на количество комнат от 1 до 4. Количество комнат, равное нулю, является явной ошибкой, их,а также комнаты с 6 и более квартирами имеет смысл обработать, как выбросы, заменив на моду.***"
   ]
  },
  {
   "cell_type": "code",
   "execution_count": 1945,
   "id": "8a6ddbcc",
   "metadata": {},
   "outputs": [
    {
     "data": {
      "text/plain": [
       "2.0    3892\n",
       "1.0    3705\n",
       "3.0    2235\n",
       "4.0     150\n",
       "5.0      18\n",
       "Name: Rooms, dtype: int64"
      ]
     },
     "execution_count": 1945,
     "metadata": {},
     "output_type": "execute_result"
    }
   ],
   "source": [
    "Rooms_mode = train_data['Rooms'].mode()[0]\n",
    "train_data.loc[(train_data['Rooms'] < 1)|(train_data['Rooms']>5),'Rooms'] = Rooms_mode\n",
    "train_data['Rooms'].value_counts()"
   ]
  },
  {
   "cell_type": "code",
   "execution_count": 1946,
   "id": "dd076e6f",
   "metadata": {},
   "outputs": [
    {
     "data": {
      "text/html": [
       "<div>\n",
       "<style scoped>\n",
       "    .dataframe tbody tr th:only-of-type {\n",
       "        vertical-align: middle;\n",
       "    }\n",
       "\n",
       "    .dataframe tbody tr th {\n",
       "        vertical-align: top;\n",
       "    }\n",
       "\n",
       "    .dataframe thead th {\n",
       "        text-align: right;\n",
       "    }\n",
       "</style>\n",
       "<table border=\"1\" class=\"dataframe\">\n",
       "  <thead>\n",
       "    <tr style=\"text-align: right;\">\n",
       "      <th></th>\n",
       "      <th>Rooms</th>\n",
       "      <th>Square</th>\n",
       "      <th>LifeSquare</th>\n",
       "      <th>KitchenSquare</th>\n",
       "      <th>Floor</th>\n",
       "      <th>HouseFloor</th>\n",
       "      <th>HouseYear</th>\n",
       "      <th>Ecology_1</th>\n",
       "      <th>Social_1</th>\n",
       "      <th>Social_2</th>\n",
       "      <th>Social_3</th>\n",
       "      <th>Healthcare_1</th>\n",
       "      <th>Helthcare_2</th>\n",
       "      <th>Shops_1</th>\n",
       "      <th>Price</th>\n",
       "    </tr>\n",
       "  </thead>\n",
       "  <tbody>\n",
       "    <tr>\n",
       "      <th>count</th>\n",
       "      <td>10000.000000</td>\n",
       "      <td>1.000000e+04</td>\n",
       "      <td>7887.000000</td>\n",
       "      <td>1.000000e+04</td>\n",
       "      <td>10000.000000</td>\n",
       "      <td>1.000000e+04</td>\n",
       "      <td>1.000000e+04</td>\n",
       "      <td>10000.000000</td>\n",
       "      <td>10000.000000</td>\n",
       "      <td>10000.000000</td>\n",
       "      <td>10000.000000</td>\n",
       "      <td>5202.0</td>\n",
       "      <td>10000.000000</td>\n",
       "      <td>10000.000000</td>\n",
       "      <td>10000.000000</td>\n",
       "    </tr>\n",
       "    <tr>\n",
       "      <th>mean</th>\n",
       "      <td>1.887695</td>\n",
       "      <td>inf</td>\n",
       "      <td>inf</td>\n",
       "      <td>6.273438e+00</td>\n",
       "      <td>8.526700</td>\n",
       "      <td>inf</td>\n",
       "      <td>3.990166e+03</td>\n",
       "      <td>0.118896</td>\n",
       "      <td>24.687000</td>\n",
       "      <td>5352.157400</td>\n",
       "      <td>8.039200</td>\n",
       "      <td>inf</td>\n",
       "      <td>1.319500</td>\n",
       "      <td>4.231300</td>\n",
       "      <td>214138.937500</td>\n",
       "    </tr>\n",
       "    <tr>\n",
       "      <th>std</th>\n",
       "      <td>0.811035</td>\n",
       "      <td>inf</td>\n",
       "      <td>inf</td>\n",
       "      <td>inf</td>\n",
       "      <td>5.241148</td>\n",
       "      <td>6.777344e+00</td>\n",
       "      <td>2.005003e+05</td>\n",
       "      <td>0.119019</td>\n",
       "      <td>17.532614</td>\n",
       "      <td>4006.799803</td>\n",
       "      <td>23.831875</td>\n",
       "      <td>inf</td>\n",
       "      <td>1.493601</td>\n",
       "      <td>4.806341</td>\n",
       "      <td>92872.273438</td>\n",
       "    </tr>\n",
       "    <tr>\n",
       "      <th>min</th>\n",
       "      <td>1.000000</td>\n",
       "      <td>1.136719e+00</td>\n",
       "      <td>0.370605</td>\n",
       "      <td>0.000000e+00</td>\n",
       "      <td>1.000000</td>\n",
       "      <td>0.000000e+00</td>\n",
       "      <td>1.910000e+03</td>\n",
       "      <td>0.000000</td>\n",
       "      <td>0.000000</td>\n",
       "      <td>168.000000</td>\n",
       "      <td>0.000000</td>\n",
       "      <td>0.0</td>\n",
       "      <td>0.000000</td>\n",
       "      <td>0.000000</td>\n",
       "      <td>59174.777344</td>\n",
       "    </tr>\n",
       "    <tr>\n",
       "      <th>25%</th>\n",
       "      <td>1.000000</td>\n",
       "      <td>4.178125e+01</td>\n",
       "      <td>22.765625</td>\n",
       "      <td>1.000000e+00</td>\n",
       "      <td>4.000000</td>\n",
       "      <td>9.000000e+00</td>\n",
       "      <td>1.974000e+03</td>\n",
       "      <td>0.017654</td>\n",
       "      <td>6.000000</td>\n",
       "      <td>1564.000000</td>\n",
       "      <td>0.000000</td>\n",
       "      <td>350.0</td>\n",
       "      <td>0.000000</td>\n",
       "      <td>1.000000</td>\n",
       "      <td>153872.628906</td>\n",
       "    </tr>\n",
       "    <tr>\n",
       "      <th>50%</th>\n",
       "      <td>2.000000</td>\n",
       "      <td>5.250000e+01</td>\n",
       "      <td>32.781250</td>\n",
       "      <td>6.000000e+00</td>\n",
       "      <td>7.000000</td>\n",
       "      <td>1.300000e+01</td>\n",
       "      <td>1.977000e+03</td>\n",
       "      <td>0.075439</td>\n",
       "      <td>25.000000</td>\n",
       "      <td>5285.000000</td>\n",
       "      <td>2.000000</td>\n",
       "      <td>900.0</td>\n",
       "      <td>1.000000</td>\n",
       "      <td>3.000000</td>\n",
       "      <td>192269.648438</td>\n",
       "    </tr>\n",
       "    <tr>\n",
       "      <th>75%</th>\n",
       "      <td>2.000000</td>\n",
       "      <td>6.587500e+01</td>\n",
       "      <td>45.125000</td>\n",
       "      <td>9.000000e+00</td>\n",
       "      <td>12.000000</td>\n",
       "      <td>1.700000e+01</td>\n",
       "      <td>2.001000e+03</td>\n",
       "      <td>0.195801</td>\n",
       "      <td>36.000000</td>\n",
       "      <td>7227.000000</td>\n",
       "      <td>5.000000</td>\n",
       "      <td>1548.0</td>\n",
       "      <td>2.000000</td>\n",
       "      <td>6.000000</td>\n",
       "      <td>249135.460938</td>\n",
       "    </tr>\n",
       "    <tr>\n",
       "      <th>max</th>\n",
       "      <td>5.000000</td>\n",
       "      <td>6.410000e+02</td>\n",
       "      <td>7480.000000</td>\n",
       "      <td>2.014000e+03</td>\n",
       "      <td>42.000000</td>\n",
       "      <td>1.170000e+02</td>\n",
       "      <td>2.005201e+07</td>\n",
       "      <td>0.521973</td>\n",
       "      <td>74.000000</td>\n",
       "      <td>19083.000000</td>\n",
       "      <td>141.000000</td>\n",
       "      <td>4848.0</td>\n",
       "      <td>6.000000</td>\n",
       "      <td>23.000000</td>\n",
       "      <td>633233.437500</td>\n",
       "    </tr>\n",
       "  </tbody>\n",
       "</table>\n",
       "</div>"
      ],
      "text/plain": [
       "              Rooms        Square   LifeSquare  KitchenSquare         Floor  \\\n",
       "count  10000.000000  1.000000e+04  7887.000000   1.000000e+04  10000.000000   \n",
       "mean       1.887695           inf          inf   6.273438e+00      8.526700   \n",
       "std        0.811035           inf          inf            inf      5.241148   \n",
       "min        1.000000  1.136719e+00     0.370605   0.000000e+00      1.000000   \n",
       "25%        1.000000  4.178125e+01    22.765625   1.000000e+00      4.000000   \n",
       "50%        2.000000  5.250000e+01    32.781250   6.000000e+00      7.000000   \n",
       "75%        2.000000  6.587500e+01    45.125000   9.000000e+00     12.000000   \n",
       "max        5.000000  6.410000e+02  7480.000000   2.014000e+03     42.000000   \n",
       "\n",
       "         HouseFloor     HouseYear     Ecology_1      Social_1      Social_2  \\\n",
       "count  1.000000e+04  1.000000e+04  10000.000000  10000.000000  10000.000000   \n",
       "mean            inf  3.990166e+03      0.118896     24.687000   5352.157400   \n",
       "std    6.777344e+00  2.005003e+05      0.119019     17.532614   4006.799803   \n",
       "min    0.000000e+00  1.910000e+03      0.000000      0.000000    168.000000   \n",
       "25%    9.000000e+00  1.974000e+03      0.017654      6.000000   1564.000000   \n",
       "50%    1.300000e+01  1.977000e+03      0.075439     25.000000   5285.000000   \n",
       "75%    1.700000e+01  2.001000e+03      0.195801     36.000000   7227.000000   \n",
       "max    1.170000e+02  2.005201e+07      0.521973     74.000000  19083.000000   \n",
       "\n",
       "           Social_3  Healthcare_1   Helthcare_2       Shops_1          Price  \n",
       "count  10000.000000        5202.0  10000.000000  10000.000000   10000.000000  \n",
       "mean       8.039200           inf      1.319500      4.231300  214138.937500  \n",
       "std       23.831875           inf      1.493601      4.806341   92872.273438  \n",
       "min        0.000000           0.0      0.000000      0.000000   59174.777344  \n",
       "25%        0.000000         350.0      0.000000      1.000000  153872.628906  \n",
       "50%        2.000000         900.0      1.000000      3.000000  192269.648438  \n",
       "75%        5.000000        1548.0      2.000000      6.000000  249135.460938  \n",
       "max      141.000000        4848.0      6.000000     23.000000  633233.437500  "
      ]
     },
     "execution_count": 1946,
     "metadata": {},
     "output_type": "execute_result"
    }
   ],
   "source": [
    "train_data.describe()"
   ]
  },
  {
   "cell_type": "markdown",
   "id": "434066cf",
   "metadata": {},
   "source": [
    "### Square\tLifeSquare\tKitchenSquare"
   ]
  },
  {
   "cell_type": "code",
   "execution_count": 1947,
   "id": "6cf591cb",
   "metadata": {},
   "outputs": [
    {
     "data": {
      "text/plain": [
       "<AxesSubplot:title={'center':'Distribution of KitchenSquare in apartment'}, xlabel='KitchenSquare'>"
      ]
     },
     "execution_count": 1947,
     "metadata": {},
     "output_type": "execute_result"
    },
    {
     "data": {
      "image/png": "[encoded data removed]",
      "text/plain": [
       "<Figure size 1152x576 with 3 Axes>"
      ]
     },
     "metadata": {
      "needs_background": "light"
     },
     "output_type": "display_data"
    }
   ],
   "source": [
    "plt.figure(figsize=(16,8))\n",
    "plt.subplot(131)\n",
    "plt.ylabel('Number of apartments')\n",
    "plt.xlabel('Square')\n",
    "plt.title('Distribution of Square in apartment')\n",
    "train_data['Square'].hist(bins=30)\n",
    "\n",
    "plt.subplot(132)\n",
    "plt.xlabel('LifeSquare')\n",
    "plt.title('Distribution of LifeSquare in apartment')\n",
    "train_data['LifeSquare'].hist(bins=30)\n",
    "\n",
    "plt.subplot(133)\n",
    "plt.xlabel('KitchenSquare')\n",
    "plt.title('Distribution of KitchenSquare in apartment')\n",
    "train_data['KitchenSquare'].hist(bins=30)\n"
   ]
  },
  {
   "cell_type": "markdown",
   "id": "f682e875",
   "metadata": {},
   "source": [
    "***Наблюдается неадекватное распределение всех трех площадей (особенно LifeSquare и KitchenSquare, что вероятно связано с большим количеством пропусков/выбросов. Также наблюдается неадекватное соотношение данных величин, при которых LifeSquare и KitchenSquare оказываются больше общей площади Square***"
   ]
  },
  {
   "cell_type": "code",
   "execution_count": 1948,
   "id": "180508aa",
   "metadata": {},
   "outputs": [
    {
     "data": {
      "text/plain": [
       "726     604.500\n",
       "1776    200.375\n",
       "1906    275.750\n",
       "7010    409.500\n",
       "7644    212.875\n",
       "9229    641.000\n",
       "Name: Square, dtype: float16"
      ]
     },
     "execution_count": 1948,
     "metadata": {},
     "output_type": "execute_result"
    }
   ],
   "source": [
    "train_data.loc[(train_data['Square']>200),'Square'] ### Наблюдаем лишь пять значений общей площади, превышающих значение 200 кв.м."
   ]
  },
  {
   "cell_type": "code",
   "execution_count": 1949,
   "id": "ad7205fc",
   "metadata": {},
   "outputs": [
    {
     "data": {
      "text/plain": [
       "357      263.500\n",
       "1776     201.625\n",
       "1906     234.000\n",
       "5183     461.500\n",
       "7010     410.750\n",
       "7644     211.250\n",
       "8000    7480.000\n",
       "9229     638.000\n",
       "Name: LifeSquare, dtype: float16"
      ]
     },
     "execution_count": 1949,
     "metadata": {},
     "output_type": "execute_result"
    }
   ],
   "source": [
    "train_data.loc[(train_data['LifeSquare']>200),'LifeSquare'] "
   ]
  },
  {
   "cell_type": "markdown",
   "id": "e74577fe",
   "metadata": {},
   "source": [
    "***Наблюдаем восемь значений, среди которых явно ошибочное значение 7480 кв.м., также видим случаи, где жилая площадь практически равна общей площади или даже превышают ее, что также не может быть правдой***"
   ]
  },
  {
   "cell_type": "code",
   "execution_count": 1950,
   "id": "02826db2",
   "metadata": {},
   "outputs": [
    {
     "data": {
      "text/plain": [
       "8000    81.6875\n",
       "Name: Square, dtype: float16"
      ]
     },
     "execution_count": 1950,
     "metadata": {},
     "output_type": "execute_result"
    }
   ],
   "source": [
    "train_data.loc[(train_data['LifeSquare']==7480),'Square'] "
   ]
  },
  {
   "cell_type": "markdown",
   "id": "efb9f11d",
   "metadata": {},
   "source": [
    "***Для данного значения под индексом 8000 имеем значение общей площади, равное 81 кв.м. ==> данное значение является ошибкой, возникшей в ходе сбора/обработки данных***"
   ]
  },
  {
   "cell_type": "code",
   "execution_count": 1951,
   "id": "2e48d8b4",
   "metadata": {},
   "outputs": [
    {
     "data": {
      "text/plain": [
       "6505    1970.0\n",
       "9520    2014.0\n",
       "Name: KitchenSquare, dtype: float16"
      ]
     },
     "execution_count": 1951,
     "metadata": {},
     "output_type": "execute_result"
    }
   ],
   "source": [
    "train_data.loc[(train_data['KitchenSquare']>200),'KitchenSquare']"
   ]
  },
  {
   "cell_type": "code",
   "execution_count": 1952,
   "id": "43c5aadc",
   "metadata": {},
   "outputs": [
    {
     "data": {
      "text/plain": [
       "6505    32.28125\n",
       "9520    47.09375\n",
       "Name: Square, dtype: float16"
      ]
     },
     "execution_count": 1952,
     "metadata": {},
     "output_type": "execute_result"
    }
   ],
   "source": [
    "train_data.loc[(train_data['KitchenSquare']>200),'Square']"
   ]
  },
  {
   "cell_type": "markdown",
   "id": "ca75be7c",
   "metadata": {},
   "source": [
    "***С показателем KitchenSquare аналогичная ситуация - явная ошибка при обработке данных***"
   ]
  },
  {
   "cell_type": "code",
   "execution_count": 1953,
   "id": "ee604cc1",
   "metadata": {},
   "outputs": [
    {
     "data": {
      "text/plain": [
       "33      74.12500\n",
       "64      87.75000\n",
       "77      39.62500\n",
       "100     82.93750\n",
       "111     32.50000\n",
       "          ...   \n",
       "9960    98.12500\n",
       "9962    44.68750\n",
       "9979    41.96875\n",
       "9987    64.62500\n",
       "9993    88.93750\n",
       "Name: LifeSquare, Length: 479, dtype: float16"
      ]
     },
     "execution_count": 1953,
     "metadata": {},
     "output_type": "execute_result"
    }
   ],
   "source": [
    "train_data.loc[(train_data['LifeSquare']>train_data['Square']),'LifeSquare'] # 479 значений, где жилая площадь больше общей"
   ]
  },
  {
   "cell_type": "code",
   "execution_count": 1954,
   "id": "7961af0b",
   "metadata": {
    "scrolled": true
   },
   "outputs": [
    {
     "data": {
      "text/plain": [
       "2785      84.0\n",
       "5273      73.0\n",
       "6505    1970.0\n",
       "9520    2014.0\n",
       "Name: KitchenSquare, dtype: float16"
      ]
     },
     "execution_count": 1954,
     "metadata": {},
     "output_type": "execute_result"
    }
   ],
   "source": [
    "train_data.loc[(train_data['KitchenSquare']>train_data['Square']),'KitchenSquare'] # 4 значения, где кухня больше общей площади"
   ]
  },
  {
   "cell_type": "code",
   "execution_count": 1955,
   "id": "70489677",
   "metadata": {},
   "outputs": [
    {
     "data": {
      "text/plain": [
       "0.11426"
      ]
     },
     "execution_count": 1955,
     "metadata": {},
     "output_type": "execute_result"
    }
   ],
   "source": [
    "kitchen_to_square = train_data['KitchenSquare'].median() / train_data['Square'].median()\n",
    "kitchen_to_square # среднее отношение площади кухни к площади квартиры"
   ]
  },
  {
   "cell_type": "code",
   "execution_count": 1956,
   "id": "6134d3a0",
   "metadata": {},
   "outputs": [
    {
     "data": {
      "text/plain": [
       "0.6245"
      ]
     },
     "execution_count": 1956,
     "metadata": {},
     "output_type": "execute_result"
    }
   ],
   "source": [
    "life_to_square = train_data['LifeSquare'].median() / train_data['Square'].median()\n",
    "life_to_square # среднее отношение жилой площади к общей площади квартиры"
   ]
  },
  {
   "cell_type": "code",
   "execution_count": 1957,
   "id": "7ed54c82",
   "metadata": {},
   "outputs": [
    {
     "data": {
      "text/html": [
       "<div>\n",
       "<style scoped>\n",
       "    .dataframe tbody tr th:only-of-type {\n",
       "        vertical-align: middle;\n",
       "    }\n",
       "\n",
       "    .dataframe tbody tr th {\n",
       "        vertical-align: top;\n",
       "    }\n",
       "\n",
       "    .dataframe thead th {\n",
       "        text-align: right;\n",
       "    }\n",
       "</style>\n",
       "<table border=\"1\" class=\"dataframe\">\n",
       "  <thead>\n",
       "    <tr style=\"text-align: right;\">\n",
       "      <th></th>\n",
       "      <th>Rooms</th>\n",
       "      <th>Square</th>\n",
       "      <th>LifeSquare</th>\n",
       "      <th>KitchenSquare</th>\n",
       "      <th>Floor</th>\n",
       "      <th>HouseFloor</th>\n",
       "      <th>HouseYear</th>\n",
       "      <th>Ecology_1</th>\n",
       "      <th>Social_1</th>\n",
       "      <th>Social_2</th>\n",
       "      <th>Social_3</th>\n",
       "      <th>Healthcare_1</th>\n",
       "      <th>Helthcare_2</th>\n",
       "      <th>Shops_1</th>\n",
       "      <th>Price</th>\n",
       "    </tr>\n",
       "  </thead>\n",
       "  <tbody>\n",
       "    <tr>\n",
       "      <th>count</th>\n",
       "      <td>10000.000000</td>\n",
       "      <td>1.000000e+04</td>\n",
       "      <td>7887.000000</td>\n",
       "      <td>10000.000000</td>\n",
       "      <td>10000.000000</td>\n",
       "      <td>1.000000e+04</td>\n",
       "      <td>1.000000e+04</td>\n",
       "      <td>10000.000000</td>\n",
       "      <td>10000.000000</td>\n",
       "      <td>10000.000000</td>\n",
       "      <td>10000.000000</td>\n",
       "      <td>5202.0</td>\n",
       "      <td>10000.000000</td>\n",
       "      <td>10000.000000</td>\n",
       "      <td>10000.000000</td>\n",
       "    </tr>\n",
       "    <tr>\n",
       "      <th>mean</th>\n",
       "      <td>1.887695</td>\n",
       "      <td>inf</td>\n",
       "      <td>inf</td>\n",
       "      <td>5.859375</td>\n",
       "      <td>8.526700</td>\n",
       "      <td>inf</td>\n",
       "      <td>3.990166e+03</td>\n",
       "      <td>0.118896</td>\n",
       "      <td>24.687000</td>\n",
       "      <td>5352.157400</td>\n",
       "      <td>8.039200</td>\n",
       "      <td>inf</td>\n",
       "      <td>1.319500</td>\n",
       "      <td>4.231300</td>\n",
       "      <td>214138.937500</td>\n",
       "    </tr>\n",
       "    <tr>\n",
       "      <th>std</th>\n",
       "      <td>0.811035</td>\n",
       "      <td>inf</td>\n",
       "      <td>inf</td>\n",
       "      <td>5.070312</td>\n",
       "      <td>5.241148</td>\n",
       "      <td>6.777344e+00</td>\n",
       "      <td>2.005003e+05</td>\n",
       "      <td>0.119019</td>\n",
       "      <td>17.532614</td>\n",
       "      <td>4006.799803</td>\n",
       "      <td>23.831875</td>\n",
       "      <td>inf</td>\n",
       "      <td>1.493601</td>\n",
       "      <td>4.806341</td>\n",
       "      <td>92872.273438</td>\n",
       "    </tr>\n",
       "    <tr>\n",
       "      <th>min</th>\n",
       "      <td>1.000000</td>\n",
       "      <td>1.136719e+00</td>\n",
       "      <td>0.370605</td>\n",
       "      <td>0.000000</td>\n",
       "      <td>1.000000</td>\n",
       "      <td>0.000000e+00</td>\n",
       "      <td>1.910000e+03</td>\n",
       "      <td>0.000000</td>\n",
       "      <td>0.000000</td>\n",
       "      <td>168.000000</td>\n",
       "      <td>0.000000</td>\n",
       "      <td>0.0</td>\n",
       "      <td>0.000000</td>\n",
       "      <td>0.000000</td>\n",
       "      <td>59174.777344</td>\n",
       "    </tr>\n",
       "    <tr>\n",
       "      <th>25%</th>\n",
       "      <td>1.000000</td>\n",
       "      <td>4.178125e+01</td>\n",
       "      <td>22.765625</td>\n",
       "      <td>1.000000</td>\n",
       "      <td>4.000000</td>\n",
       "      <td>9.000000e+00</td>\n",
       "      <td>1.974000e+03</td>\n",
       "      <td>0.017654</td>\n",
       "      <td>6.000000</td>\n",
       "      <td>1564.000000</td>\n",
       "      <td>0.000000</td>\n",
       "      <td>350.0</td>\n",
       "      <td>0.000000</td>\n",
       "      <td>1.000000</td>\n",
       "      <td>153872.628906</td>\n",
       "    </tr>\n",
       "    <tr>\n",
       "      <th>50%</th>\n",
       "      <td>2.000000</td>\n",
       "      <td>5.250000e+01</td>\n",
       "      <td>32.781250</td>\n",
       "      <td>6.000000</td>\n",
       "      <td>7.000000</td>\n",
       "      <td>1.300000e+01</td>\n",
       "      <td>1.977000e+03</td>\n",
       "      <td>0.075439</td>\n",
       "      <td>25.000000</td>\n",
       "      <td>5285.000000</td>\n",
       "      <td>2.000000</td>\n",
       "      <td>900.0</td>\n",
       "      <td>1.000000</td>\n",
       "      <td>3.000000</td>\n",
       "      <td>192269.648438</td>\n",
       "    </tr>\n",
       "    <tr>\n",
       "      <th>75%</th>\n",
       "      <td>2.000000</td>\n",
       "      <td>6.587500e+01</td>\n",
       "      <td>45.125000</td>\n",
       "      <td>9.000000</td>\n",
       "      <td>12.000000</td>\n",
       "      <td>1.700000e+01</td>\n",
       "      <td>2.001000e+03</td>\n",
       "      <td>0.195801</td>\n",
       "      <td>36.000000</td>\n",
       "      <td>7227.000000</td>\n",
       "      <td>5.000000</td>\n",
       "      <td>1548.0</td>\n",
       "      <td>2.000000</td>\n",
       "      <td>6.000000</td>\n",
       "      <td>249135.460938</td>\n",
       "    </tr>\n",
       "    <tr>\n",
       "      <th>max</th>\n",
       "      <td>5.000000</td>\n",
       "      <td>6.410000e+02</td>\n",
       "      <td>7480.000000</td>\n",
       "      <td>123.000000</td>\n",
       "      <td>42.000000</td>\n",
       "      <td>1.170000e+02</td>\n",
       "      <td>2.005201e+07</td>\n",
       "      <td>0.521973</td>\n",
       "      <td>74.000000</td>\n",
       "      <td>19083.000000</td>\n",
       "      <td>141.000000</td>\n",
       "      <td>4848.0</td>\n",
       "      <td>6.000000</td>\n",
       "      <td>23.000000</td>\n",
       "      <td>633233.437500</td>\n",
       "    </tr>\n",
       "  </tbody>\n",
       "</table>\n",
       "</div>"
      ],
      "text/plain": [
       "              Rooms        Square   LifeSquare  KitchenSquare         Floor  \\\n",
       "count  10000.000000  1.000000e+04  7887.000000   10000.000000  10000.000000   \n",
       "mean       1.887695           inf          inf       5.859375      8.526700   \n",
       "std        0.811035           inf          inf       5.070312      5.241148   \n",
       "min        1.000000  1.136719e+00     0.370605       0.000000      1.000000   \n",
       "25%        1.000000  4.178125e+01    22.765625       1.000000      4.000000   \n",
       "50%        2.000000  5.250000e+01    32.781250       6.000000      7.000000   \n",
       "75%        2.000000  6.587500e+01    45.125000       9.000000     12.000000   \n",
       "max        5.000000  6.410000e+02  7480.000000     123.000000     42.000000   \n",
       "\n",
       "         HouseFloor     HouseYear     Ecology_1      Social_1      Social_2  \\\n",
       "count  1.000000e+04  1.000000e+04  10000.000000  10000.000000  10000.000000   \n",
       "mean            inf  3.990166e+03      0.118896     24.687000   5352.157400   \n",
       "std    6.777344e+00  2.005003e+05      0.119019     17.532614   4006.799803   \n",
       "min    0.000000e+00  1.910000e+03      0.000000      0.000000    168.000000   \n",
       "25%    9.000000e+00  1.974000e+03      0.017654      6.000000   1564.000000   \n",
       "50%    1.300000e+01  1.977000e+03      0.075439     25.000000   5285.000000   \n",
       "75%    1.700000e+01  2.001000e+03      0.195801     36.000000   7227.000000   \n",
       "max    1.170000e+02  2.005201e+07      0.521973     74.000000  19083.000000   \n",
       "\n",
       "           Social_3  Healthcare_1   Helthcare_2       Shops_1          Price  \n",
       "count  10000.000000        5202.0  10000.000000  10000.000000   10000.000000  \n",
       "mean       8.039200           inf      1.319500      4.231300  214138.937500  \n",
       "std       23.831875           inf      1.493601      4.806341   92872.273438  \n",
       "min        0.000000           0.0      0.000000      0.000000   59174.777344  \n",
       "25%        0.000000         350.0      0.000000      1.000000  153872.628906  \n",
       "50%        2.000000         900.0      1.000000      3.000000  192269.648438  \n",
       "75%        5.000000        1548.0      2.000000      6.000000  249135.460938  \n",
       "max      141.000000        4848.0      6.000000     23.000000  633233.437500  "
      ]
     },
     "execution_count": 1957,
     "metadata": {},
     "output_type": "execute_result"
    }
   ],
   "source": [
    "train_data.loc[(train_data['KitchenSquare']>train_data['Square']),'KitchenSquare'] = train_data.loc[(train_data['KitchenSquare']>train_data['Square']),'Square'] * kitchen_to_square\n",
    "# Заполнить неадекватные значения в KitchenSquare можно отношением, полученным от умножения Square на среднее отношение kitchen_to_square\n",
    "train_data.describe()"
   ]
  },
  {
   "cell_type": "code",
   "execution_count": 1958,
   "id": "eaa10357",
   "metadata": {},
   "outputs": [
    {
     "data": {
      "text/html": [
       "<div>\n",
       "<style scoped>\n",
       "    .dataframe tbody tr th:only-of-type {\n",
       "        vertical-align: middle;\n",
       "    }\n",
       "\n",
       "    .dataframe tbody tr th {\n",
       "        vertical-align: top;\n",
       "    }\n",
       "\n",
       "    .dataframe thead th {\n",
       "        text-align: right;\n",
       "    }\n",
       "</style>\n",
       "<table border=\"1\" class=\"dataframe\">\n",
       "  <thead>\n",
       "    <tr style=\"text-align: right;\">\n",
       "      <th></th>\n",
       "      <th>Rooms</th>\n",
       "      <th>Square</th>\n",
       "      <th>LifeSquare</th>\n",
       "      <th>KitchenSquare</th>\n",
       "      <th>Floor</th>\n",
       "      <th>HouseFloor</th>\n",
       "      <th>HouseYear</th>\n",
       "      <th>Ecology_1</th>\n",
       "      <th>Social_1</th>\n",
       "      <th>Social_2</th>\n",
       "      <th>Social_3</th>\n",
       "      <th>Healthcare_1</th>\n",
       "      <th>Helthcare_2</th>\n",
       "      <th>Shops_1</th>\n",
       "      <th>Price</th>\n",
       "    </tr>\n",
       "  </thead>\n",
       "  <tbody>\n",
       "    <tr>\n",
       "      <th>count</th>\n",
       "      <td>10000.000000</td>\n",
       "      <td>1.000000e+04</td>\n",
       "      <td>7887.000000</td>\n",
       "      <td>10000.000000</td>\n",
       "      <td>10000.000000</td>\n",
       "      <td>1.000000e+04</td>\n",
       "      <td>1.000000e+04</td>\n",
       "      <td>10000.000000</td>\n",
       "      <td>10000.000000</td>\n",
       "      <td>10000.000000</td>\n",
       "      <td>10000.000000</td>\n",
       "      <td>5202.0</td>\n",
       "      <td>10000.000000</td>\n",
       "      <td>10000.000000</td>\n",
       "      <td>10000.000000</td>\n",
       "    </tr>\n",
       "    <tr>\n",
       "      <th>mean</th>\n",
       "      <td>1.887695</td>\n",
       "      <td>inf</td>\n",
       "      <td>inf</td>\n",
       "      <td>5.859375</td>\n",
       "      <td>8.526700</td>\n",
       "      <td>inf</td>\n",
       "      <td>3.990166e+03</td>\n",
       "      <td>0.118896</td>\n",
       "      <td>24.687000</td>\n",
       "      <td>5352.157400</td>\n",
       "      <td>8.039200</td>\n",
       "      <td>inf</td>\n",
       "      <td>1.319500</td>\n",
       "      <td>4.231300</td>\n",
       "      <td>214138.937500</td>\n",
       "    </tr>\n",
       "    <tr>\n",
       "      <th>std</th>\n",
       "      <td>0.811035</td>\n",
       "      <td>inf</td>\n",
       "      <td>inf</td>\n",
       "      <td>5.070312</td>\n",
       "      <td>5.241148</td>\n",
       "      <td>6.777344e+00</td>\n",
       "      <td>2.005003e+05</td>\n",
       "      <td>0.119019</td>\n",
       "      <td>17.532614</td>\n",
       "      <td>4006.799803</td>\n",
       "      <td>23.831875</td>\n",
       "      <td>inf</td>\n",
       "      <td>1.493601</td>\n",
       "      <td>4.806341</td>\n",
       "      <td>92872.273438</td>\n",
       "    </tr>\n",
       "    <tr>\n",
       "      <th>min</th>\n",
       "      <td>1.000000</td>\n",
       "      <td>1.136719e+00</td>\n",
       "      <td>0.370605</td>\n",
       "      <td>0.000000</td>\n",
       "      <td>1.000000</td>\n",
       "      <td>0.000000e+00</td>\n",
       "      <td>1.910000e+03</td>\n",
       "      <td>0.000000</td>\n",
       "      <td>0.000000</td>\n",
       "      <td>168.000000</td>\n",
       "      <td>0.000000</td>\n",
       "      <td>0.0</td>\n",
       "      <td>0.000000</td>\n",
       "      <td>0.000000</td>\n",
       "      <td>59174.777344</td>\n",
       "    </tr>\n",
       "    <tr>\n",
       "      <th>25%</th>\n",
       "      <td>1.000000</td>\n",
       "      <td>4.178125e+01</td>\n",
       "      <td>22.687500</td>\n",
       "      <td>1.000000</td>\n",
       "      <td>4.000000</td>\n",
       "      <td>9.000000e+00</td>\n",
       "      <td>1.974000e+03</td>\n",
       "      <td>0.017654</td>\n",
       "      <td>6.000000</td>\n",
       "      <td>1564.000000</td>\n",
       "      <td>0.000000</td>\n",
       "      <td>350.0</td>\n",
       "      <td>0.000000</td>\n",
       "      <td>1.000000</td>\n",
       "      <td>153872.628906</td>\n",
       "    </tr>\n",
       "    <tr>\n",
       "      <th>50%</th>\n",
       "      <td>2.000000</td>\n",
       "      <td>5.250000e+01</td>\n",
       "      <td>32.093750</td>\n",
       "      <td>6.000000</td>\n",
       "      <td>7.000000</td>\n",
       "      <td>1.300000e+01</td>\n",
       "      <td>1.977000e+03</td>\n",
       "      <td>0.075439</td>\n",
       "      <td>25.000000</td>\n",
       "      <td>5285.000000</td>\n",
       "      <td>2.000000</td>\n",
       "      <td>900.0</td>\n",
       "      <td>1.000000</td>\n",
       "      <td>3.000000</td>\n",
       "      <td>192269.648438</td>\n",
       "    </tr>\n",
       "    <tr>\n",
       "      <th>75%</th>\n",
       "      <td>2.000000</td>\n",
       "      <td>6.587500e+01</td>\n",
       "      <td>43.812500</td>\n",
       "      <td>9.000000</td>\n",
       "      <td>12.000000</td>\n",
       "      <td>1.700000e+01</td>\n",
       "      <td>2.001000e+03</td>\n",
       "      <td>0.195801</td>\n",
       "      <td>36.000000</td>\n",
       "      <td>7227.000000</td>\n",
       "      <td>5.000000</td>\n",
       "      <td>1548.0</td>\n",
       "      <td>2.000000</td>\n",
       "      <td>6.000000</td>\n",
       "      <td>249135.460938</td>\n",
       "    </tr>\n",
       "    <tr>\n",
       "      <th>max</th>\n",
       "      <td>5.000000</td>\n",
       "      <td>6.410000e+02</td>\n",
       "      <td>638.000000</td>\n",
       "      <td>123.000000</td>\n",
       "      <td>42.000000</td>\n",
       "      <td>1.170000e+02</td>\n",
       "      <td>2.005201e+07</td>\n",
       "      <td>0.521973</td>\n",
       "      <td>74.000000</td>\n",
       "      <td>19083.000000</td>\n",
       "      <td>141.000000</td>\n",
       "      <td>4848.0</td>\n",
       "      <td>6.000000</td>\n",
       "      <td>23.000000</td>\n",
       "      <td>633233.437500</td>\n",
       "    </tr>\n",
       "  </tbody>\n",
       "</table>\n",
       "</div>"
      ],
      "text/plain": [
       "              Rooms        Square   LifeSquare  KitchenSquare         Floor  \\\n",
       "count  10000.000000  1.000000e+04  7887.000000   10000.000000  10000.000000   \n",
       "mean       1.887695           inf          inf       5.859375      8.526700   \n",
       "std        0.811035           inf          inf       5.070312      5.241148   \n",
       "min        1.000000  1.136719e+00     0.370605       0.000000      1.000000   \n",
       "25%        1.000000  4.178125e+01    22.687500       1.000000      4.000000   \n",
       "50%        2.000000  5.250000e+01    32.093750       6.000000      7.000000   \n",
       "75%        2.000000  6.587500e+01    43.812500       9.000000     12.000000   \n",
       "max        5.000000  6.410000e+02   638.000000     123.000000     42.000000   \n",
       "\n",
       "         HouseFloor     HouseYear     Ecology_1      Social_1      Social_2  \\\n",
       "count  1.000000e+04  1.000000e+04  10000.000000  10000.000000  10000.000000   \n",
       "mean            inf  3.990166e+03      0.118896     24.687000   5352.157400   \n",
       "std    6.777344e+00  2.005003e+05      0.119019     17.532614   4006.799803   \n",
       "min    0.000000e+00  1.910000e+03      0.000000      0.000000    168.000000   \n",
       "25%    9.000000e+00  1.974000e+03      0.017654      6.000000   1564.000000   \n",
       "50%    1.300000e+01  1.977000e+03      0.075439     25.000000   5285.000000   \n",
       "75%    1.700000e+01  2.001000e+03      0.195801     36.000000   7227.000000   \n",
       "max    1.170000e+02  2.005201e+07      0.521973     74.000000  19083.000000   \n",
       "\n",
       "           Social_3  Healthcare_1   Helthcare_2       Shops_1          Price  \n",
       "count  10000.000000        5202.0  10000.000000  10000.000000   10000.000000  \n",
       "mean       8.039200           inf      1.319500      4.231300  214138.937500  \n",
       "std       23.831875           inf      1.493601      4.806341   92872.273438  \n",
       "min        0.000000           0.0      0.000000      0.000000   59174.777344  \n",
       "25%        0.000000         350.0      0.000000      1.000000  153872.628906  \n",
       "50%        2.000000         900.0      1.000000      3.000000  192269.648438  \n",
       "75%        5.000000        1548.0      2.000000      6.000000  249135.460938  \n",
       "max      141.000000        4848.0      6.000000     23.000000  633233.437500  "
      ]
     },
     "execution_count": 1958,
     "metadata": {},
     "output_type": "execute_result"
    }
   ],
   "source": [
    "train_data.loc[(train_data['LifeSquare']>train_data['Square']),'LifeSquare'] = train_data.loc[(train_data['LifeSquare']>train_data['Square']),'Square'] * life_to_square\n",
    "# Аналогично с неадекватными значениями life_square\n",
    "train_data.describe()"
   ]
  },
  {
   "cell_type": "code",
   "execution_count": 1959,
   "id": "17404877",
   "metadata": {},
   "outputs": [
    {
     "data": {
      "text/plain": [
       "<AxesSubplot:title={'center':'Distribution of KitchenSquare in apartment'}, xlabel='KitchenSquare'>"
      ]
     },
     "execution_count": 1959,
     "metadata": {},
     "output_type": "execute_result"
    },
    {
     "data": {
      "image/png": "[encoded data removed]",
      "text/plain": [
       "<Figure size 1152x576 with 3 Axes>"
      ]
     },
     "metadata": {
      "needs_background": "light"
     },
     "output_type": "display_data"
    }
   ],
   "source": [
    "plt.figure(figsize=(16,8))\n",
    "plt.subplot(131)\n",
    "plt.ylabel('Number of apartments')\n",
    "plt.xlabel('Square')\n",
    "plt.title('Distribution of Square in apartment')\n",
    "train_data['Square'].hist(bins=30)\n",
    "\n",
    "plt.subplot(132)\n",
    "plt.xlabel('LifeSquare')\n",
    "plt.title('Distribution of LifeSquare in apartment')\n",
    "train_data['LifeSquare'].hist(bins=30)\n",
    "\n",
    "plt.subplot(133)\n",
    "plt.xlabel('KitchenSquare')\n",
    "plt.title('Distribution of KitchenSquare in apartment')\n",
    "train_data['KitchenSquare'].hist(bins=30)\n"
   ]
  },
  {
   "cell_type": "markdown",
   "id": "22b6e6cb",
   "metadata": {},
   "source": [
    "***Наблюдается улучшение распределения, однако все еще требуется обработка выбросов и пропусков***"
   ]
  },
  {
   "cell_type": "code",
   "execution_count": 1960,
   "id": "17a4fc67",
   "metadata": {},
   "outputs": [
    {
     "data": {
      "text/plain": [
       "<AxesSubplot:xlabel='KitchenSquare'>"
      ]
     },
     "execution_count": 1960,
     "metadata": {},
     "output_type": "execute_result"
    },
    {
     "data": {
      "image/png": "[encoded data removed]",
      "text/plain": [
       "<Figure size 1296x360 with 3 Axes>"
      ]
     },
     "metadata": {
      "needs_background": "light"
     },
     "output_type": "display_data"
    }
   ],
   "source": [
    "plt.figure(figsize=(18,5))\n",
    "plt.subplot(131)\n",
    "plt.xlabel('Square')\n",
    "sns.boxplot(train_data['Square'], whis=1.5)\n",
    "\n",
    "plt.subplot(132)\n",
    "plt.xlabel('LifeSquare')\n",
    "sns.boxplot(train_data['LifeSquare'], whis=1.5)\n",
    "\n",
    "plt.subplot(133)\n",
    "plt.xlabel('KitchenSquare')\n",
    "sns.boxplot(train_data['KitchenSquare'], whis=1.5)"
   ]
  },
  {
   "cell_type": "markdown",
   "id": "c3c63a59",
   "metadata": {},
   "source": [
    "***Судя по боксплотам при обработке выбросов в данных показателях имеет смысл воспользоваться межквартильным размахом и заменой на медиану***"
   ]
  },
  {
   "cell_type": "code",
   "execution_count": 1961,
   "id": "ce2ab222",
   "metadata": {},
   "outputs": [
    {
     "data": {
      "text/html": [
       "<div>\n",
       "<style scoped>\n",
       "    .dataframe tbody tr th:only-of-type {\n",
       "        vertical-align: middle;\n",
       "    }\n",
       "\n",
       "    .dataframe tbody tr th {\n",
       "        vertical-align: top;\n",
       "    }\n",
       "\n",
       "    .dataframe thead th {\n",
       "        text-align: right;\n",
       "    }\n",
       "</style>\n",
       "<table border=\"1\" class=\"dataframe\">\n",
       "  <thead>\n",
       "    <tr style=\"text-align: right;\">\n",
       "      <th></th>\n",
       "      <th>Rooms</th>\n",
       "      <th>Square</th>\n",
       "      <th>LifeSquare</th>\n",
       "      <th>KitchenSquare</th>\n",
       "      <th>Floor</th>\n",
       "      <th>HouseFloor</th>\n",
       "      <th>HouseYear</th>\n",
       "      <th>Ecology_1</th>\n",
       "      <th>Social_1</th>\n",
       "      <th>Social_2</th>\n",
       "      <th>Social_3</th>\n",
       "      <th>Healthcare_1</th>\n",
       "      <th>Helthcare_2</th>\n",
       "      <th>Shops_1</th>\n",
       "      <th>Price</th>\n",
       "    </tr>\n",
       "  </thead>\n",
       "  <tbody>\n",
       "    <tr>\n",
       "      <th>count</th>\n",
       "      <td>10000.000000</td>\n",
       "      <td>1.000000e+04</td>\n",
       "      <td>7887.000000</td>\n",
       "      <td>10000.000000</td>\n",
       "      <td>10000.000000</td>\n",
       "      <td>1.000000e+04</td>\n",
       "      <td>1.000000e+04</td>\n",
       "      <td>10000.000000</td>\n",
       "      <td>10000.000000</td>\n",
       "      <td>10000.000000</td>\n",
       "      <td>10000.000000</td>\n",
       "      <td>5202.0</td>\n",
       "      <td>10000.000000</td>\n",
       "      <td>10000.000000</td>\n",
       "      <td>10000.000000</td>\n",
       "    </tr>\n",
       "    <tr>\n",
       "      <th>mean</th>\n",
       "      <td>1.887695</td>\n",
       "      <td>inf</td>\n",
       "      <td>inf</td>\n",
       "      <td>5.859375</td>\n",
       "      <td>8.526700</td>\n",
       "      <td>inf</td>\n",
       "      <td>3.990166e+03</td>\n",
       "      <td>0.118896</td>\n",
       "      <td>24.687000</td>\n",
       "      <td>5352.157400</td>\n",
       "      <td>8.039200</td>\n",
       "      <td>inf</td>\n",
       "      <td>1.319500</td>\n",
       "      <td>4.231300</td>\n",
       "      <td>214138.937500</td>\n",
       "    </tr>\n",
       "    <tr>\n",
       "      <th>std</th>\n",
       "      <td>0.811035</td>\n",
       "      <td>inf</td>\n",
       "      <td>inf</td>\n",
       "      <td>5.070312</td>\n",
       "      <td>5.241148</td>\n",
       "      <td>6.777344e+00</td>\n",
       "      <td>2.005003e+05</td>\n",
       "      <td>0.119019</td>\n",
       "      <td>17.532614</td>\n",
       "      <td>4006.799803</td>\n",
       "      <td>23.831875</td>\n",
       "      <td>inf</td>\n",
       "      <td>1.493601</td>\n",
       "      <td>4.806341</td>\n",
       "      <td>92872.273438</td>\n",
       "    </tr>\n",
       "    <tr>\n",
       "      <th>min</th>\n",
       "      <td>1.000000</td>\n",
       "      <td>1.136719e+00</td>\n",
       "      <td>0.370605</td>\n",
       "      <td>0.000000</td>\n",
       "      <td>1.000000</td>\n",
       "      <td>0.000000e+00</td>\n",
       "      <td>1.910000e+03</td>\n",
       "      <td>0.000000</td>\n",
       "      <td>0.000000</td>\n",
       "      <td>168.000000</td>\n",
       "      <td>0.000000</td>\n",
       "      <td>0.0</td>\n",
       "      <td>0.000000</td>\n",
       "      <td>0.000000</td>\n",
       "      <td>59174.777344</td>\n",
       "    </tr>\n",
       "    <tr>\n",
       "      <th>25%</th>\n",
       "      <td>1.000000</td>\n",
       "      <td>4.178125e+01</td>\n",
       "      <td>22.687500</td>\n",
       "      <td>1.000000</td>\n",
       "      <td>4.000000</td>\n",
       "      <td>9.000000e+00</td>\n",
       "      <td>1.974000e+03</td>\n",
       "      <td>0.017654</td>\n",
       "      <td>6.000000</td>\n",
       "      <td>1564.000000</td>\n",
       "      <td>0.000000</td>\n",
       "      <td>350.0</td>\n",
       "      <td>0.000000</td>\n",
       "      <td>1.000000</td>\n",
       "      <td>153872.628906</td>\n",
       "    </tr>\n",
       "    <tr>\n",
       "      <th>50%</th>\n",
       "      <td>2.000000</td>\n",
       "      <td>5.250000e+01</td>\n",
       "      <td>32.093750</td>\n",
       "      <td>6.000000</td>\n",
       "      <td>7.000000</td>\n",
       "      <td>1.300000e+01</td>\n",
       "      <td>1.977000e+03</td>\n",
       "      <td>0.075439</td>\n",
       "      <td>25.000000</td>\n",
       "      <td>5285.000000</td>\n",
       "      <td>2.000000</td>\n",
       "      <td>900.0</td>\n",
       "      <td>1.000000</td>\n",
       "      <td>3.000000</td>\n",
       "      <td>192269.648438</td>\n",
       "    </tr>\n",
       "    <tr>\n",
       "      <th>75%</th>\n",
       "      <td>2.000000</td>\n",
       "      <td>6.587500e+01</td>\n",
       "      <td>43.812500</td>\n",
       "      <td>9.000000</td>\n",
       "      <td>12.000000</td>\n",
       "      <td>1.700000e+01</td>\n",
       "      <td>2.001000e+03</td>\n",
       "      <td>0.195801</td>\n",
       "      <td>36.000000</td>\n",
       "      <td>7227.000000</td>\n",
       "      <td>5.000000</td>\n",
       "      <td>1548.0</td>\n",
       "      <td>2.000000</td>\n",
       "      <td>6.000000</td>\n",
       "      <td>249135.460938</td>\n",
       "    </tr>\n",
       "    <tr>\n",
       "      <th>max</th>\n",
       "      <td>5.000000</td>\n",
       "      <td>6.410000e+02</td>\n",
       "      <td>638.000000</td>\n",
       "      <td>123.000000</td>\n",
       "      <td>42.000000</td>\n",
       "      <td>1.170000e+02</td>\n",
       "      <td>2.005201e+07</td>\n",
       "      <td>0.521973</td>\n",
       "      <td>74.000000</td>\n",
       "      <td>19083.000000</td>\n",
       "      <td>141.000000</td>\n",
       "      <td>4848.0</td>\n",
       "      <td>6.000000</td>\n",
       "      <td>23.000000</td>\n",
       "      <td>633233.437500</td>\n",
       "    </tr>\n",
       "  </tbody>\n",
       "</table>\n",
       "</div>"
      ],
      "text/plain": [
       "              Rooms        Square   LifeSquare  KitchenSquare         Floor  \\\n",
       "count  10000.000000  1.000000e+04  7887.000000   10000.000000  10000.000000   \n",
       "mean       1.887695           inf          inf       5.859375      8.526700   \n",
       "std        0.811035           inf          inf       5.070312      5.241148   \n",
       "min        1.000000  1.136719e+00     0.370605       0.000000      1.000000   \n",
       "25%        1.000000  4.178125e+01    22.687500       1.000000      4.000000   \n",
       "50%        2.000000  5.250000e+01    32.093750       6.000000      7.000000   \n",
       "75%        2.000000  6.587500e+01    43.812500       9.000000     12.000000   \n",
       "max        5.000000  6.410000e+02   638.000000     123.000000     42.000000   \n",
       "\n",
       "         HouseFloor     HouseYear     Ecology_1      Social_1      Social_2  \\\n",
       "count  1.000000e+04  1.000000e+04  10000.000000  10000.000000  10000.000000   \n",
       "mean            inf  3.990166e+03      0.118896     24.687000   5352.157400   \n",
       "std    6.777344e+00  2.005003e+05      0.119019     17.532614   4006.799803   \n",
       "min    0.000000e+00  1.910000e+03      0.000000      0.000000    168.000000   \n",
       "25%    9.000000e+00  1.974000e+03      0.017654      6.000000   1564.000000   \n",
       "50%    1.300000e+01  1.977000e+03      0.075439     25.000000   5285.000000   \n",
       "75%    1.700000e+01  2.001000e+03      0.195801     36.000000   7227.000000   \n",
       "max    1.170000e+02  2.005201e+07      0.521973     74.000000  19083.000000   \n",
       "\n",
       "           Social_3  Healthcare_1   Helthcare_2       Shops_1          Price  \n",
       "count  10000.000000        5202.0  10000.000000  10000.000000   10000.000000  \n",
       "mean       8.039200           inf      1.319500      4.231300  214138.937500  \n",
       "std       23.831875           inf      1.493601      4.806341   92872.273438  \n",
       "min        0.000000           0.0      0.000000      0.000000   59174.777344  \n",
       "25%        0.000000         350.0      0.000000      1.000000  153872.628906  \n",
       "50%        2.000000         900.0      1.000000      3.000000  192269.648438  \n",
       "75%        5.000000        1548.0      2.000000      6.000000  249135.460938  \n",
       "max      141.000000        4848.0      6.000000     23.000000  633233.437500  "
      ]
     },
     "execution_count": 1961,
     "metadata": {},
     "output_type": "execute_result"
    }
   ],
   "source": [
    "train_data.describe()"
   ]
  },
  {
   "cell_type": "code",
   "execution_count": 1962,
   "id": "cd589beb",
   "metadata": {
    "scrolled": true
   },
   "outputs": [],
   "source": [
    "square_q_950 = np.quantile(train_data['Square'], q=0.95)\n",
    "square_q_025 = np.quantile(train_data['Square'], q=0.025)\n",
    "square_median = train_data['Square'].median()\n",
    "train_data.loc[(train_data['Square']>square_q_950)|(train_data['Square']<square_q_025),'Square'] = square_median"
   ]
  },
  {
   "cell_type": "code",
   "execution_count": 1963,
   "id": "976169bf",
   "metadata": {},
   "outputs": [
    {
     "data": {
      "text/plain": [
       "2113"
      ]
     },
     "execution_count": 1963,
     "metadata": {},
     "output_type": "execute_result"
    }
   ],
   "source": [
    "train_data['LifeSquare'].isna().sum()"
   ]
  },
  {
   "cell_type": "markdown",
   "id": "778c9236",
   "metadata": {},
   "source": [
    "***В столбце LifeSquare 2113 пропусков, которые необходимо заполнить***"
   ]
  },
  {
   "cell_type": "code",
   "execution_count": 1964,
   "id": "5e6ac21b",
   "metadata": {},
   "outputs": [],
   "source": [
    "train_data.loc[train_data['LifeSquare'].isnull()==True,'LifeSquare'] = train_data.loc[train_data['LifeSquare'].isnull()==True,'Square'] * life_to_square\n",
    "# Логичнее заполнить их, исходя из усредненного отношения жилой площади к общей"
   ]
  },
  {
   "cell_type": "code",
   "execution_count": 1965,
   "id": "1b6db0f8",
   "metadata": {},
   "outputs": [],
   "source": [
    "life_square_q_950 = np.quantile(train_data['LifeSquare'], q=0.95)\n",
    "life_square_q_025 = np.quantile(train_data['LifeSquare'], q=0.025)\n",
    "life_square_median = train_data['LifeSquare'].median()\n",
    "train_data.loc[(train_data['LifeSquare']>life_square_q_950)|(train_data['LifeSquare']<life_square_q_025),'LifeSquare'] = life_square_median"
   ]
  },
  {
   "cell_type": "code",
   "execution_count": 1966,
   "id": "13590fcd",
   "metadata": {},
   "outputs": [],
   "source": [
    "kitchen_square_q_950 = np.quantile(train_data['KitchenSquare'], q=0.95)\n",
    "kitchen_square_median = train_data['KitchenSquare'].median()\n",
    "train_data.loc[(train_data['KitchenSquare']>kitchen_square_q_950)|(train_data['KitchenSquare']<1),'KitchenSquare'] = kitchen_square_median"
   ]
  },
  {
   "cell_type": "code",
   "execution_count": 1967,
   "id": "848cc557",
   "metadata": {},
   "outputs": [
    {
     "data": {
      "text/html": [
       "<div>\n",
       "<style scoped>\n",
       "    .dataframe tbody tr th:only-of-type {\n",
       "        vertical-align: middle;\n",
       "    }\n",
       "\n",
       "    .dataframe tbody tr th {\n",
       "        vertical-align: top;\n",
       "    }\n",
       "\n",
       "    .dataframe thead th {\n",
       "        text-align: right;\n",
       "    }\n",
       "</style>\n",
       "<table border=\"1\" class=\"dataframe\">\n",
       "  <thead>\n",
       "    <tr style=\"text-align: right;\">\n",
       "      <th></th>\n",
       "      <th>Rooms</th>\n",
       "      <th>Square</th>\n",
       "      <th>LifeSquare</th>\n",
       "      <th>KitchenSquare</th>\n",
       "      <th>Floor</th>\n",
       "      <th>HouseFloor</th>\n",
       "      <th>HouseYear</th>\n",
       "      <th>Ecology_1</th>\n",
       "      <th>Social_1</th>\n",
       "      <th>Social_2</th>\n",
       "      <th>Social_3</th>\n",
       "      <th>Healthcare_1</th>\n",
       "      <th>Helthcare_2</th>\n",
       "      <th>Shops_1</th>\n",
       "      <th>Price</th>\n",
       "    </tr>\n",
       "  </thead>\n",
       "  <tbody>\n",
       "    <tr>\n",
       "      <th>count</th>\n",
       "      <td>10000.000000</td>\n",
       "      <td>1.000000e+04</td>\n",
       "      <td>1.000000e+04</td>\n",
       "      <td>10000.000000</td>\n",
       "      <td>10000.000000</td>\n",
       "      <td>1.000000e+04</td>\n",
       "      <td>1.000000e+04</td>\n",
       "      <td>10000.000000</td>\n",
       "      <td>10000.000000</td>\n",
       "      <td>10000.000000</td>\n",
       "      <td>10000.000000</td>\n",
       "      <td>5202.0</td>\n",
       "      <td>10000.000000</td>\n",
       "      <td>10000.000000</td>\n",
       "      <td>10000.000000</td>\n",
       "    </tr>\n",
       "    <tr>\n",
       "      <th>mean</th>\n",
       "      <td>1.887695</td>\n",
       "      <td>inf</td>\n",
       "      <td>inf</td>\n",
       "      <td>5.906250</td>\n",
       "      <td>8.526700</td>\n",
       "      <td>inf</td>\n",
       "      <td>3.990166e+03</td>\n",
       "      <td>0.118896</td>\n",
       "      <td>24.687000</td>\n",
       "      <td>5352.157400</td>\n",
       "      <td>8.039200</td>\n",
       "      <td>inf</td>\n",
       "      <td>1.319500</td>\n",
       "      <td>4.231300</td>\n",
       "      <td>214138.937500</td>\n",
       "    </tr>\n",
       "    <tr>\n",
       "      <th>std</th>\n",
       "      <td>0.811035</td>\n",
       "      <td>1.392969e+01</td>\n",
       "      <td>9.976562e+00</td>\n",
       "      <td>3.292969</td>\n",
       "      <td>5.241148</td>\n",
       "      <td>6.777344e+00</td>\n",
       "      <td>2.005003e+05</td>\n",
       "      <td>0.119019</td>\n",
       "      <td>17.532614</td>\n",
       "      <td>4006.799803</td>\n",
       "      <td>23.831875</td>\n",
       "      <td>inf</td>\n",
       "      <td>1.493601</td>\n",
       "      <td>4.806341</td>\n",
       "      <td>92872.273438</td>\n",
       "    </tr>\n",
       "    <tr>\n",
       "      <th>min</th>\n",
       "      <td>1.000000</td>\n",
       "      <td>3.209375e+01</td>\n",
       "      <td>1.482812e+01</td>\n",
       "      <td>1.000000</td>\n",
       "      <td>1.000000</td>\n",
       "      <td>0.000000e+00</td>\n",
       "      <td>1.910000e+03</td>\n",
       "      <td>0.000000</td>\n",
       "      <td>0.000000</td>\n",
       "      <td>168.000000</td>\n",
       "      <td>0.000000</td>\n",
       "      <td>0.0</td>\n",
       "      <td>0.000000</td>\n",
       "      <td>0.000000</td>\n",
       "      <td>59174.777344</td>\n",
       "    </tr>\n",
       "    <tr>\n",
       "      <th>25%</th>\n",
       "      <td>1.000000</td>\n",
       "      <td>4.240625e+01</td>\n",
       "      <td>2.508984e+01</td>\n",
       "      <td>4.000000</td>\n",
       "      <td>4.000000</td>\n",
       "      <td>9.000000e+00</td>\n",
       "      <td>1.974000e+03</td>\n",
       "      <td>0.017654</td>\n",
       "      <td>6.000000</td>\n",
       "      <td>1564.000000</td>\n",
       "      <td>0.000000</td>\n",
       "      <td>350.0</td>\n",
       "      <td>0.000000</td>\n",
       "      <td>1.000000</td>\n",
       "      <td>153872.628906</td>\n",
       "    </tr>\n",
       "    <tr>\n",
       "      <th>50%</th>\n",
       "      <td>2.000000</td>\n",
       "      <td>5.250000e+01</td>\n",
       "      <td>3.278125e+01</td>\n",
       "      <td>6.000000</td>\n",
       "      <td>7.000000</td>\n",
       "      <td>1.300000e+01</td>\n",
       "      <td>1.977000e+03</td>\n",
       "      <td>0.075439</td>\n",
       "      <td>25.000000</td>\n",
       "      <td>5285.000000</td>\n",
       "      <td>2.000000</td>\n",
       "      <td>900.0</td>\n",
       "      <td>1.000000</td>\n",
       "      <td>3.000000</td>\n",
       "      <td>192269.648438</td>\n",
       "    </tr>\n",
       "    <tr>\n",
       "      <th>75%</th>\n",
       "      <td>2.000000</td>\n",
       "      <td>6.340625e+01</td>\n",
       "      <td>4.046875e+01</td>\n",
       "      <td>8.000000</td>\n",
       "      <td>12.000000</td>\n",
       "      <td>1.700000e+01</td>\n",
       "      <td>2.001000e+03</td>\n",
       "      <td>0.195801</td>\n",
       "      <td>36.000000</td>\n",
       "      <td>7227.000000</td>\n",
       "      <td>5.000000</td>\n",
       "      <td>1548.0</td>\n",
       "      <td>2.000000</td>\n",
       "      <td>6.000000</td>\n",
       "      <td>249135.460938</td>\n",
       "    </tr>\n",
       "    <tr>\n",
       "      <th>max</th>\n",
       "      <td>5.000000</td>\n",
       "      <td>8.787500e+01</td>\n",
       "      <td>6.006250e+01</td>\n",
       "      <td>12.000000</td>\n",
       "      <td>42.000000</td>\n",
       "      <td>1.170000e+02</td>\n",
       "      <td>2.005201e+07</td>\n",
       "      <td>0.521973</td>\n",
       "      <td>74.000000</td>\n",
       "      <td>19083.000000</td>\n",
       "      <td>141.000000</td>\n",
       "      <td>4848.0</td>\n",
       "      <td>6.000000</td>\n",
       "      <td>23.000000</td>\n",
       "      <td>633233.437500</td>\n",
       "    </tr>\n",
       "  </tbody>\n",
       "</table>\n",
       "</div>"
      ],
      "text/plain": [
       "              Rooms        Square    LifeSquare  KitchenSquare         Floor  \\\n",
       "count  10000.000000  1.000000e+04  1.000000e+04   10000.000000  10000.000000   \n",
       "mean       1.887695           inf           inf       5.906250      8.526700   \n",
       "std        0.811035  1.392969e+01  9.976562e+00       3.292969      5.241148   \n",
       "min        1.000000  3.209375e+01  1.482812e+01       1.000000      1.000000   \n",
       "25%        1.000000  4.240625e+01  2.508984e+01       4.000000      4.000000   \n",
       "50%        2.000000  5.250000e+01  3.278125e+01       6.000000      7.000000   \n",
       "75%        2.000000  6.340625e+01  4.046875e+01       8.000000     12.000000   \n",
       "max        5.000000  8.787500e+01  6.006250e+01      12.000000     42.000000   \n",
       "\n",
       "         HouseFloor     HouseYear     Ecology_1      Social_1      Social_2  \\\n",
       "count  1.000000e+04  1.000000e+04  10000.000000  10000.000000  10000.000000   \n",
       "mean            inf  3.990166e+03      0.118896     24.687000   5352.157400   \n",
       "std    6.777344e+00  2.005003e+05      0.119019     17.532614   4006.799803   \n",
       "min    0.000000e+00  1.910000e+03      0.000000      0.000000    168.000000   \n",
       "25%    9.000000e+00  1.974000e+03      0.017654      6.000000   1564.000000   \n",
       "50%    1.300000e+01  1.977000e+03      0.075439     25.000000   5285.000000   \n",
       "75%    1.700000e+01  2.001000e+03      0.195801     36.000000   7227.000000   \n",
       "max    1.170000e+02  2.005201e+07      0.521973     74.000000  19083.000000   \n",
       "\n",
       "           Social_3  Healthcare_1   Helthcare_2       Shops_1          Price  \n",
       "count  10000.000000        5202.0  10000.000000  10000.000000   10000.000000  \n",
       "mean       8.039200           inf      1.319500      4.231300  214138.937500  \n",
       "std       23.831875           inf      1.493601      4.806341   92872.273438  \n",
       "min        0.000000           0.0      0.000000      0.000000   59174.777344  \n",
       "25%        0.000000         350.0      0.000000      1.000000  153872.628906  \n",
       "50%        2.000000         900.0      1.000000      3.000000  192269.648438  \n",
       "75%        5.000000        1548.0      2.000000      6.000000  249135.460938  \n",
       "max      141.000000        4848.0      6.000000     23.000000  633233.437500  "
      ]
     },
     "execution_count": 1967,
     "metadata": {},
     "output_type": "execute_result"
    }
   ],
   "source": [
    "train_data.describe()"
   ]
  },
  {
   "cell_type": "code",
   "execution_count": 1968,
   "id": "521a5f39",
   "metadata": {
    "scrolled": true
   },
   "outputs": [
    {
     "data": {
      "text/plain": [
       "<AxesSubplot:xlabel='KitchenSquare'>"
      ]
     },
     "execution_count": 1968,
     "metadata": {},
     "output_type": "execute_result"
    },
    {
     "data": {
      "image/png": "[encoded data removed]",
      "text/plain": [
       "<Figure size 1296x360 with 3 Axes>"
      ]
     },
     "metadata": {
      "needs_background": "light"
     },
     "output_type": "display_data"
    }
   ],
   "source": [
    "plt.figure(figsize=(18,5))\n",
    "plt.subplot(131)\n",
    "plt.xlabel('Square')\n",
    "sns.boxplot(train_data['Square'], whis=1.5)\n",
    "\n",
    "plt.subplot(132)\n",
    "plt.xlabel('LifeSquare')\n",
    "sns.boxplot(train_data['LifeSquare'], whis=1.5)\n",
    "\n",
    "plt.subplot(133)\n",
    "plt.xlabel('KitchenSquare')\n",
    "sns.boxplot(train_data['KitchenSquare'], whis=1.5)"
   ]
  },
  {
   "cell_type": "code",
   "execution_count": 1969,
   "id": "1d888e8b",
   "metadata": {
    "scrolled": true
   },
   "outputs": [
    {
     "data": {
      "text/plain": [
       "<AxesSubplot:title={'center':'Distribution of KitchenSquare in apartment'}, xlabel='KitchenSquare'>"
      ]
     },
     "execution_count": 1969,
     "metadata": {},
     "output_type": "execute_result"
    },
    {
     "data": {
      "image/png": "[encoded data removed]",
      "text/plain": [
       "<Figure size 1152x576 with 3 Axes>"
      ]
     },
     "metadata": {
      "needs_background": "light"
     },
     "output_type": "display_data"
    }
   ],
   "source": [
    "plt.figure(figsize=(16,8))\n",
    "plt.subplot(131)\n",
    "plt.ylabel('Number of apartments')\n",
    "plt.xlabel('Square')\n",
    "plt.title('Distribution of Square in apartment')\n",
    "train_data['Square'].hist(bins=30,edgecolor='black')\n",
    "\n",
    "plt.subplot(132)\n",
    "plt.xlabel('LifeSquare')\n",
    "plt.title('Distribution of LifeSquare in apartment')\n",
    "train_data['LifeSquare'].hist(bins=30, edgecolor='black')\n",
    "\n",
    "plt.subplot(133)\n",
    "plt.xlabel('KitchenSquare')\n",
    "plt.title('Distribution of KitchenSquare in apartment')\n",
    "train_data['KitchenSquare'].hist(bins=10, edgecolor='black')"
   ]
  },
  {
   "cell_type": "markdown",
   "id": "5faa9420",
   "metadata": {},
   "source": [
    "### Floor, HouseFloor"
   ]
  },
  {
   "cell_type": "code",
   "execution_count": 1970,
   "id": "e32b389d",
   "metadata": {},
   "outputs": [
    {
     "data": {
      "text/plain": [
       "array([ 1,  2,  3,  4,  5,  6,  7,  8,  9, 10, 11, 12, 13, 14, 15, 16, 17,\n",
       "       18, 19, 20, 21, 22, 23, 24, 25, 26, 27, 28, 31, 32, 33, 37, 42],\n",
       "      dtype=int8)"
      ]
     },
     "execution_count": 1970,
     "metadata": {},
     "output_type": "execute_result"
    }
   ],
   "source": [
    "train_data['Floor'].sort_values().unique()"
   ]
  },
  {
   "cell_type": "code",
   "execution_count": 1971,
   "id": "a9292a10",
   "metadata": {},
   "outputs": [
    {
     "data": {
      "text/plain": [
       "array([  0.,   1.,   2.,   3.,   4.,   5.,   6.,   7.,   8.,   9.,  10.,\n",
       "        11.,  12.,  13.,  14.,  15.,  16.,  17.,  18.,  19.,  20.,  21.,\n",
       "        22.,  23.,  24.,  25.,  26.,  27.,  28.,  29.,  30.,  31.,  32.,\n",
       "        36.,  37.,  38.,  39.,  40.,  44.,  45.,  47.,  48.,  99., 117.],\n",
       "      dtype=float16)"
      ]
     },
     "execution_count": 1971,
     "metadata": {},
     "output_type": "execute_result"
    }
   ],
   "source": [
    "train_data['HouseFloor'].sort_values().unique()"
   ]
  },
  {
   "cell_type": "markdown",
   "id": "c54258f5",
   "metadata": {},
   "source": [
    "***Ненормальна ситуация, в которой в доме 0 этажей - это явная ошибка***"
   ]
  },
  {
   "cell_type": "code",
   "execution_count": 1972,
   "id": "4e0c55db",
   "metadata": {},
   "outputs": [
    {
     "data": {
      "text/plain": [
       "24      0.0\n",
       "152     0.0\n",
       "159     0.0\n",
       "186     0.0\n",
       "229     0.0\n",
       "       ... \n",
       "9889    0.0\n",
       "9931    0.0\n",
       "9940    0.0\n",
       "9950    0.0\n",
       "9996    0.0\n",
       "Name: HouseFloor, Length: 269, dtype: float16"
      ]
     },
     "execution_count": 1972,
     "metadata": {},
     "output_type": "execute_result"
    }
   ],
   "source": [
    "train_data.loc[train_data['HouseFloor']==0,'HouseFloor'] # Таких значений 269"
   ]
  },
  {
   "cell_type": "code",
   "execution_count": 1973,
   "id": "d3095f40",
   "metadata": {},
   "outputs": [
    {
     "data": {
      "text/plain": [
       "17       6\n",
       "19      16\n",
       "21      11\n",
       "24       2\n",
       "25      18\n",
       "        ..\n",
       "9960    15\n",
       "9968    18\n",
       "9970    18\n",
       "9975    18\n",
       "9996    13\n",
       "Name: Floor, Length: 1825, dtype: int8"
      ]
     },
     "execution_count": 1973,
     "metadata": {},
     "output_type": "execute_result"
    }
   ],
   "source": [
    "train_data.loc[train_data['Floor']>train_data['HouseFloor'],'Floor']"
   ]
  },
  {
   "cell_type": "code",
   "execution_count": 1974,
   "id": "9310f978",
   "metadata": {},
   "outputs": [
    {
     "data": {
      "text/plain": [
       "24       2\n",
       "152     14\n",
       "159      6\n",
       "186      8\n",
       "229     15\n",
       "        ..\n",
       "9889     2\n",
       "9931    14\n",
       "9940     8\n",
       "9950     3\n",
       "9996    13\n",
       "Name: Floor, Length: 269, dtype: int8"
      ]
     },
     "execution_count": 1974,
     "metadata": {},
     "output_type": "execute_result"
    }
   ],
   "source": [
    "train_data.loc[train_data['HouseFloor']==0,'Floor'] # Причем у квартир в данных строках этажи указаны корректно (нет ни одного нулевого значения)"
   ]
  },
  {
   "cell_type": "markdown",
   "id": "fbb671cc",
   "metadata": {},
   "source": [
    "***К сожалению, мы не имеем возможности узнать по каким-либо косвенным признакам количество этажей в домах, где некорректно указано количество этажей, равное 0 --> можно приравнять количество этажей к этажу квартиры, указанной в Floor.***"
   ]
  },
  {
   "cell_type": "code",
   "execution_count": 1975,
   "id": "ab8ef916",
   "metadata": {},
   "outputs": [
    {
     "data": {
      "text/html": [
       "<div>\n",
       "<style scoped>\n",
       "    .dataframe tbody tr th:only-of-type {\n",
       "        vertical-align: middle;\n",
       "    }\n",
       "\n",
       "    .dataframe tbody tr th {\n",
       "        vertical-align: top;\n",
       "    }\n",
       "\n",
       "    .dataframe thead th {\n",
       "        text-align: right;\n",
       "    }\n",
       "</style>\n",
       "<table border=\"1\" class=\"dataframe\">\n",
       "  <thead>\n",
       "    <tr style=\"text-align: right;\">\n",
       "      <th></th>\n",
       "      <th>Rooms</th>\n",
       "      <th>Square</th>\n",
       "      <th>LifeSquare</th>\n",
       "      <th>KitchenSquare</th>\n",
       "      <th>Floor</th>\n",
       "      <th>HouseFloor</th>\n",
       "      <th>HouseYear</th>\n",
       "      <th>Ecology_1</th>\n",
       "      <th>Social_1</th>\n",
       "      <th>Social_2</th>\n",
       "      <th>Social_3</th>\n",
       "      <th>Healthcare_1</th>\n",
       "      <th>Helthcare_2</th>\n",
       "      <th>Shops_1</th>\n",
       "      <th>Price</th>\n",
       "    </tr>\n",
       "  </thead>\n",
       "  <tbody>\n",
       "    <tr>\n",
       "      <th>count</th>\n",
       "      <td>10000.000000</td>\n",
       "      <td>1.000000e+04</td>\n",
       "      <td>1.000000e+04</td>\n",
       "      <td>10000.000000</td>\n",
       "      <td>10000.000000</td>\n",
       "      <td>1.000000e+04</td>\n",
       "      <td>1.000000e+04</td>\n",
       "      <td>10000.000000</td>\n",
       "      <td>10000.000000</td>\n",
       "      <td>10000.000000</td>\n",
       "      <td>10000.000000</td>\n",
       "      <td>5202.0</td>\n",
       "      <td>10000.000000</td>\n",
       "      <td>10000.000000</td>\n",
       "      <td>10000.000000</td>\n",
       "    </tr>\n",
       "    <tr>\n",
       "      <th>mean</th>\n",
       "      <td>1.887695</td>\n",
       "      <td>inf</td>\n",
       "      <td>inf</td>\n",
       "      <td>5.906250</td>\n",
       "      <td>8.526700</td>\n",
       "      <td>inf</td>\n",
       "      <td>3.990166e+03</td>\n",
       "      <td>0.118896</td>\n",
       "      <td>24.687000</td>\n",
       "      <td>5352.157400</td>\n",
       "      <td>8.039200</td>\n",
       "      <td>inf</td>\n",
       "      <td>1.319500</td>\n",
       "      <td>4.231300</td>\n",
       "      <td>214138.937500</td>\n",
       "    </tr>\n",
       "    <tr>\n",
       "      <th>std</th>\n",
       "      <td>0.811035</td>\n",
       "      <td>1.392969e+01</td>\n",
       "      <td>9.976562e+00</td>\n",
       "      <td>3.292969</td>\n",
       "      <td>5.241148</td>\n",
       "      <td>6.535156e+00</td>\n",
       "      <td>2.005003e+05</td>\n",
       "      <td>0.119019</td>\n",
       "      <td>17.532614</td>\n",
       "      <td>4006.799803</td>\n",
       "      <td>23.831875</td>\n",
       "      <td>inf</td>\n",
       "      <td>1.493601</td>\n",
       "      <td>4.806341</td>\n",
       "      <td>92872.273438</td>\n",
       "    </tr>\n",
       "    <tr>\n",
       "      <th>min</th>\n",
       "      <td>1.000000</td>\n",
       "      <td>3.209375e+01</td>\n",
       "      <td>1.482812e+01</td>\n",
       "      <td>1.000000</td>\n",
       "      <td>1.000000</td>\n",
       "      <td>1.000000e+00</td>\n",
       "      <td>1.910000e+03</td>\n",
       "      <td>0.000000</td>\n",
       "      <td>0.000000</td>\n",
       "      <td>168.000000</td>\n",
       "      <td>0.000000</td>\n",
       "      <td>0.0</td>\n",
       "      <td>0.000000</td>\n",
       "      <td>0.000000</td>\n",
       "      <td>59174.777344</td>\n",
       "    </tr>\n",
       "    <tr>\n",
       "      <th>25%</th>\n",
       "      <td>1.000000</td>\n",
       "      <td>4.240625e+01</td>\n",
       "      <td>2.508984e+01</td>\n",
       "      <td>4.000000</td>\n",
       "      <td>4.000000</td>\n",
       "      <td>9.000000e+00</td>\n",
       "      <td>1.974000e+03</td>\n",
       "      <td>0.017654</td>\n",
       "      <td>6.000000</td>\n",
       "      <td>1564.000000</td>\n",
       "      <td>0.000000</td>\n",
       "      <td>350.0</td>\n",
       "      <td>0.000000</td>\n",
       "      <td>1.000000</td>\n",
       "      <td>153872.628906</td>\n",
       "    </tr>\n",
       "    <tr>\n",
       "      <th>50%</th>\n",
       "      <td>2.000000</td>\n",
       "      <td>5.250000e+01</td>\n",
       "      <td>3.278125e+01</td>\n",
       "      <td>6.000000</td>\n",
       "      <td>7.000000</td>\n",
       "      <td>1.400000e+01</td>\n",
       "      <td>1.977000e+03</td>\n",
       "      <td>0.075439</td>\n",
       "      <td>25.000000</td>\n",
       "      <td>5285.000000</td>\n",
       "      <td>2.000000</td>\n",
       "      <td>900.0</td>\n",
       "      <td>1.000000</td>\n",
       "      <td>3.000000</td>\n",
       "      <td>192269.648438</td>\n",
       "    </tr>\n",
       "    <tr>\n",
       "      <th>75%</th>\n",
       "      <td>2.000000</td>\n",
       "      <td>6.340625e+01</td>\n",
       "      <td>4.046875e+01</td>\n",
       "      <td>8.000000</td>\n",
       "      <td>12.000000</td>\n",
       "      <td>1.700000e+01</td>\n",
       "      <td>2.001000e+03</td>\n",
       "      <td>0.195801</td>\n",
       "      <td>36.000000</td>\n",
       "      <td>7227.000000</td>\n",
       "      <td>5.000000</td>\n",
       "      <td>1548.0</td>\n",
       "      <td>2.000000</td>\n",
       "      <td>6.000000</td>\n",
       "      <td>249135.460938</td>\n",
       "    </tr>\n",
       "    <tr>\n",
       "      <th>max</th>\n",
       "      <td>5.000000</td>\n",
       "      <td>8.787500e+01</td>\n",
       "      <td>6.006250e+01</td>\n",
       "      <td>12.000000</td>\n",
       "      <td>42.000000</td>\n",
       "      <td>1.170000e+02</td>\n",
       "      <td>2.005201e+07</td>\n",
       "      <td>0.521973</td>\n",
       "      <td>74.000000</td>\n",
       "      <td>19083.000000</td>\n",
       "      <td>141.000000</td>\n",
       "      <td>4848.0</td>\n",
       "      <td>6.000000</td>\n",
       "      <td>23.000000</td>\n",
       "      <td>633233.437500</td>\n",
       "    </tr>\n",
       "  </tbody>\n",
       "</table>\n",
       "</div>"
      ],
      "text/plain": [
       "              Rooms        Square    LifeSquare  KitchenSquare         Floor  \\\n",
       "count  10000.000000  1.000000e+04  1.000000e+04   10000.000000  10000.000000   \n",
       "mean       1.887695           inf           inf       5.906250      8.526700   \n",
       "std        0.811035  1.392969e+01  9.976562e+00       3.292969      5.241148   \n",
       "min        1.000000  3.209375e+01  1.482812e+01       1.000000      1.000000   \n",
       "25%        1.000000  4.240625e+01  2.508984e+01       4.000000      4.000000   \n",
       "50%        2.000000  5.250000e+01  3.278125e+01       6.000000      7.000000   \n",
       "75%        2.000000  6.340625e+01  4.046875e+01       8.000000     12.000000   \n",
       "max        5.000000  8.787500e+01  6.006250e+01      12.000000     42.000000   \n",
       "\n",
       "         HouseFloor     HouseYear     Ecology_1      Social_1      Social_2  \\\n",
       "count  1.000000e+04  1.000000e+04  10000.000000  10000.000000  10000.000000   \n",
       "mean            inf  3.990166e+03      0.118896     24.687000   5352.157400   \n",
       "std    6.535156e+00  2.005003e+05      0.119019     17.532614   4006.799803   \n",
       "min    1.000000e+00  1.910000e+03      0.000000      0.000000    168.000000   \n",
       "25%    9.000000e+00  1.974000e+03      0.017654      6.000000   1564.000000   \n",
       "50%    1.400000e+01  1.977000e+03      0.075439     25.000000   5285.000000   \n",
       "75%    1.700000e+01  2.001000e+03      0.195801     36.000000   7227.000000   \n",
       "max    1.170000e+02  2.005201e+07      0.521973     74.000000  19083.000000   \n",
       "\n",
       "           Social_3  Healthcare_1   Helthcare_2       Shops_1          Price  \n",
       "count  10000.000000        5202.0  10000.000000  10000.000000   10000.000000  \n",
       "mean       8.039200           inf      1.319500      4.231300  214138.937500  \n",
       "std       23.831875           inf      1.493601      4.806341   92872.273438  \n",
       "min        0.000000           0.0      0.000000      0.000000   59174.777344  \n",
       "25%        0.000000         350.0      0.000000      1.000000  153872.628906  \n",
       "50%        2.000000         900.0      1.000000      3.000000  192269.648438  \n",
       "75%        5.000000        1548.0      2.000000      6.000000  249135.460938  \n",
       "max      141.000000        4848.0      6.000000     23.000000  633233.437500  "
      ]
     },
     "execution_count": 1975,
     "metadata": {},
     "output_type": "execute_result"
    }
   ],
   "source": [
    "train_data.loc[train_data['HouseFloor']==0,'HouseFloor'] = train_data.loc[train_data['HouseFloor']==0,'Floor']\n",
    "train_data.describe()"
   ]
  },
  {
   "cell_type": "markdown",
   "id": "37db8a51",
   "metadata": {},
   "source": [
    "***Для всех объектов значение поля Floor не может быть больше значения HouseFloor***"
   ]
  },
  {
   "cell_type": "code",
   "execution_count": 1976,
   "id": "c7bbc414",
   "metadata": {},
   "outputs": [
    {
     "data": {
      "text/plain": [
       "17       6\n",
       "19      16\n",
       "21      11\n",
       "25      18\n",
       "26      13\n",
       "        ..\n",
       "9953    19\n",
       "9960    15\n",
       "9968    18\n",
       "9970    18\n",
       "9975    18\n",
       "Name: Floor, Length: 1556, dtype: int8"
      ]
     },
     "execution_count": 1976,
     "metadata": {},
     "output_type": "execute_result"
    }
   ],
   "source": [
    "train_data.loc[train_data['Floor']>train_data['HouseFloor'],'Floor'] # таких значений целых 1556"
   ]
  },
  {
   "cell_type": "code",
   "execution_count": 1977,
   "id": "d5582667",
   "metadata": {},
   "outputs": [],
   "source": [
    "train_data.loc[train_data['Floor']>train_data['HouseFloor'],'HouseFloor'] = train_data.loc[train_data['Floor']>train_data['HouseFloor'],'Floor']"
   ]
  },
  {
   "cell_type": "markdown",
   "id": "c21e143f",
   "metadata": {},
   "source": [
    "***Такие значения также можно заменить на фактический этаж квартиры***"
   ]
  },
  {
   "cell_type": "code",
   "execution_count": 1978,
   "id": "b69bc865",
   "metadata": {},
   "outputs": [
    {
     "data": {
      "text/plain": [
       "<AxesSubplot:title={'center':'Distribution of Floor amount in House'}, xlabel='HouseFloor'>"
      ]
     },
     "execution_count": 1978,
     "metadata": {},
     "output_type": "execute_result"
    },
    {
     "data": {
      "image/png": "[encoded data removed]",
      "text/plain": [
       "<Figure size 1152x576 with 2 Axes>"
      ]
     },
     "metadata": {
      "needs_background": "light"
     },
     "output_type": "display_data"
    }
   ],
   "source": [
    "plt.figure(figsize=(16,8))\n",
    "plt.subplot(121)\n",
    "plt.ylabel('Number of apartments')\n",
    "plt.xlabel('Floor')\n",
    "plt.title('Distribution of Floor number of apartment')\n",
    "train_data['Floor'].hist(bins=30,edgecolor='black')\n",
    "\n",
    "plt.subplot(122)\n",
    "plt.xlabel('HouseFloor')\n",
    "plt.title('Distribution of Floor amount in House')\n",
    "train_data['HouseFloor'].hist(bins=30, edgecolor='black')"
   ]
  },
  {
   "cell_type": "code",
   "execution_count": 1979,
   "id": "748c2cd5",
   "metadata": {},
   "outputs": [],
   "source": [
    "floor_q_975 = np.quantile(train_data['Floor'], q=0.975)\n",
    "floor_q_025 = np.quantile(train_data['Floor'], q=0.025)\n",
    "floor_mode = train_data['Floor'].mode()[0]\n",
    "train_data.loc[(train_data['Floor']>floor_q_975)|(train_data['Floor']<floor_q_025),'Floor'] = floor_mode"
   ]
  },
  {
   "cell_type": "code",
   "execution_count": 1980,
   "id": "1b76f653",
   "metadata": {},
   "outputs": [],
   "source": [
    "house_floor_q_975 = np.quantile(train_data['HouseFloor'], q=0.975)\n",
    "house_floor_q_025 = np.quantile(train_data['HouseFloor'], q=0.025)\n",
    "house_floor_mode = train_data['HouseFloor'].mode()[0]\n",
    "train_data.loc[(train_data['HouseFloor']>house_floor_q_975)|(train_data['HouseFloor']<house_floor_q_025),'HouseFloor'] = house_floor_mode"
   ]
  },
  {
   "cell_type": "code",
   "execution_count": 1981,
   "id": "f35ad87b",
   "metadata": {},
   "outputs": [
    {
     "data": {
      "text/html": [
       "<div>\n",
       "<style scoped>\n",
       "    .dataframe tbody tr th:only-of-type {\n",
       "        vertical-align: middle;\n",
       "    }\n",
       "\n",
       "    .dataframe tbody tr th {\n",
       "        vertical-align: top;\n",
       "    }\n",
       "\n",
       "    .dataframe thead th {\n",
       "        text-align: right;\n",
       "    }\n",
       "</style>\n",
       "<table border=\"1\" class=\"dataframe\">\n",
       "  <thead>\n",
       "    <tr style=\"text-align: right;\">\n",
       "      <th></th>\n",
       "      <th>Rooms</th>\n",
       "      <th>Square</th>\n",
       "      <th>LifeSquare</th>\n",
       "      <th>KitchenSquare</th>\n",
       "      <th>Floor</th>\n",
       "      <th>HouseFloor</th>\n",
       "      <th>HouseYear</th>\n",
       "      <th>Ecology_1</th>\n",
       "      <th>Social_1</th>\n",
       "      <th>Social_2</th>\n",
       "      <th>Social_3</th>\n",
       "      <th>Healthcare_1</th>\n",
       "      <th>Helthcare_2</th>\n",
       "      <th>Shops_1</th>\n",
       "      <th>Price</th>\n",
       "    </tr>\n",
       "  </thead>\n",
       "  <tbody>\n",
       "    <tr>\n",
       "      <th>count</th>\n",
       "      <td>10000.000000</td>\n",
       "      <td>1.000000e+04</td>\n",
       "      <td>1.000000e+04</td>\n",
       "      <td>10000.000000</td>\n",
       "      <td>10000.000000</td>\n",
       "      <td>10000.0000</td>\n",
       "      <td>1.000000e+04</td>\n",
       "      <td>10000.000000</td>\n",
       "      <td>10000.000000</td>\n",
       "      <td>10000.000000</td>\n",
       "      <td>10000.000000</td>\n",
       "      <td>5202.0</td>\n",
       "      <td>10000.000000</td>\n",
       "      <td>10000.000000</td>\n",
       "      <td>10000.000000</td>\n",
       "    </tr>\n",
       "    <tr>\n",
       "      <th>mean</th>\n",
       "      <td>1.887695</td>\n",
       "      <td>inf</td>\n",
       "      <td>inf</td>\n",
       "      <td>5.906250</td>\n",
       "      <td>8.198500</td>\n",
       "      <td>inf</td>\n",
       "      <td>3.990166e+03</td>\n",
       "      <td>0.118896</td>\n",
       "      <td>24.687000</td>\n",
       "      <td>5352.157400</td>\n",
       "      <td>8.039200</td>\n",
       "      <td>inf</td>\n",
       "      <td>1.319500</td>\n",
       "      <td>4.231300</td>\n",
       "      <td>214138.937500</td>\n",
       "    </tr>\n",
       "    <tr>\n",
       "      <th>std</th>\n",
       "      <td>0.811035</td>\n",
       "      <td>1.392969e+01</td>\n",
       "      <td>9.976562e+00</td>\n",
       "      <td>3.292969</td>\n",
       "      <td>4.687653</td>\n",
       "      <td>5.4375</td>\n",
       "      <td>2.005003e+05</td>\n",
       "      <td>0.119019</td>\n",
       "      <td>17.532614</td>\n",
       "      <td>4006.799803</td>\n",
       "      <td>23.831875</td>\n",
       "      <td>inf</td>\n",
       "      <td>1.493601</td>\n",
       "      <td>4.806341</td>\n",
       "      <td>92872.273438</td>\n",
       "    </tr>\n",
       "    <tr>\n",
       "      <th>min</th>\n",
       "      <td>1.000000</td>\n",
       "      <td>3.209375e+01</td>\n",
       "      <td>1.482812e+01</td>\n",
       "      <td>1.000000</td>\n",
       "      <td>2.000000</td>\n",
       "      <td>4.0000</td>\n",
       "      <td>1.910000e+03</td>\n",
       "      <td>0.000000</td>\n",
       "      <td>0.000000</td>\n",
       "      <td>168.000000</td>\n",
       "      <td>0.000000</td>\n",
       "      <td>0.0</td>\n",
       "      <td>0.000000</td>\n",
       "      <td>0.000000</td>\n",
       "      <td>59174.777344</td>\n",
       "    </tr>\n",
       "    <tr>\n",
       "      <th>25%</th>\n",
       "      <td>1.000000</td>\n",
       "      <td>4.240625e+01</td>\n",
       "      <td>2.508984e+01</td>\n",
       "      <td>4.000000</td>\n",
       "      <td>4.000000</td>\n",
       "      <td>9.0000</td>\n",
       "      <td>1.974000e+03</td>\n",
       "      <td>0.017654</td>\n",
       "      <td>6.000000</td>\n",
       "      <td>1564.000000</td>\n",
       "      <td>0.000000</td>\n",
       "      <td>350.0</td>\n",
       "      <td>0.000000</td>\n",
       "      <td>1.000000</td>\n",
       "      <td>153872.628906</td>\n",
       "    </tr>\n",
       "    <tr>\n",
       "      <th>50%</th>\n",
       "      <td>2.000000</td>\n",
       "      <td>5.250000e+01</td>\n",
       "      <td>3.278125e+01</td>\n",
       "      <td>6.000000</td>\n",
       "      <td>7.000000</td>\n",
       "      <td>14.0000</td>\n",
       "      <td>1.977000e+03</td>\n",
       "      <td>0.075439</td>\n",
       "      <td>25.000000</td>\n",
       "      <td>5285.000000</td>\n",
       "      <td>2.000000</td>\n",
       "      <td>900.0</td>\n",
       "      <td>1.000000</td>\n",
       "      <td>3.000000</td>\n",
       "      <td>192269.648438</td>\n",
       "    </tr>\n",
       "    <tr>\n",
       "      <th>75%</th>\n",
       "      <td>2.000000</td>\n",
       "      <td>6.340625e+01</td>\n",
       "      <td>4.046875e+01</td>\n",
       "      <td>8.000000</td>\n",
       "      <td>11.000000</td>\n",
       "      <td>17.0000</td>\n",
       "      <td>2.001000e+03</td>\n",
       "      <td>0.195801</td>\n",
       "      <td>36.000000</td>\n",
       "      <td>7227.000000</td>\n",
       "      <td>5.000000</td>\n",
       "      <td>1548.0</td>\n",
       "      <td>2.000000</td>\n",
       "      <td>6.000000</td>\n",
       "      <td>249135.460938</td>\n",
       "    </tr>\n",
       "    <tr>\n",
       "      <th>max</th>\n",
       "      <td>5.000000</td>\n",
       "      <td>8.787500e+01</td>\n",
       "      <td>6.006250e+01</td>\n",
       "      <td>12.000000</td>\n",
       "      <td>21.000000</td>\n",
       "      <td>25.0000</td>\n",
       "      <td>2.005201e+07</td>\n",
       "      <td>0.521973</td>\n",
       "      <td>74.000000</td>\n",
       "      <td>19083.000000</td>\n",
       "      <td>141.000000</td>\n",
       "      <td>4848.0</td>\n",
       "      <td>6.000000</td>\n",
       "      <td>23.000000</td>\n",
       "      <td>633233.437500</td>\n",
       "    </tr>\n",
       "  </tbody>\n",
       "</table>\n",
       "</div>"
      ],
      "text/plain": [
       "              Rooms        Square    LifeSquare  KitchenSquare         Floor  \\\n",
       "count  10000.000000  1.000000e+04  1.000000e+04   10000.000000  10000.000000   \n",
       "mean       1.887695           inf           inf       5.906250      8.198500   \n",
       "std        0.811035  1.392969e+01  9.976562e+00       3.292969      4.687653   \n",
       "min        1.000000  3.209375e+01  1.482812e+01       1.000000      2.000000   \n",
       "25%        1.000000  4.240625e+01  2.508984e+01       4.000000      4.000000   \n",
       "50%        2.000000  5.250000e+01  3.278125e+01       6.000000      7.000000   \n",
       "75%        2.000000  6.340625e+01  4.046875e+01       8.000000     11.000000   \n",
       "max        5.000000  8.787500e+01  6.006250e+01      12.000000     21.000000   \n",
       "\n",
       "       HouseFloor     HouseYear     Ecology_1      Social_1      Social_2  \\\n",
       "count  10000.0000  1.000000e+04  10000.000000  10000.000000  10000.000000   \n",
       "mean          inf  3.990166e+03      0.118896     24.687000   5352.157400   \n",
       "std        5.4375  2.005003e+05      0.119019     17.532614   4006.799803   \n",
       "min        4.0000  1.910000e+03      0.000000      0.000000    168.000000   \n",
       "25%        9.0000  1.974000e+03      0.017654      6.000000   1564.000000   \n",
       "50%       14.0000  1.977000e+03      0.075439     25.000000   5285.000000   \n",
       "75%       17.0000  2.001000e+03      0.195801     36.000000   7227.000000   \n",
       "max       25.0000  2.005201e+07      0.521973     74.000000  19083.000000   \n",
       "\n",
       "           Social_3  Healthcare_1   Helthcare_2       Shops_1          Price  \n",
       "count  10000.000000        5202.0  10000.000000  10000.000000   10000.000000  \n",
       "mean       8.039200           inf      1.319500      4.231300  214138.937500  \n",
       "std       23.831875           inf      1.493601      4.806341   92872.273438  \n",
       "min        0.000000           0.0      0.000000      0.000000   59174.777344  \n",
       "25%        0.000000         350.0      0.000000      1.000000  153872.628906  \n",
       "50%        2.000000         900.0      1.000000      3.000000  192269.648438  \n",
       "75%        5.000000        1548.0      2.000000      6.000000  249135.460938  \n",
       "max      141.000000        4848.0      6.000000     23.000000  633233.437500  "
      ]
     },
     "execution_count": 1981,
     "metadata": {},
     "output_type": "execute_result"
    }
   ],
   "source": [
    "train_data.describe()"
   ]
  },
  {
   "cell_type": "code",
   "execution_count": 1982,
   "id": "a9769ac6",
   "metadata": {},
   "outputs": [
    {
     "data": {
      "text/plain": [
       "<AxesSubplot:title={'center':\"Distribution of Floor's amount in House\"}, xlabel='HouseFloor'>"
      ]
     },
     "execution_count": 1982,
     "metadata": {},
     "output_type": "execute_result"
    },
    {
     "data": {
      "image/png": "[encoded data removed]",
      "text/plain": [
       "<Figure size 1152x576 with 2 Axes>"
      ]
     },
     "metadata": {
      "needs_background": "light"
     },
     "output_type": "display_data"
    }
   ],
   "source": [
    "plt.figure(figsize=(16,8))\n",
    "plt.subplot(121)\n",
    "plt.ylabel('Number of apartments')\n",
    "plt.xlabel('Floor')\n",
    "plt.title('Distribution of Floor number of apartment')\n",
    "train_data['Floor'].hist(bins=20,edgecolor='black')\n",
    "\n",
    "plt.subplot(122)\n",
    "plt.xlabel('HouseFloor')\n",
    "plt.title(\"Distribution of Floor's amount in House\")\n",
    "train_data['HouseFloor'].hist(bins=20, edgecolor='black')"
   ]
  },
  {
   "cell_type": "code",
   "execution_count": 1983,
   "id": "02b76c1b",
   "metadata": {},
   "outputs": [
    {
     "data": {
      "text/plain": [
       "<AxesSubplot:xlabel='HouseFloor'>"
      ]
     },
     "execution_count": 1983,
     "metadata": {},
     "output_type": "execute_result"
    },
    {
     "data": {
      "image/png": "[encoded data removed]",
      "text/plain": [
       "<Figure size 1296x360 with 2 Axes>"
      ]
     },
     "metadata": {
      "needs_background": "light"
     },
     "output_type": "display_data"
    }
   ],
   "source": [
    "plt.figure(figsize=(18,5))\n",
    "plt.subplot(121)\n",
    "plt.xlabel('Floor')\n",
    "sns.boxplot(train_data['Floor'], whis=1.5)\n",
    "\n",
    "plt.subplot(122)\n",
    "plt.xlabel('HouseFloor')\n",
    "sns.boxplot(train_data['HouseFloor'], whis=1.5)\n"
   ]
  },
  {
   "cell_type": "markdown",
   "id": "3feebbcb",
   "metadata": {},
   "source": [
    "### HouseYear"
   ]
  },
  {
   "cell_type": "code",
   "execution_count": 1984,
   "id": "4d593dde",
   "metadata": {},
   "outputs": [
    {
     "data": {
      "text/plain": [
       "array([    1910,     1912,     1914,     1916,     1917,     1918,\n",
       "           1919,     1928,     1929,     1930,     1931,     1932,\n",
       "           1933,     1934,     1935,     1936,     1937,     1938,\n",
       "           1939,     1940,     1941,     1942,     1947,     1948,\n",
       "           1950,     1951,     1952,     1953,     1954,     1955,\n",
       "           1956,     1957,     1958,     1959,     1960,     1961,\n",
       "           1962,     1963,     1964,     1965,     1966,     1967,\n",
       "           1968,     1969,     1970,     1971,     1972,     1973,\n",
       "           1974,     1975,     1976,     1977,     1978,     1979,\n",
       "           1980,     1981,     1982,     1983,     1984,     1985,\n",
       "           1986,     1987,     1988,     1989,     1990,     1991,\n",
       "           1992,     1993,     1994,     1995,     1996,     1997,\n",
       "           1998,     1999,     2000,     2001,     2002,     2003,\n",
       "           2004,     2005,     2006,     2007,     2008,     2009,\n",
       "           2010,     2011,     2012,     2013,     2014,     2015,\n",
       "           2016,     2017,     2018,     2019,     2020,     4968,\n",
       "       20052011])"
      ]
     },
     "execution_count": 1984,
     "metadata": {},
     "output_type": "execute_result"
    }
   ],
   "source": [
    "train_data['HouseYear'].sort_values().unique()"
   ]
  },
  {
   "cell_type": "markdown",
   "id": "474d05cf",
   "metadata": {},
   "source": [
    "***Наблюдается два странных значения - 4968 и 20052011***"
   ]
  },
  {
   "cell_type": "code",
   "execution_count": 1985,
   "id": "9717e848",
   "metadata": {},
   "outputs": [
    {
     "data": {
      "text/plain": [
       "8828        4968\n",
       "9163    20052011\n",
       "Name: HouseYear, dtype: int32"
      ]
     },
     "execution_count": 1985,
     "metadata": {},
     "output_type": "execute_result"
    }
   ],
   "source": [
    "train_data.loc[(train_data['HouseYear']==4968)|(train_data['HouseYear']==20052011),'HouseYear']"
   ]
  },
  {
   "cell_type": "code",
   "execution_count": 1986,
   "id": "d109cef6",
   "metadata": {},
   "outputs": [],
   "source": [
    "house_year_mode = train_data['HouseYear'].mode()[0]\n",
    "train_data.loc[(train_data['HouseYear']>2020),'HouseYear'] = house_year_mode # значение 4968 является явной ошибкой, поэтому его можно заменить на моду"
   ]
  },
  {
   "cell_type": "markdown",
   "id": "b86de787",
   "metadata": {},
   "source": [
    "***Значение 20052011 является либо временным промежутком, либо деформированной в результате некорректной обработки данных записью '2005/2011'. Так или иначе, также возможна замена моду***"
   ]
  },
  {
   "cell_type": "code",
   "execution_count": 1987,
   "id": "2e83b37a",
   "metadata": {},
   "outputs": [
    {
     "data": {
      "text/plain": [
       "<AxesSubplot:title={'center':\"Distribution of apartment's House year\"}, xlabel='HouseYear', ylabel='Number of apartments'>"
      ]
     },
     "execution_count": 1987,
     "metadata": {},
     "output_type": "execute_result"
    },
    {
     "data": {
      "image/png": "[encoded data removed]",
      "text/plain": [
       "<Figure size 1152x576 with 1 Axes>"
      ]
     },
     "metadata": {
      "needs_background": "light"
     },
     "output_type": "display_data"
    }
   ],
   "source": [
    "plt.figure(figsize=(16,8))\n",
    "plt.ylabel('Number of apartments')\n",
    "plt.xlabel('HouseYear')\n",
    "plt.title(\"Distribution of apartment's House year\")\n",
    "train_data['HouseYear'].hist(bins=30,edgecolor='black')"
   ]
  },
  {
   "cell_type": "code",
   "execution_count": 1988,
   "id": "4b3417db",
   "metadata": {},
   "outputs": [
    {
     "data": {
      "text/plain": [
       "<AxesSubplot:xlabel='HouseYear'>"
      ]
     },
     "execution_count": 1988,
     "metadata": {},
     "output_type": "execute_result"
    },
    {
     "data": {
      "image/png": "[encoded data removed]",
      "text/plain": [
       "<Figure size 1296x360 with 1 Axes>"
      ]
     },
     "metadata": {
      "needs_background": "light"
     },
     "output_type": "display_data"
    }
   ],
   "source": [
    "plt.figure(figsize=(18,5))\n",
    "plt.xlabel('HouseYear')\n",
    "sns.boxplot(train_data['HouseYear'], whis=1.5)"
   ]
  },
  {
   "cell_type": "markdown",
   "id": "e2332d0a",
   "metadata": {},
   "source": [
    "***Выбросы наблюдаются слева --> домов старого фонда не так много, их можно заменить на моду***"
   ]
  },
  {
   "cell_type": "code",
   "execution_count": 1989,
   "id": "bba35f2f",
   "metadata": {},
   "outputs": [],
   "source": [
    "house_year_025 = np.quantile(train_data['HouseYear'],q=0.025)\n",
    "train_data.loc[train_data['HouseYear']<house_year_025,'HouseYear'] = house_year_mode"
   ]
  },
  {
   "cell_type": "code",
   "execution_count": 1990,
   "id": "32dd8ba7",
   "metadata": {},
   "outputs": [
    {
     "data": {
      "text/plain": [
       "<AxesSubplot:xlabel='HouseYear'>"
      ]
     },
     "execution_count": 1990,
     "metadata": {},
     "output_type": "execute_result"
    },
    {
     "data": {
      "image/png": "[encoded data removed]",
      "text/plain": [
       "<Figure size 1296x360 with 1 Axes>"
      ]
     },
     "metadata": {
      "needs_background": "light"
     },
     "output_type": "display_data"
    }
   ],
   "source": [
    "plt.figure(figsize=(18,5))\n",
    "plt.xlabel('HouseYear')\n",
    "sns.boxplot(train_data['HouseYear'], whis=1.5)"
   ]
  },
  {
   "cell_type": "markdown",
   "id": "b3519e83",
   "metadata": {},
   "source": [
    "### Ecology 1"
   ]
  },
  {
   "cell_type": "code",
   "execution_count": 1991,
   "id": "39195767",
   "metadata": {},
   "outputs": [
    {
     "data": {
      "text/plain": [
       "count    10000.000000\n",
       "mean         0.118896\n",
       "std          0.119019\n",
       "min          0.000000\n",
       "25%          0.017654\n",
       "50%          0.075439\n",
       "75%          0.195801\n",
       "max          0.521973\n",
       "Name: Ecology_1, dtype: float64"
      ]
     },
     "execution_count": 1991,
     "metadata": {},
     "output_type": "execute_result"
    }
   ],
   "source": [
    "train_data['Ecology_1'].describe()"
   ]
  },
  {
   "cell_type": "code",
   "execution_count": 1992,
   "id": "537eb700",
   "metadata": {},
   "outputs": [
    {
     "data": {
      "text/plain": [
       "22      0.0\n",
       "51      0.0\n",
       "98      0.0\n",
       "105     0.0\n",
       "121     0.0\n",
       "       ... \n",
       "9892    0.0\n",
       "9905    0.0\n",
       "9961    0.0\n",
       "9974    0.0\n",
       "9986    0.0\n",
       "Name: Ecology_1, Length: 547, dtype: float16"
      ]
     },
     "execution_count": 1992,
     "metadata": {},
     "output_type": "execute_result"
    }
   ],
   "source": [
    "train_data.loc[train_data['Ecology_1']==0,'Ecology_1']"
   ]
  },
  {
   "cell_type": "code",
   "execution_count": 1993,
   "id": "b1b33a0d",
   "metadata": {},
   "outputs": [
    {
     "data": {
      "text/plain": [
       "<AxesSubplot:title={'center':'Distribution of Ecological enviroment of apartment'}, xlabel='Ecology_1', ylabel='Number of apartments'>"
      ]
     },
     "execution_count": 1993,
     "metadata": {},
     "output_type": "execute_result"
    },
    {
     "data": {
      "image/png": "[encoded data removed]",
      "text/plain": [
       "<Figure size 1152x576 with 1 Axes>"
      ]
     },
     "metadata": {
      "needs_background": "light"
     },
     "output_type": "display_data"
    }
   ],
   "source": [
    "plt.figure(figsize=(16,8))\n",
    "plt.ylabel('Number of apartments')\n",
    "plt.xlabel('Ecology_1')\n",
    "plt.title('Distribution of Ecological enviroment of apartment')\n",
    "train_data['Ecology_1'].hist(bins=35,edgecolor='black')"
   ]
  },
  {
   "cell_type": "code",
   "execution_count": 1994,
   "id": "9b47913e",
   "metadata": {},
   "outputs": [
    {
     "data": {
      "text/plain": [
       "<AxesSubplot:xlabel='Ecology_1'>"
      ]
     },
     "execution_count": 1994,
     "metadata": {},
     "output_type": "execute_result"
    },
    {
     "data": {
      "image/png": "[encoded data removed]",
      "text/plain": [
       "<Figure size 1296x360 with 1 Axes>"
      ]
     },
     "metadata": {
      "needs_background": "light"
     },
     "output_type": "display_data"
    }
   ],
   "source": [
    "plt.figure(figsize=(18,5))\n",
    "plt.xlabel('Ecology_1')\n",
    "sns.boxplot(train_data['Ecology_1'], whis=1.5)"
   ]
  },
  {
   "cell_type": "markdown",
   "id": "3d71b394",
   "metadata": {},
   "source": [
    "***Распределение не нормальное --> меняем выбросы на медиану. В выборке 547 значений, равных нулю, также большая часть данных находится рядом с нулем, что скорее всего означает, что ноль не является выбросом для данного признака.***"
   ]
  },
  {
   "cell_type": "code",
   "execution_count": 1995,
   "id": "0211e976",
   "metadata": {},
   "outputs": [],
   "source": [
    "eco_1_median = train_data['Ecology_1'].median()\n",
    "eco_1_q_975 = np.quantile(train_data['Ecology_1'], q=0.975)\n",
    "eco_1_q_025 = np.quantile(train_data['Ecology_1'], q=0.025)\n",
    "train_data.loc[(train_data['Ecology_1']>eco_1_q_975)|(train_data['Ecology_1']<eco_1_q_025),'Ecology_1'] = eco_1_median"
   ]
  },
  {
   "cell_type": "code",
   "execution_count": 1996,
   "id": "de913702",
   "metadata": {},
   "outputs": [
    {
     "data": {
      "text/plain": [
       "<AxesSubplot:xlabel='Ecology_1'>"
      ]
     },
     "execution_count": 1996,
     "metadata": {},
     "output_type": "execute_result"
    },
    {
     "data": {
      "image/png": "[encoded data removed]",
      "text/plain": [
       "<Figure size 1296x360 with 1 Axes>"
      ]
     },
     "metadata": {
      "needs_background": "light"
     },
     "output_type": "display_data"
    }
   ],
   "source": [
    "plt.figure(figsize=(18,5))\n",
    "plt.xlabel('Ecology_1')\n",
    "sns.boxplot(train_data['Ecology_1'], whis=1.5)"
   ]
  },
  {
   "cell_type": "markdown",
   "id": "f6b3fcbe",
   "metadata": {},
   "source": [
    "### Ecology 2, Ecology 3"
   ]
  },
  {
   "cell_type": "code",
   "execution_count": 1997,
   "id": "d3298cd2",
   "metadata": {},
   "outputs": [
    {
     "data": {
      "text/plain": [
       "count     10000\n",
       "unique        2\n",
       "top           B\n",
       "freq       9903\n",
       "Name: Ecology_2, dtype: object"
      ]
     },
     "execution_count": 1997,
     "metadata": {},
     "output_type": "execute_result"
    }
   ],
   "source": [
    "train_data.Ecology_2.describe()"
   ]
  },
  {
   "cell_type": "code",
   "execution_count": 1998,
   "id": "30daf14d",
   "metadata": {},
   "outputs": [
    {
     "data": {
      "text/plain": [
       "count     10000\n",
       "unique        2\n",
       "top           B\n",
       "freq       9725\n",
       "Name: Ecology_3, dtype: object"
      ]
     },
     "execution_count": 1998,
     "metadata": {},
     "output_type": "execute_result"
    }
   ],
   "source": [
    "train_data.Ecology_3.describe()"
   ]
  },
  {
   "cell_type": "code",
   "execution_count": 1999,
   "id": "53d72fda",
   "metadata": {},
   "outputs": [
    {
     "data": {
      "text/plain": [
       "B    9903\n",
       "A      97\n",
       "Name: Ecology_2, dtype: int64"
      ]
     },
     "execution_count": 1999,
     "metadata": {},
     "output_type": "execute_result"
    }
   ],
   "source": [
    "train_data.Ecology_2.value_counts()"
   ]
  },
  {
   "cell_type": "code",
   "execution_count": 2000,
   "id": "e00b572a",
   "metadata": {},
   "outputs": [
    {
     "data": {
      "text/plain": [
       "B    9725\n",
       "A     275\n",
       "Name: Ecology_3, dtype: int64"
      ]
     },
     "execution_count": 2000,
     "metadata": {},
     "output_type": "execute_result"
    }
   ],
   "source": [
    "train_data.Ecology_3.value_counts()"
   ]
  },
  {
   "cell_type": "markdown",
   "id": "71ae779a",
   "metadata": {},
   "source": [
    "***В обоих категориальных признаках Ecology 2-3 наблюдается высокая монотонность: в обоих случаях практически вся выборка представлена объектом В. Поэтому данные 2 признака разумнее будет исключить***"
   ]
  },
  {
   "cell_type": "code",
   "execution_count": 2001,
   "id": "fe7d3277",
   "metadata": {},
   "outputs": [],
   "source": [
    "train_data.drop(['Ecology_2', 'Ecology_3'], axis=1,inplace=True)"
   ]
  },
  {
   "cell_type": "code",
   "execution_count": 2002,
   "id": "cebebc05",
   "metadata": {},
   "outputs": [
    {
     "data": {
      "text/html": [
       "<div>\n",
       "<style scoped>\n",
       "    .dataframe tbody tr th:only-of-type {\n",
       "        vertical-align: middle;\n",
       "    }\n",
       "\n",
       "    .dataframe tbody tr th {\n",
       "        vertical-align: top;\n",
       "    }\n",
       "\n",
       "    .dataframe thead th {\n",
       "        text-align: right;\n",
       "    }\n",
       "</style>\n",
       "<table border=\"1\" class=\"dataframe\">\n",
       "  <thead>\n",
       "    <tr style=\"text-align: right;\">\n",
       "      <th></th>\n",
       "      <th>Id</th>\n",
       "      <th>DistrictId</th>\n",
       "      <th>Rooms</th>\n",
       "      <th>Square</th>\n",
       "      <th>LifeSquare</th>\n",
       "      <th>KitchenSquare</th>\n",
       "      <th>Floor</th>\n",
       "      <th>HouseFloor</th>\n",
       "      <th>HouseYear</th>\n",
       "      <th>Ecology_1</th>\n",
       "      <th>Ecology_2</th>\n",
       "      <th>Ecology_3</th>\n",
       "      <th>Social_1</th>\n",
       "      <th>Social_2</th>\n",
       "      <th>Social_3</th>\n",
       "      <th>Healthcare_1</th>\n",
       "      <th>Helthcare_2</th>\n",
       "      <th>Shops_1</th>\n",
       "      <th>Shops_2</th>\n",
       "    </tr>\n",
       "  </thead>\n",
       "  <tbody>\n",
       "    <tr>\n",
       "      <th>0</th>\n",
       "      <td>4567</td>\n",
       "      <td>44</td>\n",
       "      <td>1.0</td>\n",
       "      <td>36.847630</td>\n",
       "      <td>19.094182</td>\n",
       "      <td>5.0</td>\n",
       "      <td>5</td>\n",
       "      <td>9.0</td>\n",
       "      <td>1970</td>\n",
       "      <td>0.036122</td>\n",
       "      <td>B</td>\n",
       "      <td>B</td>\n",
       "      <td>24</td>\n",
       "      <td>4378</td>\n",
       "      <td>0</td>\n",
       "      <td>1036.0</td>\n",
       "      <td>1</td>\n",
       "      <td>1</td>\n",
       "      <td>B</td>\n",
       "    </tr>\n",
       "    <tr>\n",
       "      <th>1</th>\n",
       "      <td>5925</td>\n",
       "      <td>62</td>\n",
       "      <td>1.0</td>\n",
       "      <td>42.493907</td>\n",
       "      <td>42.568133</td>\n",
       "      <td>10.0</td>\n",
       "      <td>7</td>\n",
       "      <td>17.0</td>\n",
       "      <td>2017</td>\n",
       "      <td>0.072158</td>\n",
       "      <td>B</td>\n",
       "      <td>B</td>\n",
       "      <td>2</td>\n",
       "      <td>629</td>\n",
       "      <td>1</td>\n",
       "      <td>NaN</td>\n",
       "      <td>0</td>\n",
       "      <td>0</td>\n",
       "      <td>A</td>\n",
       "    </tr>\n",
       "    <tr>\n",
       "      <th>2</th>\n",
       "      <td>960</td>\n",
       "      <td>27</td>\n",
       "      <td>2.0</td>\n",
       "      <td>59.463678</td>\n",
       "      <td>NaN</td>\n",
       "      <td>9.0</td>\n",
       "      <td>19</td>\n",
       "      <td>19.0</td>\n",
       "      <td>1977</td>\n",
       "      <td>0.211401</td>\n",
       "      <td>B</td>\n",
       "      <td>B</td>\n",
       "      <td>9</td>\n",
       "      <td>1892</td>\n",
       "      <td>0</td>\n",
       "      <td>NaN</td>\n",
       "      <td>0</td>\n",
       "      <td>1</td>\n",
       "      <td>B</td>\n",
       "    </tr>\n",
       "    <tr>\n",
       "      <th>3</th>\n",
       "      <td>3848</td>\n",
       "      <td>23</td>\n",
       "      <td>3.0</td>\n",
       "      <td>49.646030</td>\n",
       "      <td>33.893825</td>\n",
       "      <td>6.0</td>\n",
       "      <td>2</td>\n",
       "      <td>2.0</td>\n",
       "      <td>1965</td>\n",
       "      <td>0.014073</td>\n",
       "      <td>B</td>\n",
       "      <td>B</td>\n",
       "      <td>2</td>\n",
       "      <td>475</td>\n",
       "      <td>0</td>\n",
       "      <td>NaN</td>\n",
       "      <td>0</td>\n",
       "      <td>0</td>\n",
       "      <td>B</td>\n",
       "    </tr>\n",
       "    <tr>\n",
       "      <th>4</th>\n",
       "      <td>746</td>\n",
       "      <td>74</td>\n",
       "      <td>1.0</td>\n",
       "      <td>53.837056</td>\n",
       "      <td>NaN</td>\n",
       "      <td>1.0</td>\n",
       "      <td>8</td>\n",
       "      <td>17.0</td>\n",
       "      <td>1977</td>\n",
       "      <td>0.309479</td>\n",
       "      <td>B</td>\n",
       "      <td>B</td>\n",
       "      <td>35</td>\n",
       "      <td>7715</td>\n",
       "      <td>4</td>\n",
       "      <td>990.0</td>\n",
       "      <td>0</td>\n",
       "      <td>6</td>\n",
       "      <td>B</td>\n",
       "    </tr>\n",
       "    <tr>\n",
       "      <th>...</th>\n",
       "      <td>...</td>\n",
       "      <td>...</td>\n",
       "      <td>...</td>\n",
       "      <td>...</td>\n",
       "      <td>...</td>\n",
       "      <td>...</td>\n",
       "      <td>...</td>\n",
       "      <td>...</td>\n",
       "      <td>...</td>\n",
       "      <td>...</td>\n",
       "      <td>...</td>\n",
       "      <td>...</td>\n",
       "      <td>...</td>\n",
       "      <td>...</td>\n",
       "      <td>...</td>\n",
       "      <td>...</td>\n",
       "      <td>...</td>\n",
       "      <td>...</td>\n",
       "      <td>...</td>\n",
       "    </tr>\n",
       "    <tr>\n",
       "      <th>4995</th>\n",
       "      <td>10379</td>\n",
       "      <td>29</td>\n",
       "      <td>2.0</td>\n",
       "      <td>43.177521</td>\n",
       "      <td>30.339945</td>\n",
       "      <td>5.0</td>\n",
       "      <td>6</td>\n",
       "      <td>5.0</td>\n",
       "      <td>1962</td>\n",
       "      <td>0.069660</td>\n",
       "      <td>B</td>\n",
       "      <td>B</td>\n",
       "      <td>31</td>\n",
       "      <td>6119</td>\n",
       "      <td>4</td>\n",
       "      <td>NaN</td>\n",
       "      <td>1</td>\n",
       "      <td>2</td>\n",
       "      <td>B</td>\n",
       "    </tr>\n",
       "    <tr>\n",
       "      <th>4996</th>\n",
       "      <td>16138</td>\n",
       "      <td>38</td>\n",
       "      <td>3.0</td>\n",
       "      <td>93.698122</td>\n",
       "      <td>94.521465</td>\n",
       "      <td>10.0</td>\n",
       "      <td>21</td>\n",
       "      <td>27.0</td>\n",
       "      <td>2018</td>\n",
       "      <td>0.060753</td>\n",
       "      <td>B</td>\n",
       "      <td>B</td>\n",
       "      <td>15</td>\n",
       "      <td>2787</td>\n",
       "      <td>2</td>\n",
       "      <td>520.0</td>\n",
       "      <td>0</td>\n",
       "      <td>7</td>\n",
       "      <td>B</td>\n",
       "    </tr>\n",
       "    <tr>\n",
       "      <th>4997</th>\n",
       "      <td>3912</td>\n",
       "      <td>101</td>\n",
       "      <td>1.0</td>\n",
       "      <td>33.656723</td>\n",
       "      <td>19.003259</td>\n",
       "      <td>5.0</td>\n",
       "      <td>2</td>\n",
       "      <td>5.0</td>\n",
       "      <td>1966</td>\n",
       "      <td>0.038693</td>\n",
       "      <td>B</td>\n",
       "      <td>B</td>\n",
       "      <td>28</td>\n",
       "      <td>6533</td>\n",
       "      <td>1</td>\n",
       "      <td>1015.0</td>\n",
       "      <td>2</td>\n",
       "      <td>5</td>\n",
       "      <td>B</td>\n",
       "    </tr>\n",
       "    <tr>\n",
       "      <th>4998</th>\n",
       "      <td>5722</td>\n",
       "      <td>10</td>\n",
       "      <td>1.0</td>\n",
       "      <td>38.635155</td>\n",
       "      <td>20.976257</td>\n",
       "      <td>9.0</td>\n",
       "      <td>8</td>\n",
       "      <td>14.0</td>\n",
       "      <td>1970</td>\n",
       "      <td>0.089040</td>\n",
       "      <td>B</td>\n",
       "      <td>B</td>\n",
       "      <td>33</td>\n",
       "      <td>7976</td>\n",
       "      <td>5</td>\n",
       "      <td>NaN</td>\n",
       "      <td>0</td>\n",
       "      <td>11</td>\n",
       "      <td>B</td>\n",
       "    </tr>\n",
       "    <tr>\n",
       "      <th>4999</th>\n",
       "      <td>11004</td>\n",
       "      <td>21</td>\n",
       "      <td>2.0</td>\n",
       "      <td>67.122742</td>\n",
       "      <td>33.944344</td>\n",
       "      <td>13.0</td>\n",
       "      <td>9</td>\n",
       "      <td>17.0</td>\n",
       "      <td>2009</td>\n",
       "      <td>0.194489</td>\n",
       "      <td>B</td>\n",
       "      <td>B</td>\n",
       "      <td>47</td>\n",
       "      <td>8004</td>\n",
       "      <td>3</td>\n",
       "      <td>125.0</td>\n",
       "      <td>3</td>\n",
       "      <td>5</td>\n",
       "      <td>B</td>\n",
       "    </tr>\n",
       "  </tbody>\n",
       "</table>\n",
       "<p>5000 rows × 19 columns</p>\n",
       "</div>"
      ],
      "text/plain": [
       "         Id  DistrictId  Rooms     Square  LifeSquare  KitchenSquare  Floor  \\\n",
       "0      4567          44    1.0  36.847630   19.094182            5.0      5   \n",
       "1      5925          62    1.0  42.493907   42.568133           10.0      7   \n",
       "2       960          27    2.0  59.463678         NaN            9.0     19   \n",
       "3      3848          23    3.0  49.646030   33.893825            6.0      2   \n",
       "4       746          74    1.0  53.837056         NaN            1.0      8   \n",
       "...     ...         ...    ...        ...         ...            ...    ...   \n",
       "4995  10379          29    2.0  43.177521   30.339945            5.0      6   \n",
       "4996  16138          38    3.0  93.698122   94.521465           10.0     21   \n",
       "4997   3912         101    1.0  33.656723   19.003259            5.0      2   \n",
       "4998   5722          10    1.0  38.635155   20.976257            9.0      8   \n",
       "4999  11004          21    2.0  67.122742   33.944344           13.0      9   \n",
       "\n",
       "      HouseFloor  HouseYear  Ecology_1 Ecology_2 Ecology_3  Social_1  \\\n",
       "0            9.0       1970   0.036122         B         B        24   \n",
       "1           17.0       2017   0.072158         B         B         2   \n",
       "2           19.0       1977   0.211401         B         B         9   \n",
       "3            2.0       1965   0.014073         B         B         2   \n",
       "4           17.0       1977   0.309479         B         B        35   \n",
       "...          ...        ...        ...       ...       ...       ...   \n",
       "4995         5.0       1962   0.069660         B         B        31   \n",
       "4996        27.0       2018   0.060753         B         B        15   \n",
       "4997         5.0       1966   0.038693         B         B        28   \n",
       "4998        14.0       1970   0.089040         B         B        33   \n",
       "4999        17.0       2009   0.194489         B         B        47   \n",
       "\n",
       "      Social_2  Social_3  Healthcare_1  Helthcare_2  Shops_1 Shops_2  \n",
       "0         4378         0        1036.0            1        1       B  \n",
       "1          629         1           NaN            0        0       A  \n",
       "2         1892         0           NaN            0        1       B  \n",
       "3          475         0           NaN            0        0       B  \n",
       "4         7715         4         990.0            0        6       B  \n",
       "...        ...       ...           ...          ...      ...     ...  \n",
       "4995      6119         4           NaN            1        2       B  \n",
       "4996      2787         2         520.0            0        7       B  \n",
       "4997      6533         1        1015.0            2        5       B  \n",
       "4998      7976         5           NaN            0       11       B  \n",
       "4999      8004         3         125.0            3        5       B  \n",
       "\n",
       "[5000 rows x 19 columns]"
      ]
     },
     "execution_count": 2002,
     "metadata": {},
     "output_type": "execute_result"
    }
   ],
   "source": [
    "test_data"
   ]
  },
  {
   "cell_type": "markdown",
   "id": "45f1dd7a",
   "metadata": {},
   "source": [
    "### Social_1"
   ]
  },
  {
   "cell_type": "code",
   "execution_count": 2003,
   "id": "ff583719",
   "metadata": {},
   "outputs": [
    {
     "data": {
      "text/plain": [
       "dtype('int8')"
      ]
     },
     "execution_count": 2003,
     "metadata": {},
     "output_type": "execute_result"
    }
   ],
   "source": [
    "train_data.Social_1.dtype"
   ]
  },
  {
   "cell_type": "code",
   "execution_count": 2004,
   "id": "befe81d9",
   "metadata": {},
   "outputs": [
    {
     "data": {
      "text/plain": [
       "array([ 0,  1,  2,  3,  4,  5,  6,  7,  8,  9, 10, 11, 12, 13, 14, 15, 16,\n",
       "       17, 18, 19, 20, 21, 22, 23, 24, 25, 26, 27, 28, 29, 30, 31, 32, 33,\n",
       "       34, 35, 36, 37, 38, 39, 41, 42, 43, 46, 47, 49, 50, 52, 53, 66, 74],\n",
       "      dtype=int8)"
      ]
     },
     "execution_count": 2004,
     "metadata": {},
     "output_type": "execute_result"
    }
   ],
   "source": [
    "train_data.Social_1.sort_values().unique()"
   ]
  },
  {
   "cell_type": "code",
   "execution_count": 2005,
   "id": "e9868247",
   "metadata": {},
   "outputs": [
    {
     "data": {
      "text/plain": [
       "count    10000.000000\n",
       "mean        24.687000\n",
       "std         17.532614\n",
       "min          0.000000\n",
       "25%          6.000000\n",
       "50%         25.000000\n",
       "75%         36.000000\n",
       "max         74.000000\n",
       "Name: Social_1, dtype: float64"
      ]
     },
     "execution_count": 2005,
     "metadata": {},
     "output_type": "execute_result"
    }
   ],
   "source": [
    "train_data.Social_1.describe()"
   ]
  },
  {
   "cell_type": "code",
   "execution_count": 2006,
   "id": "7993060c",
   "metadata": {},
   "outputs": [
    {
     "data": {
      "text/plain": [
       "2     688\n",
       "1     654\n",
       "25    557\n",
       "5     528\n",
       "30    465\n",
       "23    434\n",
       "6     377\n",
       "22    367\n",
       "53    355\n",
       "34    311\n",
       "33    252\n",
       "46    245\n",
       "31    243\n",
       "43    238\n",
       "9     213\n",
       "36    209\n",
       "21    207\n",
       "37    205\n",
       "24    205\n",
       "52    201\n",
       "0     201\n",
       "35    200\n",
       "47    177\n",
       "74    176\n",
       "39    159\n",
       "27    151\n",
       "28    144\n",
       "4     141\n",
       "11    138\n",
       "42    129\n",
       "26    127\n",
       "16    123\n",
       "19    118\n",
       "66     99\n",
       "17     96\n",
       "49     95\n",
       "18     92\n",
       "32     87\n",
       "41     83\n",
       "50     79\n",
       "29     70\n",
       "38     64\n",
       "8      62\n",
       "15     51\n",
       "20     50\n",
       "14     46\n",
       "10     24\n",
       "13     22\n",
       "12     18\n",
       "7      15\n",
       "3       9\n",
       "Name: Social_1, dtype: int64"
      ]
     },
     "execution_count": 2006,
     "metadata": {},
     "output_type": "execute_result"
    }
   ],
   "source": [
    "train_data['Social_1'].value_counts()"
   ]
  },
  {
   "cell_type": "code",
   "execution_count": 2007,
   "id": "4a9cbcc7",
   "metadata": {},
   "outputs": [
    {
     "data": {
      "text/plain": [
       "<AxesSubplot:title={'center':'Distribution of Social_1 of apartment'}, xlabel='Social_1', ylabel='Number of apartments'>"
      ]
     },
     "execution_count": 2007,
     "metadata": {},
     "output_type": "execute_result"
    },
    {
     "data": {
      "image/png": "[encoded data removed]",
      "text/plain": [
       "<Figure size 1152x576 with 1 Axes>"
      ]
     },
     "metadata": {
      "needs_background": "light"
     },
     "output_type": "display_data"
    }
   ],
   "source": [
    "plt.figure(figsize=(16,8))\n",
    "plt.ylabel('Number of apartments')\n",
    "plt.xlabel('Social_1')\n",
    "plt.title('Distribution of Social_1 of apartment')\n",
    "train_data.Social_1.hist(bins=30, edgecolor='black')"
   ]
  },
  {
   "cell_type": "markdown",
   "id": "5c977c83",
   "metadata": {},
   "source": [
    "***Также, как и в случае с Ecology_1, Social_1 вероятно является неким индексом/шкалой, в которой присутствует значение 0, т.е. за выброс его считать скорее всего не следует***"
   ]
  },
  {
   "cell_type": "code",
   "execution_count": 2008,
   "id": "1ff7f129",
   "metadata": {},
   "outputs": [
    {
     "data": {
      "text/plain": [
       "<AxesSubplot:xlabel='Social_1'>"
      ]
     },
     "execution_count": 2008,
     "metadata": {},
     "output_type": "execute_result"
    },
    {
     "data": {
      "image/png": "[encoded data removed]",
      "text/plain": [
       "<Figure size 1296x360 with 1 Axes>"
      ]
     },
     "metadata": {
      "needs_background": "light"
     },
     "output_type": "display_data"
    }
   ],
   "source": [
    "plt.figure(figsize=(18,5))\n",
    "plt.xlabel('Social_1')\n",
    "sns.boxplot(train_data['Social_1'], whis=1.5)"
   ]
  },
  {
   "cell_type": "markdown",
   "id": "b0a32fcb",
   "metadata": {},
   "source": [
    "***Cогласно графику боксплот, выбросов нет***"
   ]
  },
  {
   "cell_type": "markdown",
   "id": "7e13d951",
   "metadata": {},
   "source": [
    "### Social_2"
   ]
  },
  {
   "cell_type": "code",
   "execution_count": 2009,
   "id": "3f477e7c",
   "metadata": {},
   "outputs": [
    {
     "data": {
      "text/plain": [
       "dtype('int16')"
      ]
     },
     "execution_count": 2009,
     "metadata": {},
     "output_type": "execute_result"
    }
   ],
   "source": [
    "train_data.Social_2.dtype"
   ]
  },
  {
   "cell_type": "code",
   "execution_count": 2010,
   "id": "448500db",
   "metadata": {},
   "outputs": [
    {
     "data": {
      "text/plain": [
       "count    10000.000000\n",
       "mean      5352.157400\n",
       "std       4006.799803\n",
       "min        168.000000\n",
       "25%       1564.000000\n",
       "50%       5285.000000\n",
       "75%       7227.000000\n",
       "max      19083.000000\n",
       "Name: Social_2, dtype: float64"
      ]
     },
     "execution_count": 2010,
     "metadata": {},
     "output_type": "execute_result"
    }
   ],
   "source": [
    "train_data.Social_2.describe()"
   ]
  },
  {
   "cell_type": "code",
   "execution_count": 2011,
   "id": "512b766d",
   "metadata": {},
   "outputs": [
    {
     "data": {
      "text/plain": [
       "array([  168,   186,   264,   290,   388,   469,   475,   507,   528,\n",
       "         568,   629,   662,   760,   915,  1135,  1227,  1318,  1423,\n",
       "        1437,  1497,  1564,  1660,  1768,  1892,  1952,  1986,  2270,\n",
       "        2277,  2370,  2398,  2423,  2514,  2733,  2738,  2748,  2787,\n",
       "        2810,  2940,  3079,  3097,  3151,  3293,  3369,  3374,  3379,\n",
       "        3433,  3478,  3594,  3681,  3684,  3746,  3806,  3856,  3889,\n",
       "        3893,  3975,  4017,  4048,  4231,  4346,  4378,  4386,  4439,\n",
       "        4472,  4583,  4625,  4635,  4724,  4756,  4788,  4789,  4798,\n",
       "        4860,  5011,  5027,  5048,  5067,  5148,  5212,  5261,  5285,\n",
       "        5288,  5469,  5487,  5562,  5569,  5613,  5648,  5664,  5731,\n",
       "        5735,  5776,  5889,  5992,  6119,  6137,  6141,  6149,  6207,\n",
       "        6398,  6533,  6558,  6564,  6566,  6714,  6746,  6748,  6783,\n",
       "        6856,  7010,  7065,  7077,  7227,  7287,  7425,  7538,  7614,\n",
       "        7651,  7687,  7715,  7759,  7960,  7976,  8004,  8429,  8647,\n",
       "        8667,  9292,  9515, 10055, 10309, 10311, 10418, 10573, 10621,\n",
       "       11217, 11319, 11395, 12238, 13670, 14892, 19083], dtype=int16)"
      ]
     },
     "execution_count": 2011,
     "metadata": {},
     "output_type": "execute_result"
    }
   ],
   "source": [
    "train_data.Social_2.sort_values().unique()"
   ]
  },
  {
   "cell_type": "code",
   "execution_count": 2012,
   "id": "0434e87a",
   "metadata": {},
   "outputs": [
    {
     "data": {
      "text/plain": [
       "<AxesSubplot:title={'center':'Distribution of Social_2 of apartment'}, xlabel='Social_2', ylabel='Number of apartments'>"
      ]
     },
     "execution_count": 2012,
     "metadata": {},
     "output_type": "execute_result"
    },
    {
     "data": {
      "image/png": "[encoded data removed]",
      "text/plain": [
       "<Figure size 1152x576 with 1 Axes>"
      ]
     },
     "metadata": {
      "needs_background": "light"
     },
     "output_type": "display_data"
    }
   ],
   "source": [
    "plt.figure(figsize=(16,8))\n",
    "plt.ylabel('Number of apartments')\n",
    "plt.xlabel('Social_2')\n",
    "plt.title('Distribution of Social_2 of apartment')\n",
    "train_data.Social_2.hist(bins=30, edgecolor='black')"
   ]
  },
  {
   "cell_type": "markdown",
   "id": "894dd474",
   "metadata": {},
   "source": [
    "***Распределение очень похоже на Social_1, скорее всего данные признаки сильно коррелируют друг с другом***"
   ]
  },
  {
   "cell_type": "code",
   "execution_count": 2013,
   "id": "7a0d6a5b",
   "metadata": {},
   "outputs": [
    {
     "data": {
      "text/plain": [
       "Text(0, 0.5, 'Social_2')"
      ]
     },
     "execution_count": 2013,
     "metadata": {},
     "output_type": "execute_result"
    },
    {
     "data": {
      "image/png": "[encoded data removed]",
      "text/plain": [
       "<Figure size 432x288 with 1 Axes>"
      ]
     },
     "metadata": {
      "needs_background": "light"
     },
     "output_type": "display_data"
    }
   ],
   "source": [
    "pd.DataFrame(np.array([train_data['Social_1'],train_data['Social_2']]).T).plot.scatter(0, 1, s=12, grid=True)\n",
    "plt.xlabel('Social_1.')\n",
    "plt.ylabel('Social_2')"
   ]
  },
  {
   "cell_type": "code",
   "execution_count": 2014,
   "id": "aff39ac7",
   "metadata": {},
   "outputs": [
    {
     "data": {
      "text/plain": [
       "<AxesSubplot:xlabel='Social_2'>"
      ]
     },
     "execution_count": 2014,
     "metadata": {},
     "output_type": "execute_result"
    },
    {
     "data": {
      "image/png": "[encoded data removed]",
      "text/plain": [
       "<Figure size 1296x360 with 1 Axes>"
      ]
     },
     "metadata": {
      "needs_background": "light"
     },
     "output_type": "display_data"
    }
   ],
   "source": [
    "plt.figure(figsize=(18,5))\n",
    "plt.xlabel('Social_1')\n",
    "sns.boxplot(train_data['Social_2'], whis=1.5)"
   ]
  },
  {
   "cell_type": "code",
   "execution_count": 2015,
   "id": "09376529",
   "metadata": {},
   "outputs": [],
   "source": [
    "social_2_median = train_data['Social_2'].median()\n",
    "train_data.loc[train_data['Social_2']>15000,'Social_2'] = social_2_median"
   ]
  },
  {
   "cell_type": "code",
   "execution_count": 2016,
   "id": "523b6532",
   "metadata": {},
   "outputs": [
    {
     "data": {
      "text/plain": [
       "<AxesSubplot:xlabel='Social_2'>"
      ]
     },
     "execution_count": 2016,
     "metadata": {},
     "output_type": "execute_result"
    },
    {
     "data": {
      "image/png": "[encoded data removed]",
      "text/plain": [
       "<Figure size 1296x360 with 1 Axes>"
      ]
     },
     "metadata": {
      "needs_background": "light"
     },
     "output_type": "display_data"
    }
   ],
   "source": [
    "plt.figure(figsize=(18,5))\n",
    "plt.xlabel('Social_1')\n",
    "sns.boxplot(train_data['Social_2'], whis=1.5)"
   ]
  },
  {
   "cell_type": "markdown",
   "id": "7e618ae5",
   "metadata": {},
   "source": [
    "### Social_3"
   ]
  },
  {
   "cell_type": "code",
   "execution_count": 2017,
   "id": "333c077d",
   "metadata": {},
   "outputs": [
    {
     "data": {
      "text/plain": [
       "dtype('int16')"
      ]
     },
     "execution_count": 2017,
     "metadata": {},
     "output_type": "execute_result"
    }
   ],
   "source": [
    "train_data.Social_3.dtype"
   ]
  },
  {
   "cell_type": "code",
   "execution_count": 2018,
   "id": "85707e02",
   "metadata": {},
   "outputs": [
    {
     "data": {
      "text/plain": [
       "count    10000.000000\n",
       "mean         8.039200\n",
       "std         23.831875\n",
       "min          0.000000\n",
       "25%          0.000000\n",
       "50%          2.000000\n",
       "75%          5.000000\n",
       "max        141.000000\n",
       "Name: Social_3, dtype: float64"
      ]
     },
     "execution_count": 2018,
     "metadata": {},
     "output_type": "execute_result"
    }
   ],
   "source": [
    "train_data.Social_3.describe()"
   ]
  },
  {
   "cell_type": "code",
   "execution_count": 2019,
   "id": "b97964f6",
   "metadata": {},
   "outputs": [
    {
     "data": {
      "text/plain": [
       "array([  0,   1,   2,   3,   4,   5,   6,   7,   8,   9,  10,  11,  14,\n",
       "        16,  19,  20,  23,  24,  27,  37,  39,  45,  48,  56,  59,  73,\n",
       "        84,  87,  93, 141], dtype=int16)"
      ]
     },
     "execution_count": 2019,
     "metadata": {},
     "output_type": "execute_result"
    }
   ],
   "source": [
    "train_data.Social_3.sort_values().unique()"
   ]
  },
  {
   "cell_type": "code",
   "execution_count": 2020,
   "id": "dce49054",
   "metadata": {},
   "outputs": [
    {
     "data": {
      "text/plain": [
       "0      2997\n",
       "1      1861\n",
       "3      1136\n",
       "4       835\n",
       "2       635\n",
       "6       423\n",
       "5       391\n",
       "141     245\n",
       "9       192\n",
       "7       184\n",
       "11      172\n",
       "8       170\n",
       "10      142\n",
       "16      101\n",
       "14       97\n",
       "27       59\n",
       "48       58\n",
       "56       49\n",
       "84       43\n",
       "24       37\n",
       "87       27\n",
       "93       25\n",
       "59       25\n",
       "19       22\n",
       "20       19\n",
       "23       18\n",
       "39       15\n",
       "73       10\n",
       "45        9\n",
       "37        3\n",
       "Name: Social_3, dtype: int64"
      ]
     },
     "execution_count": 2020,
     "metadata": {},
     "output_type": "execute_result"
    }
   ],
   "source": [
    "train_data.Social_3.value_counts()"
   ]
  },
  {
   "cell_type": "code",
   "execution_count": 2021,
   "id": "144e49e1",
   "metadata": {},
   "outputs": [
    {
     "data": {
      "text/plain": [
       "<AxesSubplot:title={'center':'Distribution of Social_3 of apartment'}, xlabel='Social_3', ylabel='Number of apartments'>"
      ]
     },
     "execution_count": 2021,
     "metadata": {},
     "output_type": "execute_result"
    },
    {
     "data": {
      "image/png": "[encoded data removed]",
      "text/plain": [
       "<Figure size 1152x576 with 1 Axes>"
      ]
     },
     "metadata": {
      "needs_background": "light"
     },
     "output_type": "display_data"
    }
   ],
   "source": [
    "plt.figure(figsize=(16,8))\n",
    "plt.ylabel('Number of apartments')\n",
    "plt.xlabel('Social_3')\n",
    "plt.title('Distribution of Social_3 of apartment')\n",
    "train_data.Social_3.hist(bins=30, edgecolor='black')"
   ]
  },
  {
   "cell_type": "code",
   "execution_count": 2022,
   "id": "ff64fb63",
   "metadata": {},
   "outputs": [
    {
     "data": {
      "text/plain": [
       "<AxesSubplot:xlabel='Social_3'>"
      ]
     },
     "execution_count": 2022,
     "metadata": {},
     "output_type": "execute_result"
    },
    {
     "data": {
      "image/png": "[encoded data removed]",
      "text/plain": [
       "<Figure size 1296x360 with 1 Axes>"
      ]
     },
     "metadata": {
      "needs_background": "light"
     },
     "output_type": "display_data"
    }
   ],
   "source": [
    "plt.figure(figsize=(18,5))\n",
    "plt.xlabel('Social_3')\n",
    "sns.boxplot(train_data['Social_3'], whis=1.5)"
   ]
  },
  {
   "cell_type": "code",
   "execution_count": 2023,
   "id": "062f404b",
   "metadata": {},
   "outputs": [
    {
     "data": {
      "text/plain": [
       "7       11\n",
       "21      11\n",
       "39      14\n",
       "42      84\n",
       "45      20\n",
       "        ..\n",
       "9927    59\n",
       "9936    11\n",
       "9955    20\n",
       "9961    37\n",
       "9997    14\n",
       "Name: Social_3, Length: 1034, dtype: int16"
      ]
     },
     "execution_count": 2023,
     "metadata": {},
     "output_type": "execute_result"
    }
   ],
   "source": [
    "train_data.loc[train_data['Social_3']>10,'Social_3']"
   ]
  },
  {
   "cell_type": "code",
   "execution_count": 2024,
   "id": "9d2b4c78",
   "metadata": {},
   "outputs": [],
   "source": [
    "social_3_median = train_data['Social_3'].median()\n",
    "train_data.loc[train_data['Social_3']>7,'Social_3'] = social_3_median #квантили не подходят, выборка становится монотонной даже при значении q=0,999"
   ]
  },
  {
   "cell_type": "code",
   "execution_count": 2025,
   "id": "87007940",
   "metadata": {},
   "outputs": [
    {
     "data": {
      "text/plain": [
       "<AxesSubplot:xlabel='Social_3'>"
      ]
     },
     "execution_count": 2025,
     "metadata": {},
     "output_type": "execute_result"
    },
    {
     "data": {
      "image/png": "[encoded data removed]",
      "text/plain": [
       "<Figure size 1296x360 with 1 Axes>"
      ]
     },
     "metadata": {
      "needs_background": "light"
     },
     "output_type": "display_data"
    }
   ],
   "source": [
    "plt.figure(figsize=(18,5))\n",
    "plt.xlabel('Social_3')\n",
    "sns.boxplot(train_data['Social_3'], whis=1.5)"
   ]
  },
  {
   "cell_type": "code",
   "execution_count": 2026,
   "id": "a3fe8538",
   "metadata": {},
   "outputs": [
    {
     "data": {
      "text/plain": [
       "0    2997\n",
       "2    2173\n",
       "1    1861\n",
       "3    1136\n",
       "4     835\n",
       "6     423\n",
       "5     391\n",
       "7     184\n",
       "Name: Social_3, dtype: int64"
      ]
     },
     "execution_count": 2026,
     "metadata": {},
     "output_type": "execute_result"
    }
   ],
   "source": [
    "train_data.Social_3.value_counts()"
   ]
  },
  {
   "cell_type": "code",
   "execution_count": 2027,
   "id": "2b7c17cf",
   "metadata": {},
   "outputs": [
    {
     "data": {
      "text/html": [
       "<div>\n",
       "<style scoped>\n",
       "    .dataframe tbody tr th:only-of-type {\n",
       "        vertical-align: middle;\n",
       "    }\n",
       "\n",
       "    .dataframe tbody tr th {\n",
       "        vertical-align: top;\n",
       "    }\n",
       "\n",
       "    .dataframe thead th {\n",
       "        text-align: right;\n",
       "    }\n",
       "</style>\n",
       "<table border=\"1\" class=\"dataframe\">\n",
       "  <thead>\n",
       "    <tr style=\"text-align: right;\">\n",
       "      <th></th>\n",
       "      <th>Rooms</th>\n",
       "      <th>Square</th>\n",
       "      <th>LifeSquare</th>\n",
       "      <th>KitchenSquare</th>\n",
       "      <th>Floor</th>\n",
       "      <th>HouseFloor</th>\n",
       "      <th>HouseYear</th>\n",
       "      <th>Ecology_1</th>\n",
       "      <th>Social_1</th>\n",
       "      <th>Social_2</th>\n",
       "      <th>Social_3</th>\n",
       "      <th>Healthcare_1</th>\n",
       "      <th>Helthcare_2</th>\n",
       "      <th>Shops_1</th>\n",
       "      <th>Price</th>\n",
       "    </tr>\n",
       "  </thead>\n",
       "  <tbody>\n",
       "    <tr>\n",
       "      <th>count</th>\n",
       "      <td>10000.000000</td>\n",
       "      <td>1.000000e+04</td>\n",
       "      <td>1.000000e+04</td>\n",
       "      <td>10000.000000</td>\n",
       "      <td>10000.000000</td>\n",
       "      <td>10000.0000</td>\n",
       "      <td>10000.000000</td>\n",
       "      <td>10000.000000</td>\n",
       "      <td>10000.000000</td>\n",
       "      <td>10000.000000</td>\n",
       "      <td>10000.000000</td>\n",
       "      <td>5202.0</td>\n",
       "      <td>10000.000000</td>\n",
       "      <td>10000.000000</td>\n",
       "      <td>10000.000000</td>\n",
       "    </tr>\n",
       "    <tr>\n",
       "      <th>mean</th>\n",
       "      <td>1.887695</td>\n",
       "      <td>inf</td>\n",
       "      <td>inf</td>\n",
       "      <td>5.906250</td>\n",
       "      <td>8.198500</td>\n",
       "      <td>inf</td>\n",
       "      <td>1985.559800</td>\n",
       "      <td>0.112488</td>\n",
       "      <td>24.687000</td>\n",
       "      <td>5109.312600</td>\n",
       "      <td>1.873600</td>\n",
       "      <td>inf</td>\n",
       "      <td>1.319500</td>\n",
       "      <td>4.231300</td>\n",
       "      <td>214138.937500</td>\n",
       "    </tr>\n",
       "    <tr>\n",
       "      <th>std</th>\n",
       "      <td>0.811035</td>\n",
       "      <td>1.392969e+01</td>\n",
       "      <td>9.976562e+00</td>\n",
       "      <td>3.292969</td>\n",
       "      <td>4.687653</td>\n",
       "      <td>5.4375</td>\n",
       "      <td>17.426893</td>\n",
       "      <td>0.109924</td>\n",
       "      <td>17.532614</td>\n",
       "      <td>3560.474465</td>\n",
       "      <td>1.818118</td>\n",
       "      <td>inf</td>\n",
       "      <td>1.493601</td>\n",
       "      <td>4.806341</td>\n",
       "      <td>92872.273438</td>\n",
       "    </tr>\n",
       "    <tr>\n",
       "      <th>min</th>\n",
       "      <td>1.000000</td>\n",
       "      <td>3.209375e+01</td>\n",
       "      <td>1.482812e+01</td>\n",
       "      <td>1.000000</td>\n",
       "      <td>2.000000</td>\n",
       "      <td>4.0000</td>\n",
       "      <td>1959.000000</td>\n",
       "      <td>0.000000</td>\n",
       "      <td>0.000000</td>\n",
       "      <td>168.000000</td>\n",
       "      <td>0.000000</td>\n",
       "      <td>0.0</td>\n",
       "      <td>0.000000</td>\n",
       "      <td>0.000000</td>\n",
       "      <td>59174.777344</td>\n",
       "    </tr>\n",
       "    <tr>\n",
       "      <th>25%</th>\n",
       "      <td>1.000000</td>\n",
       "      <td>4.240625e+01</td>\n",
       "      <td>2.508984e+01</td>\n",
       "      <td>4.000000</td>\n",
       "      <td>4.000000</td>\n",
       "      <td>9.0000</td>\n",
       "      <td>1975.000000</td>\n",
       "      <td>0.017654</td>\n",
       "      <td>6.000000</td>\n",
       "      <td>1564.000000</td>\n",
       "      <td>0.000000</td>\n",
       "      <td>350.0</td>\n",
       "      <td>0.000000</td>\n",
       "      <td>1.000000</td>\n",
       "      <td>153872.628906</td>\n",
       "    </tr>\n",
       "    <tr>\n",
       "      <th>50%</th>\n",
       "      <td>2.000000</td>\n",
       "      <td>5.250000e+01</td>\n",
       "      <td>3.278125e+01</td>\n",
       "      <td>6.000000</td>\n",
       "      <td>7.000000</td>\n",
       "      <td>14.0000</td>\n",
       "      <td>1977.000000</td>\n",
       "      <td>0.075439</td>\n",
       "      <td>25.000000</td>\n",
       "      <td>5285.000000</td>\n",
       "      <td>2.000000</td>\n",
       "      <td>900.0</td>\n",
       "      <td>1.000000</td>\n",
       "      <td>3.000000</td>\n",
       "      <td>192269.648438</td>\n",
       "    </tr>\n",
       "    <tr>\n",
       "      <th>75%</th>\n",
       "      <td>2.000000</td>\n",
       "      <td>6.340625e+01</td>\n",
       "      <td>4.046875e+01</td>\n",
       "      <td>8.000000</td>\n",
       "      <td>11.000000</td>\n",
       "      <td>17.0000</td>\n",
       "      <td>2001.000000</td>\n",
       "      <td>0.188843</td>\n",
       "      <td>36.000000</td>\n",
       "      <td>7065.000000</td>\n",
       "      <td>3.000000</td>\n",
       "      <td>1548.0</td>\n",
       "      <td>2.000000</td>\n",
       "      <td>6.000000</td>\n",
       "      <td>249135.460938</td>\n",
       "    </tr>\n",
       "    <tr>\n",
       "      <th>max</th>\n",
       "      <td>5.000000</td>\n",
       "      <td>8.787500e+01</td>\n",
       "      <td>6.006250e+01</td>\n",
       "      <td>12.000000</td>\n",
       "      <td>21.000000</td>\n",
       "      <td>25.0000</td>\n",
       "      <td>2020.000000</td>\n",
       "      <td>0.437988</td>\n",
       "      <td>74.000000</td>\n",
       "      <td>14892.000000</td>\n",
       "      <td>7.000000</td>\n",
       "      <td>4848.0</td>\n",
       "      <td>6.000000</td>\n",
       "      <td>23.000000</td>\n",
       "      <td>633233.437500</td>\n",
       "    </tr>\n",
       "  </tbody>\n",
       "</table>\n",
       "</div>"
      ],
      "text/plain": [
       "              Rooms        Square    LifeSquare  KitchenSquare         Floor  \\\n",
       "count  10000.000000  1.000000e+04  1.000000e+04   10000.000000  10000.000000   \n",
       "mean       1.887695           inf           inf       5.906250      8.198500   \n",
       "std        0.811035  1.392969e+01  9.976562e+00       3.292969      4.687653   \n",
       "min        1.000000  3.209375e+01  1.482812e+01       1.000000      2.000000   \n",
       "25%        1.000000  4.240625e+01  2.508984e+01       4.000000      4.000000   \n",
       "50%        2.000000  5.250000e+01  3.278125e+01       6.000000      7.000000   \n",
       "75%        2.000000  6.340625e+01  4.046875e+01       8.000000     11.000000   \n",
       "max        5.000000  8.787500e+01  6.006250e+01      12.000000     21.000000   \n",
       "\n",
       "       HouseFloor     HouseYear     Ecology_1      Social_1      Social_2  \\\n",
       "count  10000.0000  10000.000000  10000.000000  10000.000000  10000.000000   \n",
       "mean          inf   1985.559800      0.112488     24.687000   5109.312600   \n",
       "std        5.4375     17.426893      0.109924     17.532614   3560.474465   \n",
       "min        4.0000   1959.000000      0.000000      0.000000    168.000000   \n",
       "25%        9.0000   1975.000000      0.017654      6.000000   1564.000000   \n",
       "50%       14.0000   1977.000000      0.075439     25.000000   5285.000000   \n",
       "75%       17.0000   2001.000000      0.188843     36.000000   7065.000000   \n",
       "max       25.0000   2020.000000      0.437988     74.000000  14892.000000   \n",
       "\n",
       "           Social_3  Healthcare_1   Helthcare_2       Shops_1          Price  \n",
       "count  10000.000000        5202.0  10000.000000  10000.000000   10000.000000  \n",
       "mean       1.873600           inf      1.319500      4.231300  214138.937500  \n",
       "std        1.818118           inf      1.493601      4.806341   92872.273438  \n",
       "min        0.000000           0.0      0.000000      0.000000   59174.777344  \n",
       "25%        0.000000         350.0      0.000000      1.000000  153872.628906  \n",
       "50%        2.000000         900.0      1.000000      3.000000  192269.648438  \n",
       "75%        3.000000        1548.0      2.000000      6.000000  249135.460938  \n",
       "max        7.000000        4848.0      6.000000     23.000000  633233.437500  "
      ]
     },
     "execution_count": 2027,
     "metadata": {},
     "output_type": "execute_result"
    }
   ],
   "source": [
    "train_data.describe() #признак "
   ]
  },
  {
   "cell_type": "code",
   "execution_count": 2028,
   "id": "a9a5bb80",
   "metadata": {},
   "outputs": [
    {
     "data": {
      "text/html": [
       "<div>\n",
       "<style scoped>\n",
       "    .dataframe tbody tr th:only-of-type {\n",
       "        vertical-align: middle;\n",
       "    }\n",
       "\n",
       "    .dataframe tbody tr th {\n",
       "        vertical-align: top;\n",
       "    }\n",
       "\n",
       "    .dataframe thead th {\n",
       "        text-align: right;\n",
       "    }\n",
       "</style>\n",
       "<table border=\"1\" class=\"dataframe\">\n",
       "  <thead>\n",
       "    <tr style=\"text-align: right;\">\n",
       "      <th></th>\n",
       "      <th>Rooms</th>\n",
       "      <th>Square</th>\n",
       "      <th>LifeSquare</th>\n",
       "      <th>KitchenSquare</th>\n",
       "      <th>Floor</th>\n",
       "      <th>HouseFloor</th>\n",
       "      <th>HouseYear</th>\n",
       "      <th>Ecology_1</th>\n",
       "      <th>Social_1</th>\n",
       "      <th>Social_2</th>\n",
       "      <th>Social_3</th>\n",
       "      <th>Healthcare_1</th>\n",
       "      <th>Helthcare_2</th>\n",
       "      <th>Shops_1</th>\n",
       "      <th>Shops_2</th>\n",
       "      <th>Price</th>\n",
       "    </tr>\n",
       "  </thead>\n",
       "  <tbody>\n",
       "    <tr>\n",
       "      <th>0</th>\n",
       "      <td>3.0</td>\n",
       "      <td>52.50000</td>\n",
       "      <td>32.781250</td>\n",
       "      <td>10.0</td>\n",
       "      <td>4</td>\n",
       "      <td>10.0</td>\n",
       "      <td>2014</td>\n",
       "      <td>0.075439</td>\n",
       "      <td>11</td>\n",
       "      <td>3097</td>\n",
       "      <td>0</td>\n",
       "      <td>NaN</td>\n",
       "      <td>0</td>\n",
       "      <td>0</td>\n",
       "      <td>B</td>\n",
       "      <td>305018.875000</td>\n",
       "    </tr>\n",
       "    <tr>\n",
       "      <th>1</th>\n",
       "      <td>1.0</td>\n",
       "      <td>39.84375</td>\n",
       "      <td>23.171875</td>\n",
       "      <td>8.0</td>\n",
       "      <td>7</td>\n",
       "      <td>8.0</td>\n",
       "      <td>1966</td>\n",
       "      <td>0.118530</td>\n",
       "      <td>30</td>\n",
       "      <td>6207</td>\n",
       "      <td>1</td>\n",
       "      <td>1183.0</td>\n",
       "      <td>1</td>\n",
       "      <td>0</td>\n",
       "      <td>B</td>\n",
       "      <td>177734.546875</td>\n",
       "    </tr>\n",
       "    <tr>\n",
       "      <th>2</th>\n",
       "      <td>3.0</td>\n",
       "      <td>78.31250</td>\n",
       "      <td>47.687500</td>\n",
       "      <td>10.0</td>\n",
       "      <td>2</td>\n",
       "      <td>17.0</td>\n",
       "      <td>1988</td>\n",
       "      <td>0.025604</td>\n",
       "      <td>33</td>\n",
       "      <td>5261</td>\n",
       "      <td>0</td>\n",
       "      <td>240.0</td>\n",
       "      <td>3</td>\n",
       "      <td>1</td>\n",
       "      <td>B</td>\n",
       "      <td>282078.718750</td>\n",
       "    </tr>\n",
       "    <tr>\n",
       "      <th>3</th>\n",
       "      <td>1.0</td>\n",
       "      <td>40.40625</td>\n",
       "      <td>25.234375</td>\n",
       "      <td>1.0</td>\n",
       "      <td>10</td>\n",
       "      <td>22.0</td>\n",
       "      <td>1977</td>\n",
       "      <td>0.007122</td>\n",
       "      <td>1</td>\n",
       "      <td>264</td>\n",
       "      <td>0</td>\n",
       "      <td>NaN</td>\n",
       "      <td>0</td>\n",
       "      <td>1</td>\n",
       "      <td>B</td>\n",
       "      <td>168106.000000</td>\n",
       "    </tr>\n",
       "    <tr>\n",
       "      <th>4</th>\n",
       "      <td>2.0</td>\n",
       "      <td>64.31250</td>\n",
       "      <td>38.562500</td>\n",
       "      <td>9.0</td>\n",
       "      <td>16</td>\n",
       "      <td>16.0</td>\n",
       "      <td>1972</td>\n",
       "      <td>0.282715</td>\n",
       "      <td>33</td>\n",
       "      <td>8667</td>\n",
       "      <td>2</td>\n",
       "      <td>NaN</td>\n",
       "      <td>0</td>\n",
       "      <td>6</td>\n",
       "      <td>B</td>\n",
       "      <td>343995.093750</td>\n",
       "    </tr>\n",
       "    <tr>\n",
       "      <th>...</th>\n",
       "      <td>...</td>\n",
       "      <td>...</td>\n",
       "      <td>...</td>\n",
       "      <td>...</td>\n",
       "      <td>...</td>\n",
       "      <td>...</td>\n",
       "      <td>...</td>\n",
       "      <td>...</td>\n",
       "      <td>...</td>\n",
       "      <td>...</td>\n",
       "      <td>...</td>\n",
       "      <td>...</td>\n",
       "      <td>...</td>\n",
       "      <td>...</td>\n",
       "      <td>...</td>\n",
       "      <td>...</td>\n",
       "    </tr>\n",
       "    <tr>\n",
       "      <th>9995</th>\n",
       "      <td>2.0</td>\n",
       "      <td>49.09375</td>\n",
       "      <td>33.281250</td>\n",
       "      <td>6.0</td>\n",
       "      <td>3</td>\n",
       "      <td>12.0</td>\n",
       "      <td>1981</td>\n",
       "      <td>0.300293</td>\n",
       "      <td>52</td>\n",
       "      <td>10311</td>\n",
       "      <td>6</td>\n",
       "      <td>NaN</td>\n",
       "      <td>1</td>\n",
       "      <td>9</td>\n",
       "      <td>B</td>\n",
       "      <td>119367.453125</td>\n",
       "    </tr>\n",
       "    <tr>\n",
       "      <th>9996</th>\n",
       "      <td>2.0</td>\n",
       "      <td>64.31250</td>\n",
       "      <td>37.031250</td>\n",
       "      <td>9.0</td>\n",
       "      <td>13</td>\n",
       "      <td>13.0</td>\n",
       "      <td>1977</td>\n",
       "      <td>0.072144</td>\n",
       "      <td>2</td>\n",
       "      <td>629</td>\n",
       "      <td>1</td>\n",
       "      <td>NaN</td>\n",
       "      <td>0</td>\n",
       "      <td>0</td>\n",
       "      <td>A</td>\n",
       "      <td>199715.156250</td>\n",
       "    </tr>\n",
       "    <tr>\n",
       "      <th>9997</th>\n",
       "      <td>1.0</td>\n",
       "      <td>52.50000</td>\n",
       "      <td>16.562500</td>\n",
       "      <td>5.0</td>\n",
       "      <td>3</td>\n",
       "      <td>5.0</td>\n",
       "      <td>1977</td>\n",
       "      <td>0.075439</td>\n",
       "      <td>20</td>\n",
       "      <td>4386</td>\n",
       "      <td>2</td>\n",
       "      <td>NaN</td>\n",
       "      <td>1</td>\n",
       "      <td>5</td>\n",
       "      <td>B</td>\n",
       "      <td>165953.906250</td>\n",
       "    </tr>\n",
       "    <tr>\n",
       "      <th>9998</th>\n",
       "      <td>1.0</td>\n",
       "      <td>32.34375</td>\n",
       "      <td>22.328125</td>\n",
       "      <td>5.0</td>\n",
       "      <td>3</td>\n",
       "      <td>9.0</td>\n",
       "      <td>1969</td>\n",
       "      <td>0.194458</td>\n",
       "      <td>47</td>\n",
       "      <td>8004</td>\n",
       "      <td>3</td>\n",
       "      <td>125.0</td>\n",
       "      <td>3</td>\n",
       "      <td>5</td>\n",
       "      <td>B</td>\n",
       "      <td>171842.406250</td>\n",
       "    </tr>\n",
       "    <tr>\n",
       "      <th>9999</th>\n",
       "      <td>1.0</td>\n",
       "      <td>35.81250</td>\n",
       "      <td>22.296875</td>\n",
       "      <td>6.0</td>\n",
       "      <td>9</td>\n",
       "      <td>9.0</td>\n",
       "      <td>1975</td>\n",
       "      <td>0.127319</td>\n",
       "      <td>43</td>\n",
       "      <td>8429</td>\n",
       "      <td>3</td>\n",
       "      <td>NaN</td>\n",
       "      <td>3</td>\n",
       "      <td>9</td>\n",
       "      <td>B</td>\n",
       "      <td>177685.625000</td>\n",
       "    </tr>\n",
       "  </tbody>\n",
       "</table>\n",
       "<p>10000 rows × 16 columns</p>\n",
       "</div>"
      ],
      "text/plain": [
       "      Rooms    Square  LifeSquare  KitchenSquare  Floor  HouseFloor  \\\n",
       "0       3.0  52.50000   32.781250           10.0      4        10.0   \n",
       "1       1.0  39.84375   23.171875            8.0      7         8.0   \n",
       "2       3.0  78.31250   47.687500           10.0      2        17.0   \n",
       "3       1.0  40.40625   25.234375            1.0     10        22.0   \n",
       "4       2.0  64.31250   38.562500            9.0     16        16.0   \n",
       "...     ...       ...         ...            ...    ...         ...   \n",
       "9995    2.0  49.09375   33.281250            6.0      3        12.0   \n",
       "9996    2.0  64.31250   37.031250            9.0     13        13.0   \n",
       "9997    1.0  52.50000   16.562500            5.0      3         5.0   \n",
       "9998    1.0  32.34375   22.328125            5.0      3         9.0   \n",
       "9999    1.0  35.81250   22.296875            6.0      9         9.0   \n",
       "\n",
       "      HouseYear  Ecology_1  Social_1  Social_2  Social_3  Healthcare_1  \\\n",
       "0          2014   0.075439        11      3097         0           NaN   \n",
       "1          1966   0.118530        30      6207         1        1183.0   \n",
       "2          1988   0.025604        33      5261         0         240.0   \n",
       "3          1977   0.007122         1       264         0           NaN   \n",
       "4          1972   0.282715        33      8667         2           NaN   \n",
       "...         ...        ...       ...       ...       ...           ...   \n",
       "9995       1981   0.300293        52     10311         6           NaN   \n",
       "9996       1977   0.072144         2       629         1           NaN   \n",
       "9997       1977   0.075439        20      4386         2           NaN   \n",
       "9998       1969   0.194458        47      8004         3         125.0   \n",
       "9999       1975   0.127319        43      8429         3           NaN   \n",
       "\n",
       "      Helthcare_2  Shops_1 Shops_2          Price  \n",
       "0               0        0       B  305018.875000  \n",
       "1               1        0       B  177734.546875  \n",
       "2               3        1       B  282078.718750  \n",
       "3               0        1       B  168106.000000  \n",
       "4               0        6       B  343995.093750  \n",
       "...           ...      ...     ...            ...  \n",
       "9995            1        9       B  119367.453125  \n",
       "9996            0        0       A  199715.156250  \n",
       "9997            1        5       B  165953.906250  \n",
       "9998            3        5       B  171842.406250  \n",
       "9999            3        9       B  177685.625000  \n",
       "\n",
       "[10000 rows x 16 columns]"
      ]
     },
     "execution_count": 2028,
     "metadata": {},
     "output_type": "execute_result"
    }
   ],
   "source": [
    "train_data"
   ]
  },
  {
   "cell_type": "markdown",
   "id": "7dcf689e",
   "metadata": {},
   "source": [
    "### Healthcare_1\t"
   ]
  },
  {
   "cell_type": "code",
   "execution_count": 2029,
   "id": "3457cec1",
   "metadata": {},
   "outputs": [
    {
     "data": {
      "text/plain": [
       "dtype('float16')"
      ]
     },
     "execution_count": 2029,
     "metadata": {},
     "output_type": "execute_result"
    }
   ],
   "source": [
    "train_data.Healthcare_1.dtype"
   ]
  },
  {
   "cell_type": "code",
   "execution_count": 2030,
   "id": "3abc14c0",
   "metadata": {},
   "outputs": [
    {
     "data": {
      "text/plain": [
       "count    5202.0\n",
       "mean        inf\n",
       "std         inf\n",
       "min         0.0\n",
       "25%       350.0\n",
       "50%       900.0\n",
       "75%      1548.0\n",
       "max      4848.0\n",
       "Name: Healthcare_1, dtype: float64"
      ]
     },
     "execution_count": 2030,
     "metadata": {},
     "output_type": "execute_result"
    }
   ],
   "source": [
    "train_data.Healthcare_1.describe()"
   ]
  },
  {
   "cell_type": "code",
   "execution_count": 2031,
   "id": "818461e1",
   "metadata": {},
   "outputs": [
    {
     "data": {
      "text/plain": [
       "array([   0.,   30.,   32.,   35.,   46.,   75.,   80.,  100.,  125.,\n",
       "        145.,  165.,  176.,  192.,  200.,  229.,  240.,  262.,  320.,\n",
       "        325.,  350.,  370.,  520.,  540.,  562.,  620.,  628.,  645.,\n",
       "        705.,  730.,  750.,  770.,  800.,  810.,  830.,  900.,  920.,\n",
       "        990., 1015., 1020., 1036., 1046., 1084., 1130., 1145., 1183.,\n",
       "       1308., 1322., 1340., 1406., 1430., 1450., 1547., 1548., 1575.,\n",
       "       1786., 1815., 1894., 1937., 1940., 1970., 1994., 2078., 2300.,\n",
       "       2500., 2620., 2644., 2672., 2716., 2728., 2856., 2890., 3300.,\n",
       "       3856., 4088., 4130., 4508., 4704., 4850.,   nan], dtype=float16)"
      ]
     },
     "execution_count": 2031,
     "metadata": {},
     "output_type": "execute_result"
    }
   ],
   "source": [
    "train_data.Healthcare_1.sort_values().unique()"
   ]
  },
  {
   "cell_type": "code",
   "execution_count": 2032,
   "id": "60531b7f",
   "metadata": {},
   "outputs": [
    {
     "data": {
      "text/plain": [
       "540.0     511\n",
       "30.0      348\n",
       "1046.0    245\n",
       "2300.0    191\n",
       "750.0     163\n",
       "         ... \n",
       "370.0      14\n",
       "32.0       12\n",
       "1815.0     10\n",
       "35.0        2\n",
       "0.0         1\n",
       "Name: Healthcare_1, Length: 78, dtype: int64"
      ]
     },
     "execution_count": 2032,
     "metadata": {},
     "output_type": "execute_result"
    }
   ],
   "source": [
    "train_data.Healthcare_1.value_counts()"
   ]
  },
  {
   "cell_type": "code",
   "execution_count": 2033,
   "id": "3f74ae6a",
   "metadata": {},
   "outputs": [
    {
     "data": {
      "text/plain": [
       "<AxesSubplot:title={'center':'Distribution of Healthcare_1 of apartment'}, xlabel='Healthcare_1', ylabel='Number of apartments'>"
      ]
     },
     "execution_count": 2033,
     "metadata": {},
     "output_type": "execute_result"
    },
    {
     "data": {
      "image/png": "[encoded data removed]",
      "text/plain": [
       "<Figure size 1152x576 with 1 Axes>"
      ]
     },
     "metadata": {
      "needs_background": "light"
     },
     "output_type": "display_data"
    }
   ],
   "source": [
    "plt.figure(figsize=(16,8))\n",
    "plt.ylabel('Number of apartments')\n",
    "plt.xlabel('Healthcare_1')\n",
    "plt.title('Distribution of Healthcare_1 of apartment')\n",
    "train_data.Healthcare_1.hist(bins=20, edgecolor='black')"
   ]
  },
  {
   "cell_type": "code",
   "execution_count": 2034,
   "id": "8867efdb",
   "metadata": {},
   "outputs": [
    {
     "data": {
      "text/plain": [
       "<AxesSubplot:xlabel='Healthcare_1'>"
      ]
     },
     "execution_count": 2034,
     "metadata": {},
     "output_type": "execute_result"
    },
    {
     "data": {
      "image/png": "[encoded data removed]",
      "text/plain": [
       "<Figure size 1296x360 with 1 Axes>"
      ]
     },
     "metadata": {
      "needs_background": "light"
     },
     "output_type": "display_data"
    }
   ],
   "source": [
    "plt.figure(figsize=(18,5))\n",
    "plt.xlabel('Healthcare_1')\n",
    "sns.boxplot(train_data['Healthcare_1'], whis=1.5)"
   ]
  },
  {
   "cell_type": "code",
   "execution_count": 2035,
   "id": "4e759de1",
   "metadata": {},
   "outputs": [
    {
     "data": {
      "text/plain": [
       "4798"
      ]
     },
     "execution_count": 2035,
     "metadata": {},
     "output_type": "execute_result"
    }
   ],
   "source": [
    "train_data['Healthcare_1'].isnull().sum() # Практически половина выборки представлена пропусками.\n",
    "# Заменив их на медиану, мы сделаем признак маловариабельным --> стоит поискать другой способ\n"
   ]
  },
  {
   "cell_type": "markdown",
   "id": "18eee106",
   "metadata": {},
   "source": [
    "***Возможно получится воcстановить значения Healthcare_1 по значениям Healthcare_2***"
   ]
  },
  {
   "cell_type": "code",
   "execution_count": 2036,
   "id": "3512fced",
   "metadata": {},
   "outputs": [
    {
     "data": {
      "text/plain": [
       "<AxesSubplot:title={'center':'Distribution of Healthcare_2 of apartment'}, xlabel='Healthcare_2'>"
      ]
     },
     "execution_count": 2036,
     "metadata": {},
     "output_type": "execute_result"
    },
    {
     "data": {
      "image/png": "[encoded data removed]",
      "text/plain": [
       "<Figure size 1152x576 with 2 Axes>"
      ]
     },
     "metadata": {
      "needs_background": "light"
     },
     "output_type": "display_data"
    }
   ],
   "source": [
    "plt.figure(figsize=(16,8))\n",
    "plt.subplot(121)\n",
    "plt.ylabel('Number of apartments')\n",
    "plt.xlabel('Healthcare_1')\n",
    "plt.title('Distribution of Healthcare_1 of apartment')\n",
    "train_data.Healthcare_1.hist(bins=10, edgecolor='black')\n",
    "\n",
    "plt.subplot(122)\n",
    "plt.xlabel('Healthcare_2')\n",
    "plt.title('Distribution of Healthcare_2 of apartment')\n",
    "train_data.Helthcare_2.hist(bins=10, edgecolor='black')"
   ]
  },
  {
   "cell_type": "code",
   "execution_count": 2037,
   "id": "acde2432",
   "metadata": {
    "scrolled": true
   },
   "outputs": [
    {
     "data": {
      "text/plain": [
       "Text(0, 0.5, 'Helthcare_2')"
      ]
     },
     "execution_count": 2037,
     "metadata": {},
     "output_type": "execute_result"
    },
    {
     "data": {
      "image/png": "[encoded data removed]",
      "text/plain": [
       "<Figure size 432x288 with 1 Axes>"
      ]
     },
     "metadata": {
      "needs_background": "light"
     },
     "output_type": "display_data"
    }
   ],
   "source": [
    "pd.DataFrame(np.array([train_data['Healthcare_1'],train_data['Helthcare_2']]).T).plot.scatter(0, 1, s=12, grid=True)\n",
    "plt.xlabel('Healthcare_1')\n",
    "plt.ylabel('Helthcare_2')"
   ]
  },
  {
   "cell_type": "markdown",
   "id": "d02db955",
   "metadata": {},
   "source": [
    "***Корреляции нет, логичнее будет удалить признак***"
   ]
  },
  {
   "cell_type": "code",
   "execution_count": 2038,
   "id": "2b7aa81f",
   "metadata": {
    "scrolled": true
   },
   "outputs": [],
   "source": [
    "train_data.drop(['Healthcare_1'],axis=1,inplace=True)"
   ]
  },
  {
   "cell_type": "markdown",
   "id": "83fe625a",
   "metadata": {},
   "source": [
    "### Healthcare_2"
   ]
  },
  {
   "cell_type": "code",
   "execution_count": 2039,
   "id": "864878c5",
   "metadata": {},
   "outputs": [
    {
     "data": {
      "text/plain": [
       "count    10000.000000\n",
       "mean         1.319500\n",
       "std          1.493601\n",
       "min          0.000000\n",
       "25%          0.000000\n",
       "50%          1.000000\n",
       "75%          2.000000\n",
       "max          6.000000\n",
       "Name: Helthcare_2, dtype: float64"
      ]
     },
     "execution_count": 2039,
     "metadata": {},
     "output_type": "execute_result"
    }
   ],
   "source": [
    "train_data.Helthcare_2.describe()"
   ]
  },
  {
   "cell_type": "code",
   "execution_count": 2040,
   "id": "496c900b",
   "metadata": {},
   "outputs": [
    {
     "data": {
      "text/plain": [
       "0    4214\n",
       "1    2183\n",
       "3    1670\n",
       "2    1158\n",
       "5     388\n",
       "4     288\n",
       "6      99\n",
       "Name: Helthcare_2, dtype: int64"
      ]
     },
     "execution_count": 2040,
     "metadata": {},
     "output_type": "execute_result"
    }
   ],
   "source": [
    "train_data.Helthcare_2.value_counts()"
   ]
  },
  {
   "cell_type": "code",
   "execution_count": 2041,
   "id": "bf665442",
   "metadata": {},
   "outputs": [
    {
     "data": {
      "text/plain": [
       "<AxesSubplot:xlabel='Helthcare_2'>"
      ]
     },
     "execution_count": 2041,
     "metadata": {},
     "output_type": "execute_result"
    },
    {
     "data": {
      "image/png": "[encoded data removed]",
      "text/plain": [
       "<Figure size 1296x360 with 1 Axes>"
      ]
     },
     "metadata": {
      "needs_background": "light"
     },
     "output_type": "display_data"
    }
   ],
   "source": [
    "plt.figure(figsize=(18,5))\n",
    "plt.xlabel('Helthcare_2')\n",
    "sns.boxplot(train_data['Helthcare_2'], whis=1.5)"
   ]
  },
  {
   "cell_type": "code",
   "execution_count": 2042,
   "id": "74762fc6",
   "metadata": {},
   "outputs": [],
   "source": [
    "healthcare_2_mode = train_data['Helthcare_2'].mode()[0]\n",
    "healthcare_2_q_975 = np.quantile(train_data['Helthcare_2'],q=0.975)\n",
    "train_data.loc[train_data.Helthcare_2>healthcare_2_q_975,'Helthcare_2'] = healthcare_2_mode"
   ]
  },
  {
   "cell_type": "code",
   "execution_count": 2043,
   "id": "27151271",
   "metadata": {},
   "outputs": [
    {
     "data": {
      "text/plain": [
       "<AxesSubplot:xlabel='Helthcare_2'>"
      ]
     },
     "execution_count": 2043,
     "metadata": {},
     "output_type": "execute_result"
    },
    {
     "data": {
      "image/png": "[encoded data removed]",
      "text/plain": [
       "<Figure size 1296x360 with 1 Axes>"
      ]
     },
     "metadata": {
      "needs_background": "light"
     },
     "output_type": "display_data"
    }
   ],
   "source": [
    "plt.figure(figsize=(18,5))\n",
    "plt.xlabel('Helthcare_2')\n",
    "sns.boxplot(train_data['Helthcare_2'], whis=1.5)"
   ]
  },
  {
   "cell_type": "markdown",
   "id": "8805d21c",
   "metadata": {},
   "source": [
    "### Shops_1"
   ]
  },
  {
   "cell_type": "code",
   "execution_count": 2044,
   "id": "50ce32de",
   "metadata": {},
   "outputs": [
    {
     "data": {
      "text/plain": [
       "count    10000.000000\n",
       "mean         4.231300\n",
       "std          4.806341\n",
       "min          0.000000\n",
       "25%          1.000000\n",
       "50%          3.000000\n",
       "75%          6.000000\n",
       "max         23.000000\n",
       "Name: Shops_1, dtype: float64"
      ]
     },
     "execution_count": 2044,
     "metadata": {},
     "output_type": "execute_result"
    }
   ],
   "source": [
    "train_data.Shops_1.describe()"
   ]
  },
  {
   "cell_type": "code",
   "execution_count": 2045,
   "id": "a56c5038",
   "metadata": {},
   "outputs": [
    {
     "data": {
      "text/plain": [
       "0     2316\n",
       "1     1325\n",
       "5     1324\n",
       "2      964\n",
       "4      841\n",
       "3      711\n",
       "6      487\n",
       "11     401\n",
       "9      316\n",
       "7      294\n",
       "8      253\n",
       "23     245\n",
       "10     215\n",
       "15     176\n",
       "16      83\n",
       "19      49\n",
       "Name: Shops_1, dtype: int64"
      ]
     },
     "execution_count": 2045,
     "metadata": {},
     "output_type": "execute_result"
    }
   ],
   "source": [
    "train_data.Shops_1.value_counts()"
   ]
  },
  {
   "cell_type": "code",
   "execution_count": 2046,
   "id": "b27816b1",
   "metadata": {},
   "outputs": [
    {
     "data": {
      "text/plain": [
       "<AxesSubplot:xlabel='Shops_1'>"
      ]
     },
     "execution_count": 2046,
     "metadata": {},
     "output_type": "execute_result"
    },
    {
     "data": {
      "image/png": "[encoded data removed]",
      "text/plain": [
       "<Figure size 1296x360 with 1 Axes>"
      ]
     },
     "metadata": {
      "needs_background": "light"
     },
     "output_type": "display_data"
    }
   ],
   "source": [
    "plt.figure(figsize=(18,5))\n",
    "plt.xlabel('Shops_1')\n",
    "sns.boxplot(train_data['Shops_1'], whis=1.5)"
   ]
  },
  {
   "cell_type": "code",
   "execution_count": 2047,
   "id": "7da9ef21",
   "metadata": {},
   "outputs": [],
   "source": [
    "shops_1_mode = train_data['Shops_1'].mode()[0]\n",
    "shops_1_q_975 = np.quantile(train_data['Shops_1'],q=0.975)\n",
    "train_data.loc[train_data.Shops_1>healthcare_2_q_975,'Shops_1'] = shops_1_mode"
   ]
  },
  {
   "cell_type": "code",
   "execution_count": 2048,
   "id": "a029a87b",
   "metadata": {},
   "outputs": [
    {
     "data": {
      "text/plain": [
       "<AxesSubplot:xlabel='Shops_1'>"
      ]
     },
     "execution_count": 2048,
     "metadata": {},
     "output_type": "execute_result"
    },
    {
     "data": {
      "image/png": "[encoded data removed]",
      "text/plain": [
       "<Figure size 1296x360 with 1 Axes>"
      ]
     },
     "metadata": {
      "needs_background": "light"
     },
     "output_type": "display_data"
    }
   ],
   "source": [
    "plt.figure(figsize=(18,5))\n",
    "plt.xlabel('Shops_1')\n",
    "sns.boxplot(train_data['Shops_1'], whis=1.5)"
   ]
  },
  {
   "cell_type": "markdown",
   "id": "ba05ec07",
   "metadata": {},
   "source": [
    "### Shops_2"
   ]
  },
  {
   "cell_type": "code",
   "execution_count": 2049,
   "id": "b9a52640",
   "metadata": {},
   "outputs": [
    {
     "data": {
      "text/plain": [
       "count     10000\n",
       "unique        2\n",
       "top           B\n",
       "freq       9175\n",
       "Name: Shops_2, dtype: object"
      ]
     },
     "execution_count": 2049,
     "metadata": {},
     "output_type": "execute_result"
    }
   ],
   "source": [
    "train_data.Shops_2.describe()"
   ]
  },
  {
   "cell_type": "code",
   "execution_count": 2050,
   "id": "1c5812e3",
   "metadata": {},
   "outputs": [
    {
     "data": {
      "text/plain": [
       "B    9175\n",
       "A     825\n",
       "Name: Shops_2, dtype: int64"
      ]
     },
     "execution_count": 2050,
     "metadata": {},
     "output_type": "execute_result"
    }
   ],
   "source": [
    "train_data.Shops_2.value_counts()"
   ]
  },
  {
   "cell_type": "markdown",
   "id": "30e20c9f",
   "metadata": {},
   "source": [
    "***Ситуация аналогична c Ecology_2_3 - отношение больше 9/10***"
   ]
  },
  {
   "cell_type": "code",
   "execution_count": 2051,
   "id": "b391c305",
   "metadata": {},
   "outputs": [
    {
     "data": {
      "text/html": [
       "<div>\n",
       "<style scoped>\n",
       "    .dataframe tbody tr th:only-of-type {\n",
       "        vertical-align: middle;\n",
       "    }\n",
       "\n",
       "    .dataframe tbody tr th {\n",
       "        vertical-align: top;\n",
       "    }\n",
       "\n",
       "    .dataframe thead th {\n",
       "        text-align: right;\n",
       "    }\n",
       "</style>\n",
       "<table border=\"1\" class=\"dataframe\">\n",
       "  <thead>\n",
       "    <tr style=\"text-align: right;\">\n",
       "      <th></th>\n",
       "      <th>Rooms</th>\n",
       "      <th>Square</th>\n",
       "      <th>LifeSquare</th>\n",
       "      <th>KitchenSquare</th>\n",
       "      <th>Floor</th>\n",
       "      <th>HouseFloor</th>\n",
       "      <th>HouseYear</th>\n",
       "      <th>Ecology_1</th>\n",
       "      <th>Social_1</th>\n",
       "      <th>Social_2</th>\n",
       "      <th>Social_3</th>\n",
       "      <th>Helthcare_2</th>\n",
       "      <th>Shops_1</th>\n",
       "      <th>Price</th>\n",
       "    </tr>\n",
       "  </thead>\n",
       "  <tbody>\n",
       "    <tr>\n",
       "      <th>0</th>\n",
       "      <td>3.0</td>\n",
       "      <td>52.50000</td>\n",
       "      <td>32.781250</td>\n",
       "      <td>10.0</td>\n",
       "      <td>4</td>\n",
       "      <td>10.0</td>\n",
       "      <td>2014</td>\n",
       "      <td>0.075439</td>\n",
       "      <td>11</td>\n",
       "      <td>3097</td>\n",
       "      <td>0</td>\n",
       "      <td>0</td>\n",
       "      <td>0</td>\n",
       "      <td>305018.875000</td>\n",
       "    </tr>\n",
       "    <tr>\n",
       "      <th>1</th>\n",
       "      <td>1.0</td>\n",
       "      <td>39.84375</td>\n",
       "      <td>23.171875</td>\n",
       "      <td>8.0</td>\n",
       "      <td>7</td>\n",
       "      <td>8.0</td>\n",
       "      <td>1966</td>\n",
       "      <td>0.118530</td>\n",
       "      <td>30</td>\n",
       "      <td>6207</td>\n",
       "      <td>1</td>\n",
       "      <td>1</td>\n",
       "      <td>0</td>\n",
       "      <td>177734.546875</td>\n",
       "    </tr>\n",
       "    <tr>\n",
       "      <th>2</th>\n",
       "      <td>3.0</td>\n",
       "      <td>78.31250</td>\n",
       "      <td>47.687500</td>\n",
       "      <td>10.0</td>\n",
       "      <td>2</td>\n",
       "      <td>17.0</td>\n",
       "      <td>1988</td>\n",
       "      <td>0.025604</td>\n",
       "      <td>33</td>\n",
       "      <td>5261</td>\n",
       "      <td>0</td>\n",
       "      <td>3</td>\n",
       "      <td>1</td>\n",
       "      <td>282078.718750</td>\n",
       "    </tr>\n",
       "    <tr>\n",
       "      <th>3</th>\n",
       "      <td>1.0</td>\n",
       "      <td>40.40625</td>\n",
       "      <td>25.234375</td>\n",
       "      <td>1.0</td>\n",
       "      <td>10</td>\n",
       "      <td>22.0</td>\n",
       "      <td>1977</td>\n",
       "      <td>0.007122</td>\n",
       "      <td>1</td>\n",
       "      <td>264</td>\n",
       "      <td>0</td>\n",
       "      <td>0</td>\n",
       "      <td>1</td>\n",
       "      <td>168106.000000</td>\n",
       "    </tr>\n",
       "    <tr>\n",
       "      <th>4</th>\n",
       "      <td>2.0</td>\n",
       "      <td>64.31250</td>\n",
       "      <td>38.562500</td>\n",
       "      <td>9.0</td>\n",
       "      <td>16</td>\n",
       "      <td>16.0</td>\n",
       "      <td>1972</td>\n",
       "      <td>0.282715</td>\n",
       "      <td>33</td>\n",
       "      <td>8667</td>\n",
       "      <td>2</td>\n",
       "      <td>0</td>\n",
       "      <td>0</td>\n",
       "      <td>343995.093750</td>\n",
       "    </tr>\n",
       "    <tr>\n",
       "      <th>...</th>\n",
       "      <td>...</td>\n",
       "      <td>...</td>\n",
       "      <td>...</td>\n",
       "      <td>...</td>\n",
       "      <td>...</td>\n",
       "      <td>...</td>\n",
       "      <td>...</td>\n",
       "      <td>...</td>\n",
       "      <td>...</td>\n",
       "      <td>...</td>\n",
       "      <td>...</td>\n",
       "      <td>...</td>\n",
       "      <td>...</td>\n",
       "      <td>...</td>\n",
       "    </tr>\n",
       "    <tr>\n",
       "      <th>9995</th>\n",
       "      <td>2.0</td>\n",
       "      <td>49.09375</td>\n",
       "      <td>33.281250</td>\n",
       "      <td>6.0</td>\n",
       "      <td>3</td>\n",
       "      <td>12.0</td>\n",
       "      <td>1981</td>\n",
       "      <td>0.300293</td>\n",
       "      <td>52</td>\n",
       "      <td>10311</td>\n",
       "      <td>6</td>\n",
       "      <td>1</td>\n",
       "      <td>0</td>\n",
       "      <td>119367.453125</td>\n",
       "    </tr>\n",
       "    <tr>\n",
       "      <th>9996</th>\n",
       "      <td>2.0</td>\n",
       "      <td>64.31250</td>\n",
       "      <td>37.031250</td>\n",
       "      <td>9.0</td>\n",
       "      <td>13</td>\n",
       "      <td>13.0</td>\n",
       "      <td>1977</td>\n",
       "      <td>0.072144</td>\n",
       "      <td>2</td>\n",
       "      <td>629</td>\n",
       "      <td>1</td>\n",
       "      <td>0</td>\n",
       "      <td>0</td>\n",
       "      <td>199715.156250</td>\n",
       "    </tr>\n",
       "    <tr>\n",
       "      <th>9997</th>\n",
       "      <td>1.0</td>\n",
       "      <td>52.50000</td>\n",
       "      <td>16.562500</td>\n",
       "      <td>5.0</td>\n",
       "      <td>3</td>\n",
       "      <td>5.0</td>\n",
       "      <td>1977</td>\n",
       "      <td>0.075439</td>\n",
       "      <td>20</td>\n",
       "      <td>4386</td>\n",
       "      <td>2</td>\n",
       "      <td>1</td>\n",
       "      <td>5</td>\n",
       "      <td>165953.906250</td>\n",
       "    </tr>\n",
       "    <tr>\n",
       "      <th>9998</th>\n",
       "      <td>1.0</td>\n",
       "      <td>32.34375</td>\n",
       "      <td>22.328125</td>\n",
       "      <td>5.0</td>\n",
       "      <td>3</td>\n",
       "      <td>9.0</td>\n",
       "      <td>1969</td>\n",
       "      <td>0.194458</td>\n",
       "      <td>47</td>\n",
       "      <td>8004</td>\n",
       "      <td>3</td>\n",
       "      <td>3</td>\n",
       "      <td>5</td>\n",
       "      <td>171842.406250</td>\n",
       "    </tr>\n",
       "    <tr>\n",
       "      <th>9999</th>\n",
       "      <td>1.0</td>\n",
       "      <td>35.81250</td>\n",
       "      <td>22.296875</td>\n",
       "      <td>6.0</td>\n",
       "      <td>9</td>\n",
       "      <td>9.0</td>\n",
       "      <td>1975</td>\n",
       "      <td>0.127319</td>\n",
       "      <td>43</td>\n",
       "      <td>8429</td>\n",
       "      <td>3</td>\n",
       "      <td>3</td>\n",
       "      <td>0</td>\n",
       "      <td>177685.625000</td>\n",
       "    </tr>\n",
       "  </tbody>\n",
       "</table>\n",
       "<p>10000 rows × 14 columns</p>\n",
       "</div>"
      ],
      "text/plain": [
       "      Rooms    Square  LifeSquare  KitchenSquare  Floor  HouseFloor  \\\n",
       "0       3.0  52.50000   32.781250           10.0      4        10.0   \n",
       "1       1.0  39.84375   23.171875            8.0      7         8.0   \n",
       "2       3.0  78.31250   47.687500           10.0      2        17.0   \n",
       "3       1.0  40.40625   25.234375            1.0     10        22.0   \n",
       "4       2.0  64.31250   38.562500            9.0     16        16.0   \n",
       "...     ...       ...         ...            ...    ...         ...   \n",
       "9995    2.0  49.09375   33.281250            6.0      3        12.0   \n",
       "9996    2.0  64.31250   37.031250            9.0     13        13.0   \n",
       "9997    1.0  52.50000   16.562500            5.0      3         5.0   \n",
       "9998    1.0  32.34375   22.328125            5.0      3         9.0   \n",
       "9999    1.0  35.81250   22.296875            6.0      9         9.0   \n",
       "\n",
       "      HouseYear  Ecology_1  Social_1  Social_2  Social_3  Helthcare_2  \\\n",
       "0          2014   0.075439        11      3097         0            0   \n",
       "1          1966   0.118530        30      6207         1            1   \n",
       "2          1988   0.025604        33      5261         0            3   \n",
       "3          1977   0.007122         1       264         0            0   \n",
       "4          1972   0.282715        33      8667         2            0   \n",
       "...         ...        ...       ...       ...       ...          ...   \n",
       "9995       1981   0.300293        52     10311         6            1   \n",
       "9996       1977   0.072144         2       629         1            0   \n",
       "9997       1977   0.075439        20      4386         2            1   \n",
       "9998       1969   0.194458        47      8004         3            3   \n",
       "9999       1975   0.127319        43      8429         3            3   \n",
       "\n",
       "      Shops_1          Price  \n",
       "0           0  305018.875000  \n",
       "1           0  177734.546875  \n",
       "2           1  282078.718750  \n",
       "3           1  168106.000000  \n",
       "4           0  343995.093750  \n",
       "...       ...            ...  \n",
       "9995        0  119367.453125  \n",
       "9996        0  199715.156250  \n",
       "9997        5  165953.906250  \n",
       "9998        5  171842.406250  \n",
       "9999        0  177685.625000  \n",
       "\n",
       "[10000 rows x 14 columns]"
      ]
     },
     "execution_count": 2051,
     "metadata": {},
     "output_type": "execute_result"
    }
   ],
   "source": [
    "train_data.drop(['Shops_2'], axis=1,inplace=True)\n",
    "train_data"
   ]
  },
  {
   "cell_type": "markdown",
   "id": "b7e6316c",
   "metadata": {},
   "source": [
    "### Добавление новых признаков"
   ]
  },
  {
   "cell_type": "markdown",
   "id": "717607a0",
   "metadata": {},
   "source": [
    "***Cтоит трансформировать целевой признак Price в более гибкий - цену за квадратный метр***"
   ]
  },
  {
   "cell_type": "code",
   "execution_count": 2052,
   "id": "d61b383b",
   "metadata": {},
   "outputs": [],
   "source": [
    "train_data.rename(columns={'Price':'Price_per_square'}, inplace=True)\n",
    "train_data['Price_per_square'] = train_data['Price_per_square']//train_data['Square']"
   ]
  },
  {
   "cell_type": "code",
   "execution_count": 2053,
   "id": "ecf5eb17",
   "metadata": {},
   "outputs": [],
   "source": [
    "train_data['Room_size'] = train_data['Square']//train_data['Rooms'] # можно ввести признак - средний размер комнаты"
   ]
  },
  {
   "cell_type": "code",
   "execution_count": 2054,
   "id": "07374c67",
   "metadata": {
    "scrolled": true
   },
   "outputs": [
    {
     "data": {
      "text/html": [
       "<div>\n",
       "<style scoped>\n",
       "    .dataframe tbody tr th:only-of-type {\n",
       "        vertical-align: middle;\n",
       "    }\n",
       "\n",
       "    .dataframe tbody tr th {\n",
       "        vertical-align: top;\n",
       "    }\n",
       "\n",
       "    .dataframe thead th {\n",
       "        text-align: right;\n",
       "    }\n",
       "</style>\n",
       "<table border=\"1\" class=\"dataframe\">\n",
       "  <thead>\n",
       "    <tr style=\"text-align: right;\">\n",
       "      <th></th>\n",
       "      <th>Rooms</th>\n",
       "      <th>Square</th>\n",
       "      <th>LifeSquare</th>\n",
       "      <th>KitchenSquare</th>\n",
       "      <th>Floor</th>\n",
       "      <th>HouseFloor</th>\n",
       "      <th>HouseYear</th>\n",
       "      <th>Ecology_1</th>\n",
       "      <th>Social_1</th>\n",
       "      <th>Social_2</th>\n",
       "      <th>Social_3</th>\n",
       "      <th>Helthcare_2</th>\n",
       "      <th>Shops_1</th>\n",
       "      <th>Price_per_square</th>\n",
       "      <th>Room_size</th>\n",
       "    </tr>\n",
       "  </thead>\n",
       "  <tbody>\n",
       "    <tr>\n",
       "      <th>0</th>\n",
       "      <td>3.0</td>\n",
       "      <td>52.50000</td>\n",
       "      <td>32.781250</td>\n",
       "      <td>10.0</td>\n",
       "      <td>4</td>\n",
       "      <td>10.0</td>\n",
       "      <td>2014</td>\n",
       "      <td>0.075439</td>\n",
       "      <td>11</td>\n",
       "      <td>3097</td>\n",
       "      <td>0</td>\n",
       "      <td>0</td>\n",
       "      <td>0</td>\n",
       "      <td>5809.0</td>\n",
       "      <td>17.0</td>\n",
       "    </tr>\n",
       "    <tr>\n",
       "      <th>1</th>\n",
       "      <td>1.0</td>\n",
       "      <td>39.84375</td>\n",
       "      <td>23.171875</td>\n",
       "      <td>8.0</td>\n",
       "      <td>7</td>\n",
       "      <td>8.0</td>\n",
       "      <td>1966</td>\n",
       "      <td>0.118530</td>\n",
       "      <td>30</td>\n",
       "      <td>6207</td>\n",
       "      <td>1</td>\n",
       "      <td>1</td>\n",
       "      <td>0</td>\n",
       "      <td>4460.0</td>\n",
       "      <td>39.0</td>\n",
       "    </tr>\n",
       "    <tr>\n",
       "      <th>2</th>\n",
       "      <td>3.0</td>\n",
       "      <td>78.31250</td>\n",
       "      <td>47.687500</td>\n",
       "      <td>10.0</td>\n",
       "      <td>2</td>\n",
       "      <td>17.0</td>\n",
       "      <td>1988</td>\n",
       "      <td>0.025604</td>\n",
       "      <td>33</td>\n",
       "      <td>5261</td>\n",
       "      <td>0</td>\n",
       "      <td>3</td>\n",
       "      <td>1</td>\n",
       "      <td>3601.0</td>\n",
       "      <td>26.0</td>\n",
       "    </tr>\n",
       "    <tr>\n",
       "      <th>3</th>\n",
       "      <td>1.0</td>\n",
       "      <td>40.40625</td>\n",
       "      <td>25.234375</td>\n",
       "      <td>1.0</td>\n",
       "      <td>10</td>\n",
       "      <td>22.0</td>\n",
       "      <td>1977</td>\n",
       "      <td>0.007122</td>\n",
       "      <td>1</td>\n",
       "      <td>264</td>\n",
       "      <td>0</td>\n",
       "      <td>0</td>\n",
       "      <td>1</td>\n",
       "      <td>4160.0</td>\n",
       "      <td>40.0</td>\n",
       "    </tr>\n",
       "    <tr>\n",
       "      <th>4</th>\n",
       "      <td>2.0</td>\n",
       "      <td>64.31250</td>\n",
       "      <td>38.562500</td>\n",
       "      <td>9.0</td>\n",
       "      <td>16</td>\n",
       "      <td>16.0</td>\n",
       "      <td>1972</td>\n",
       "      <td>0.282715</td>\n",
       "      <td>33</td>\n",
       "      <td>8667</td>\n",
       "      <td>2</td>\n",
       "      <td>0</td>\n",
       "      <td>0</td>\n",
       "      <td>5348.0</td>\n",
       "      <td>32.0</td>\n",
       "    </tr>\n",
       "    <tr>\n",
       "      <th>...</th>\n",
       "      <td>...</td>\n",
       "      <td>...</td>\n",
       "      <td>...</td>\n",
       "      <td>...</td>\n",
       "      <td>...</td>\n",
       "      <td>...</td>\n",
       "      <td>...</td>\n",
       "      <td>...</td>\n",
       "      <td>...</td>\n",
       "      <td>...</td>\n",
       "      <td>...</td>\n",
       "      <td>...</td>\n",
       "      <td>...</td>\n",
       "      <td>...</td>\n",
       "      <td>...</td>\n",
       "    </tr>\n",
       "    <tr>\n",
       "      <th>9995</th>\n",
       "      <td>2.0</td>\n",
       "      <td>49.09375</td>\n",
       "      <td>33.281250</td>\n",
       "      <td>6.0</td>\n",
       "      <td>3</td>\n",
       "      <td>12.0</td>\n",
       "      <td>1981</td>\n",
       "      <td>0.300293</td>\n",
       "      <td>52</td>\n",
       "      <td>10311</td>\n",
       "      <td>6</td>\n",
       "      <td>1</td>\n",
       "      <td>0</td>\n",
       "      <td>2431.0</td>\n",
       "      <td>24.0</td>\n",
       "    </tr>\n",
       "    <tr>\n",
       "      <th>9996</th>\n",
       "      <td>2.0</td>\n",
       "      <td>64.31250</td>\n",
       "      <td>37.031250</td>\n",
       "      <td>9.0</td>\n",
       "      <td>13</td>\n",
       "      <td>13.0</td>\n",
       "      <td>1977</td>\n",
       "      <td>0.072144</td>\n",
       "      <td>2</td>\n",
       "      <td>629</td>\n",
       "      <td>1</td>\n",
       "      <td>0</td>\n",
       "      <td>0</td>\n",
       "      <td>3105.0</td>\n",
       "      <td>32.0</td>\n",
       "    </tr>\n",
       "    <tr>\n",
       "      <th>9997</th>\n",
       "      <td>1.0</td>\n",
       "      <td>52.50000</td>\n",
       "      <td>16.562500</td>\n",
       "      <td>5.0</td>\n",
       "      <td>3</td>\n",
       "      <td>5.0</td>\n",
       "      <td>1977</td>\n",
       "      <td>0.075439</td>\n",
       "      <td>20</td>\n",
       "      <td>4386</td>\n",
       "      <td>2</td>\n",
       "      <td>1</td>\n",
       "      <td>5</td>\n",
       "      <td>3161.0</td>\n",
       "      <td>52.0</td>\n",
       "    </tr>\n",
       "    <tr>\n",
       "      <th>9998</th>\n",
       "      <td>1.0</td>\n",
       "      <td>32.34375</td>\n",
       "      <td>22.328125</td>\n",
       "      <td>5.0</td>\n",
       "      <td>3</td>\n",
       "      <td>9.0</td>\n",
       "      <td>1969</td>\n",
       "      <td>0.194458</td>\n",
       "      <td>47</td>\n",
       "      <td>8004</td>\n",
       "      <td>3</td>\n",
       "      <td>3</td>\n",
       "      <td>5</td>\n",
       "      <td>5313.0</td>\n",
       "      <td>32.0</td>\n",
       "    </tr>\n",
       "    <tr>\n",
       "      <th>9999</th>\n",
       "      <td>1.0</td>\n",
       "      <td>35.81250</td>\n",
       "      <td>22.296875</td>\n",
       "      <td>6.0</td>\n",
       "      <td>9</td>\n",
       "      <td>9.0</td>\n",
       "      <td>1975</td>\n",
       "      <td>0.127319</td>\n",
       "      <td>43</td>\n",
       "      <td>8429</td>\n",
       "      <td>3</td>\n",
       "      <td>3</td>\n",
       "      <td>0</td>\n",
       "      <td>4961.0</td>\n",
       "      <td>35.0</td>\n",
       "    </tr>\n",
       "  </tbody>\n",
       "</table>\n",
       "<p>10000 rows × 15 columns</p>\n",
       "</div>"
      ],
      "text/plain": [
       "      Rooms    Square  LifeSquare  KitchenSquare  Floor  HouseFloor  \\\n",
       "0       3.0  52.50000   32.781250           10.0      4        10.0   \n",
       "1       1.0  39.84375   23.171875            8.0      7         8.0   \n",
       "2       3.0  78.31250   47.687500           10.0      2        17.0   \n",
       "3       1.0  40.40625   25.234375            1.0     10        22.0   \n",
       "4       2.0  64.31250   38.562500            9.0     16        16.0   \n",
       "...     ...       ...         ...            ...    ...         ...   \n",
       "9995    2.0  49.09375   33.281250            6.0      3        12.0   \n",
       "9996    2.0  64.31250   37.031250            9.0     13        13.0   \n",
       "9997    1.0  52.50000   16.562500            5.0      3         5.0   \n",
       "9998    1.0  32.34375   22.328125            5.0      3         9.0   \n",
       "9999    1.0  35.81250   22.296875            6.0      9         9.0   \n",
       "\n",
       "      HouseYear  Ecology_1  Social_1  Social_2  Social_3  Helthcare_2  \\\n",
       "0          2014   0.075439        11      3097         0            0   \n",
       "1          1966   0.118530        30      6207         1            1   \n",
       "2          1988   0.025604        33      5261         0            3   \n",
       "3          1977   0.007122         1       264         0            0   \n",
       "4          1972   0.282715        33      8667         2            0   \n",
       "...         ...        ...       ...       ...       ...          ...   \n",
       "9995       1981   0.300293        52     10311         6            1   \n",
       "9996       1977   0.072144         2       629         1            0   \n",
       "9997       1977   0.075439        20      4386         2            1   \n",
       "9998       1969   0.194458        47      8004         3            3   \n",
       "9999       1975   0.127319        43      8429         3            3   \n",
       "\n",
       "      Shops_1  Price_per_square  Room_size  \n",
       "0           0            5809.0       17.0  \n",
       "1           0            4460.0       39.0  \n",
       "2           1            3601.0       26.0  \n",
       "3           1            4160.0       40.0  \n",
       "4           0            5348.0       32.0  \n",
       "...       ...               ...        ...  \n",
       "9995        0            2431.0       24.0  \n",
       "9996        0            3105.0       32.0  \n",
       "9997        5            3161.0       52.0  \n",
       "9998        5            5313.0       32.0  \n",
       "9999        0            4961.0       35.0  \n",
       "\n",
       "[10000 rows x 15 columns]"
      ]
     },
     "execution_count": 2054,
     "metadata": {},
     "output_type": "execute_result"
    }
   ],
   "source": [
    "train_data"
   ]
  },
  {
   "cell_type": "markdown",
   "id": "9c4d3c6f",
   "metadata": {},
   "source": [
    "## Оформление класса для подготовки датасета"
   ]
  },
  {
   "cell_type": "code",
   "execution_count": 2055,
   "id": "81f57a88",
   "metadata": {},
   "outputs": [],
   "source": [
    "class DataTrans:\n",
    "    \n",
    "    def __init__(self):\n",
    "        \"\"\"Параметры класса\"\"\"\n",
    "        self.Rooms_mode = None\n",
    "        self.kitchen_to_square = None\n",
    "        self.life_to_square = None\n",
    "        self.square_q_025 = None\n",
    "        self.square_q_950 = None\n",
    "        self.square_median = None\n",
    "        self.life_square_q_950 = None\n",
    "        self.life_square_q_025 = None\n",
    "        self.life_square_median = None\n",
    "        self.kitchen_square_q_950 = None\n",
    "        self.kitchen_square_median = None\n",
    "        self.floor_q_975 = None\n",
    "        self.floor_q_025 = None\n",
    "        self.floor_mode = None\n",
    "        self.house_floor_q_975 = None\n",
    "        self.house_floor_q_025 = None\n",
    "        self.house_floor_mode = None\n",
    "        self.house_year_025 = None\n",
    "        self.house_year_mode = None\n",
    "        self.eco_1_q_975 = None \n",
    "        self.eco_1_q_025 = None\n",
    "        self.eco_1_median = None\n",
    "        self.social_3_median = None\n",
    "        self.healthcare_2_mode = None\n",
    "        self.healthcare_2_q_975 = None\n",
    "        self.shops_1_mode = None\n",
    "        self.shops_1_q_975 = None\n",
    "        self.social_2_median = None\n",
    "        \n",
    "    def fit(self, df):\n",
    "        \"\"\"Сохранение статистик\"\"\"\n",
    "        \n",
    "        # Расчет показателей для предварительной обработки неадекватных данных\n",
    "        self.kitchen_to_square = df['KitchenSquare'].median() / df['Square'].median()\n",
    "        self.life_to_square = df['LifeSquare'].median() / df['Square'].median()\n",
    "        \n",
    "        # Расчет квантилей\n",
    "        self.square_q_950 = np.quantile(df['Square'], q=0.95)\n",
    "        self.square_q_025 = np.quantile(df['Square'], q=0.025)\n",
    "        self.life_square_q_950 = np.quantile(df['LifeSquare'], q=0.95)\n",
    "        self.life_square_q_025 = np.quantile(df['LifeSquare'], q=0.025)\n",
    "        self.kitchen_square_q_950 = np.quantile(df['KitchenSquare'], q=0.95)\n",
    "        self.floor_q_975 = np.quantile(df['Floor'], q=0.975)\n",
    "        self.floor_q_025 = np.quantile(df['Floor'], q=0.025)\n",
    "        self.house_floor_q_975 = np.quantile(df['HouseFloor'], q=0.975)\n",
    "        self.house_floor_q_025 = np.quantile(df['HouseFloor'], q=0.025)\n",
    "        self.house_year_025 = np.quantile(df['HouseYear'],q=0.025)\n",
    "        self.eco_1_q_975 = np.quantile(df['Ecology_1'], q=0.975)\n",
    "        self.eco_1_q_025 = np.quantile(df['Ecology_1'], q=0.025)\n",
    "        self.healthcare_2_q_975 = np.quantile(df['Helthcare_2'],q=0.975)\n",
    "        self.shops_1_q_975 = np.quantile(df['Shops_1'],q=0.975) \n",
    "        \n",
    "        # Расчет медиан и мод\n",
    "        self.Rooms_mode = df['Rooms'].mode()\n",
    "        self.life_square_median = df['LifeSquare'].median()\n",
    "        self.kitchen_square_median = df['KitchenSquare'].median()\n",
    "        self.square_median = df['Square'].median()\n",
    "        self.floor_mode = df['Floor'].mode()[0]\n",
    "        self.house_floor_mode = df['HouseFloor'].mode()[0]\n",
    "        self.house_year_mode = df['HouseYear'].mode()[0]\n",
    "        self.eco_1_median = df['Ecology_1'].median()\n",
    "        self.social_3_median = df['Social_3'].median()\n",
    "        self.healthcare_2_mode = df['Helthcare_2'].mode()[0]\n",
    "        self.shops_1_mode = df['Shops_1'].mode()[0]\n",
    "        self.social_2_median = df['Social_2'].median()\n",
    "        \n",
    "    def transform(self, df):\n",
    "        \"\"\"Трансформация данных\"\"\"\n",
    "        \n",
    "        # 0. Предварительная обработка неадекватных данных\n",
    "        df.loc[(df['KitchenSquare']>df['Square']),'KitchenSquare'] = df.loc[(df['KitchenSquare']>df['Square']),'Square'] * kitchen_to_square\n",
    "        df.loc[(df['LifeSquare']>df['Square']),'LifeSquare'] = df.loc[(df['LifeSquare']>df['Square']),'Square'] * life_to_square\n",
    "        df.loc[df['HouseFloor']==0,'HouseFloor'] = df.loc[df['HouseFloor']==0,'Floor']\n",
    "        df.loc[df['Floor']>df['HouseFloor'],'HouseFloor'] = df.loc[df['Floor']>df['HouseFloor'],'Floor']\n",
    "        \n",
    "        # 1. Пропуски\n",
    "        df.loc[df['LifeSquare'].isnull()==True,'LifeSquare'] = df.loc[df['LifeSquare'].isnull()==True,'Square'] * life_to_square\n",
    "        \n",
    "        # 2. Выбросы (outliers)\n",
    "        df.loc[(df['Rooms'] < 1)|(df['Rooms']>5),'Rooms'] = Rooms_mode\n",
    "        df.loc[(df['LifeSquare']>life_square_q_950)|(df['LifeSquare']<life_square_q_025),'LifeSquare'] = life_square_median\n",
    "        df.loc[(df['KitchenSquare']>kitchen_square_q_950)|(df['KitchenSquare']<1),'KitchenSquare'] = kitchen_square_median\n",
    "        df.loc[(df['Floor']>floor_q_975)|(df['Floor']<floor_q_025),'Floor'] = floor_mode\n",
    "        df.loc[(df['HouseFloor']>house_floor_q_975)|(df['HouseFloor']<house_floor_q_025),'HouseFloor'] = house_floor_mode\n",
    "        df.loc[df['HouseYear']<house_year_025,'HouseYear'] = house_year_mode\n",
    "        df.loc[(df['Ecology_1']>eco_1_q_975)|(df['Ecology_1']<eco_1_q_025),'Ecology_1'] = eco_1_median\n",
    "        df.loc[df['Social_3']>7,'Social_3'] = social_3_median\n",
    "        df.loc[df.Helthcare_2>healthcare_2_q_975,'Helthcare_2'] = healthcare_2_mode\n",
    "        df.loc[df['Social_2']>15000,'Social_2'] = social_2_median\n",
    "        \n",
    "        # 3. Новые фичи (features)\n",
    "        df.rename(columns={'Price':'Price_per_square'}, inplace=True)\n",
    "\n",
    "        df['Room_size'] = df['Square']//df['Rooms'] #средний размер комнаты\n",
    "        \n",
    "        return df\n"
   ]
  },
  {
   "cell_type": "code",
   "execution_count": 2056,
   "id": "8b846ea9",
   "metadata": {},
   "outputs": [
    {
     "data": {
      "text/html": [
       "<div>\n",
       "<style scoped>\n",
       "    .dataframe tbody tr th:only-of-type {\n",
       "        vertical-align: middle;\n",
       "    }\n",
       "\n",
       "    .dataframe tbody tr th {\n",
       "        vertical-align: top;\n",
       "    }\n",
       "\n",
       "    .dataframe thead th {\n",
       "        text-align: right;\n",
       "    }\n",
       "</style>\n",
       "<table border=\"1\" class=\"dataframe\">\n",
       "  <thead>\n",
       "    <tr style=\"text-align: right;\">\n",
       "      <th></th>\n",
       "      <th>Rooms</th>\n",
       "      <th>Square</th>\n",
       "      <th>LifeSquare</th>\n",
       "      <th>KitchenSquare</th>\n",
       "      <th>Floor</th>\n",
       "      <th>HouseFloor</th>\n",
       "      <th>HouseYear</th>\n",
       "      <th>Ecology_1</th>\n",
       "      <th>Social_1</th>\n",
       "      <th>Social_2</th>\n",
       "      <th>Social_3</th>\n",
       "      <th>Helthcare_2</th>\n",
       "      <th>Shops_1</th>\n",
       "      <th>Price_per_square</th>\n",
       "      <th>Room_size</th>\n",
       "    </tr>\n",
       "  </thead>\n",
       "  <tbody>\n",
       "    <tr>\n",
       "      <th>0</th>\n",
       "      <td>3.0</td>\n",
       "      <td>52.50000</td>\n",
       "      <td>32.781250</td>\n",
       "      <td>10.0</td>\n",
       "      <td>4</td>\n",
       "      <td>10.0</td>\n",
       "      <td>2014</td>\n",
       "      <td>0.075439</td>\n",
       "      <td>11</td>\n",
       "      <td>3097</td>\n",
       "      <td>0</td>\n",
       "      <td>0</td>\n",
       "      <td>0</td>\n",
       "      <td>5809.0</td>\n",
       "      <td>17.0</td>\n",
       "    </tr>\n",
       "    <tr>\n",
       "      <th>1</th>\n",
       "      <td>1.0</td>\n",
       "      <td>39.84375</td>\n",
       "      <td>23.171875</td>\n",
       "      <td>8.0</td>\n",
       "      <td>7</td>\n",
       "      <td>8.0</td>\n",
       "      <td>1966</td>\n",
       "      <td>0.118530</td>\n",
       "      <td>30</td>\n",
       "      <td>6207</td>\n",
       "      <td>1</td>\n",
       "      <td>1</td>\n",
       "      <td>0</td>\n",
       "      <td>4460.0</td>\n",
       "      <td>39.0</td>\n",
       "    </tr>\n",
       "    <tr>\n",
       "      <th>2</th>\n",
       "      <td>3.0</td>\n",
       "      <td>78.31250</td>\n",
       "      <td>47.687500</td>\n",
       "      <td>10.0</td>\n",
       "      <td>2</td>\n",
       "      <td>17.0</td>\n",
       "      <td>1988</td>\n",
       "      <td>0.025604</td>\n",
       "      <td>33</td>\n",
       "      <td>5261</td>\n",
       "      <td>0</td>\n",
       "      <td>3</td>\n",
       "      <td>1</td>\n",
       "      <td>3601.0</td>\n",
       "      <td>26.0</td>\n",
       "    </tr>\n",
       "    <tr>\n",
       "      <th>3</th>\n",
       "      <td>1.0</td>\n",
       "      <td>40.40625</td>\n",
       "      <td>25.234375</td>\n",
       "      <td>1.0</td>\n",
       "      <td>10</td>\n",
       "      <td>22.0</td>\n",
       "      <td>1977</td>\n",
       "      <td>0.007122</td>\n",
       "      <td>1</td>\n",
       "      <td>264</td>\n",
       "      <td>0</td>\n",
       "      <td>0</td>\n",
       "      <td>1</td>\n",
       "      <td>4160.0</td>\n",
       "      <td>40.0</td>\n",
       "    </tr>\n",
       "    <tr>\n",
       "      <th>4</th>\n",
       "      <td>2.0</td>\n",
       "      <td>64.31250</td>\n",
       "      <td>38.562500</td>\n",
       "      <td>9.0</td>\n",
       "      <td>16</td>\n",
       "      <td>16.0</td>\n",
       "      <td>1972</td>\n",
       "      <td>0.282715</td>\n",
       "      <td>33</td>\n",
       "      <td>8667</td>\n",
       "      <td>2</td>\n",
       "      <td>0</td>\n",
       "      <td>0</td>\n",
       "      <td>5348.0</td>\n",
       "      <td>32.0</td>\n",
       "    </tr>\n",
       "    <tr>\n",
       "      <th>...</th>\n",
       "      <td>...</td>\n",
       "      <td>...</td>\n",
       "      <td>...</td>\n",
       "      <td>...</td>\n",
       "      <td>...</td>\n",
       "      <td>...</td>\n",
       "      <td>...</td>\n",
       "      <td>...</td>\n",
       "      <td>...</td>\n",
       "      <td>...</td>\n",
       "      <td>...</td>\n",
       "      <td>...</td>\n",
       "      <td>...</td>\n",
       "      <td>...</td>\n",
       "      <td>...</td>\n",
       "    </tr>\n",
       "    <tr>\n",
       "      <th>9995</th>\n",
       "      <td>2.0</td>\n",
       "      <td>49.09375</td>\n",
       "      <td>33.281250</td>\n",
       "      <td>6.0</td>\n",
       "      <td>3</td>\n",
       "      <td>12.0</td>\n",
       "      <td>1981</td>\n",
       "      <td>0.300293</td>\n",
       "      <td>52</td>\n",
       "      <td>10311</td>\n",
       "      <td>6</td>\n",
       "      <td>1</td>\n",
       "      <td>0</td>\n",
       "      <td>2431.0</td>\n",
       "      <td>24.0</td>\n",
       "    </tr>\n",
       "    <tr>\n",
       "      <th>9996</th>\n",
       "      <td>2.0</td>\n",
       "      <td>64.31250</td>\n",
       "      <td>37.031250</td>\n",
       "      <td>9.0</td>\n",
       "      <td>13</td>\n",
       "      <td>13.0</td>\n",
       "      <td>1977</td>\n",
       "      <td>0.072144</td>\n",
       "      <td>2</td>\n",
       "      <td>629</td>\n",
       "      <td>1</td>\n",
       "      <td>0</td>\n",
       "      <td>0</td>\n",
       "      <td>3105.0</td>\n",
       "      <td>32.0</td>\n",
       "    </tr>\n",
       "    <tr>\n",
       "      <th>9997</th>\n",
       "      <td>1.0</td>\n",
       "      <td>52.50000</td>\n",
       "      <td>16.562500</td>\n",
       "      <td>5.0</td>\n",
       "      <td>3</td>\n",
       "      <td>5.0</td>\n",
       "      <td>1977</td>\n",
       "      <td>0.075439</td>\n",
       "      <td>20</td>\n",
       "      <td>4386</td>\n",
       "      <td>2</td>\n",
       "      <td>1</td>\n",
       "      <td>5</td>\n",
       "      <td>3161.0</td>\n",
       "      <td>52.0</td>\n",
       "    </tr>\n",
       "    <tr>\n",
       "      <th>9998</th>\n",
       "      <td>1.0</td>\n",
       "      <td>32.34375</td>\n",
       "      <td>22.328125</td>\n",
       "      <td>5.0</td>\n",
       "      <td>3</td>\n",
       "      <td>9.0</td>\n",
       "      <td>1969</td>\n",
       "      <td>0.194458</td>\n",
       "      <td>47</td>\n",
       "      <td>8004</td>\n",
       "      <td>3</td>\n",
       "      <td>3</td>\n",
       "      <td>5</td>\n",
       "      <td>5313.0</td>\n",
       "      <td>32.0</td>\n",
       "    </tr>\n",
       "    <tr>\n",
       "      <th>9999</th>\n",
       "      <td>1.0</td>\n",
       "      <td>35.81250</td>\n",
       "      <td>22.296875</td>\n",
       "      <td>6.0</td>\n",
       "      <td>9</td>\n",
       "      <td>9.0</td>\n",
       "      <td>1975</td>\n",
       "      <td>0.127319</td>\n",
       "      <td>43</td>\n",
       "      <td>8429</td>\n",
       "      <td>3</td>\n",
       "      <td>3</td>\n",
       "      <td>0</td>\n",
       "      <td>4961.0</td>\n",
       "      <td>35.0</td>\n",
       "    </tr>\n",
       "  </tbody>\n",
       "</table>\n",
       "<p>10000 rows × 15 columns</p>\n",
       "</div>"
      ],
      "text/plain": [
       "      Rooms    Square  LifeSquare  KitchenSquare  Floor  HouseFloor  \\\n",
       "0       3.0  52.50000   32.781250           10.0      4        10.0   \n",
       "1       1.0  39.84375   23.171875            8.0      7         8.0   \n",
       "2       3.0  78.31250   47.687500           10.0      2        17.0   \n",
       "3       1.0  40.40625   25.234375            1.0     10        22.0   \n",
       "4       2.0  64.31250   38.562500            9.0     16        16.0   \n",
       "...     ...       ...         ...            ...    ...         ...   \n",
       "9995    2.0  49.09375   33.281250            6.0      3        12.0   \n",
       "9996    2.0  64.31250   37.031250            9.0     13        13.0   \n",
       "9997    1.0  52.50000   16.562500            5.0      3         5.0   \n",
       "9998    1.0  32.34375   22.328125            5.0      3         9.0   \n",
       "9999    1.0  35.81250   22.296875            6.0      9         9.0   \n",
       "\n",
       "      HouseYear  Ecology_1  Social_1  Social_2  Social_3  Helthcare_2  \\\n",
       "0          2014   0.075439        11      3097         0            0   \n",
       "1          1966   0.118530        30      6207         1            1   \n",
       "2          1988   0.025604        33      5261         0            3   \n",
       "3          1977   0.007122         1       264         0            0   \n",
       "4          1972   0.282715        33      8667         2            0   \n",
       "...         ...        ...       ...       ...       ...          ...   \n",
       "9995       1981   0.300293        52     10311         6            1   \n",
       "9996       1977   0.072144         2       629         1            0   \n",
       "9997       1977   0.075439        20      4386         2            1   \n",
       "9998       1969   0.194458        47      8004         3            3   \n",
       "9999       1975   0.127319        43      8429         3            3   \n",
       "\n",
       "      Shops_1  Price_per_square  Room_size  \n",
       "0           0            5809.0       17.0  \n",
       "1           0            4460.0       39.0  \n",
       "2           1            3601.0       26.0  \n",
       "3           1            4160.0       40.0  \n",
       "4           0            5348.0       32.0  \n",
       "...       ...               ...        ...  \n",
       "9995        0            2431.0       24.0  \n",
       "9996        0            3105.0       32.0  \n",
       "9997        5            3161.0       52.0  \n",
       "9998        5            5313.0       32.0  \n",
       "9999        0            4961.0       35.0  \n",
       "\n",
       "[10000 rows x 15 columns]"
      ]
     },
     "execution_count": 2056,
     "metadata": {},
     "output_type": "execute_result"
    }
   ],
   "source": [
    "train_data"
   ]
  },
  {
   "cell_type": "markdown",
   "id": "f57e8939",
   "metadata": {},
   "source": [
    "## Обучение модели"
   ]
  },
  {
   "cell_type": "code",
   "execution_count": 2057,
   "id": "cbeac26c",
   "metadata": {},
   "outputs": [],
   "source": [
    "from sklearn.metrics import r2_score as r2, mean_squared_error as mse, roc_auc_score as roc, SCORERS as SCORERS\n",
    "from sklearn.model_selection import GridSearchCV, train_test_split, KFold\n",
    "from sklearn.ensemble import RandomForestRegressor, GradientBoostingRegressor\n",
    "from sklearn.tree import DecisionTreeRegressor"
   ]
  },
  {
   "cell_type": "code",
   "execution_count": 2058,
   "id": "0e611ade",
   "metadata": {},
   "outputs": [],
   "source": [
    "X = train_data.drop(['Price_per_square'],axis=1)\n",
    "y = pd.DataFrame(train_data['Price_per_square']).copy()"
   ]
  },
  {
   "cell_type": "code",
   "execution_count": 2059,
   "id": "bbd192f5",
   "metadata": {},
   "outputs": [],
   "source": [
    "X_train,X_valid,y_train,y_valid = train_test_split(X,y,test_size=0.33,random_state=42, shuffle=True)"
   ]
  },
  {
   "cell_type": "code",
   "execution_count": 2060,
   "id": "415551be",
   "metadata": {},
   "outputs": [],
   "source": [
    "# model = GradientBoostingRegressor(criterion='r2',\n",
    "#                           min_samples_leaf=5,\n",
    "#                           random_state=42)"
   ]
  },
  {
   "cell_type": "code",
   "execution_count": 2061,
   "id": "f2d5264b",
   "metadata": {},
   "outputs": [],
   "source": [
    "# %%time\n",
    "# params = {'n_estimators':[300, 400,500,600], \n",
    "#           'max_depth':[2,3,4]}\n",
    "\n",
    "# gs = GridSearchCV(model, params, \n",
    "#                   scoring='r2',cv=KFold(n_splits=5,random_state=21, shuffle=True),n_jobs=-1)\n",
    "# gs.fit(X_train, y_train)"
   ]
  },
  {
   "cell_type": "markdown",
   "id": "88bce395",
   "metadata": {},
   "source": [
    "**Оптимальные параметры:**"
   ]
  },
  {
   "cell_type": "code",
   "execution_count": 2062,
   "id": "50385102",
   "metadata": {},
   "outputs": [],
   "source": [
    "#gs.best_score_ 0.6376140523624698"
   ]
  },
  {
   "cell_type": "code",
   "execution_count": 2063,
   "id": "d7c12bfd",
   "metadata": {},
   "outputs": [],
   "source": [
    "#gs.best_params_ #{'max_depth': 3, 'n_estimators': 500}"
   ]
  },
  {
   "cell_type": "code",
   "execution_count": 2064,
   "id": "0fedc5c1",
   "metadata": {},
   "outputs": [
    {
     "data": {
      "text/plain": [
       "GradientBoostingRegressor(criterion='mse', min_samples_leaf=5, n_estimators=500,\n",
       "                          random_state=42)"
      ]
     },
     "execution_count": 2064,
     "metadata": {},
     "output_type": "execute_result"
    }
   ],
   "source": [
    "model = GradientBoostingRegressor(criterion='mse',\n",
    "                          min_samples_leaf=5,\n",
    "                          random_state=42, n_estimators=500, max_depth=3)\n",
    "model.fit(X_train,y_train)"
   ]
  },
  {
   "cell_type": "code",
   "execution_count": 2065,
   "id": "ece72add",
   "metadata": {},
   "outputs": [],
   "source": [
    "y_pred_train = model.predict(X_train)\n",
    "y_pred_valid = model.predict(X_valid)"
   ]
  },
  {
   "cell_type": "markdown",
   "id": "06dd5a1e",
   "metadata": {},
   "source": [
    "***Оценка переобучения***"
   ]
  },
  {
   "cell_type": "code",
   "execution_count": 2066,
   "id": "7bd0da8a",
   "metadata": {},
   "outputs": [
    {
     "data": {
      "text/plain": [
       "0.7749283921017802"
      ]
     },
     "execution_count": 2066,
     "metadata": {},
     "output_type": "execute_result"
    }
   ],
   "source": [
    "r2(y_train,y_pred_train)"
   ]
  },
  {
   "cell_type": "code",
   "execution_count": 2067,
   "id": "6d611115",
   "metadata": {},
   "outputs": [
    {
     "data": {
      "text/plain": [
       "0.6186809385985887"
      ]
     },
     "execution_count": 2067,
     "metadata": {},
     "output_type": "execute_result"
    }
   ],
   "source": [
    "r2(y_valid,y_pred_valid)"
   ]
  },
  {
   "cell_type": "markdown",
   "id": "c05d984a",
   "metadata": {},
   "source": [
    "### Обучение на всем train"
   ]
  },
  {
   "cell_type": "markdown",
   "id": "17f0cf13",
   "metadata": {},
   "source": [
    "*Предварительная обработка тест_датасета:"
   ]
  },
  {
   "cell_type": "code",
   "execution_count": 2068,
   "id": "068538c7",
   "metadata": {},
   "outputs": [],
   "source": [
    "test_data.drop(['Ecology_2','Ecology_3', 'Healthcare_1','Id','DistrictId','Shops_2'], axis=1,inplace=True)"
   ]
  },
  {
   "cell_type": "code",
   "execution_count": 2069,
   "id": "6856350b",
   "metadata": {},
   "outputs": [],
   "source": [
    "test_data['Room_size'] = train_data['Square']//train_data['Rooms']"
   ]
  },
  {
   "cell_type": "code",
   "execution_count": 2070,
   "id": "305f0a9c",
   "metadata": {},
   "outputs": [
    {
     "data": {
      "text/plain": [
       "2      NaN\n",
       "4      NaN\n",
       "11     NaN\n",
       "13     NaN\n",
       "14     NaN\n",
       "        ..\n",
       "4985   NaN\n",
       "4986   NaN\n",
       "4988   NaN\n",
       "4989   NaN\n",
       "4993   NaN\n",
       "Name: LifeSquare, Length: 1041, dtype: float64"
      ]
     },
     "execution_count": 2070,
     "metadata": {},
     "output_type": "execute_result"
    }
   ],
   "source": [
    "test_data.loc[test_data['LifeSquare'].isnull()==True,'LifeSquare']"
   ]
  },
  {
   "cell_type": "code",
   "execution_count": 2071,
   "id": "baa43c25",
   "metadata": {},
   "outputs": [],
   "source": [
    "test_data.loc[test_data['LifeSquare'].isnull()==True,'LifeSquare'] = life_square_median"
   ]
  },
  {
   "cell_type": "code",
   "execution_count": 2072,
   "id": "f55554bb",
   "metadata": {},
   "outputs": [
    {
     "data": {
      "text/html": [
       "<div>\n",
       "<style scoped>\n",
       "    .dataframe tbody tr th:only-of-type {\n",
       "        vertical-align: middle;\n",
       "    }\n",
       "\n",
       "    .dataframe tbody tr th {\n",
       "        vertical-align: top;\n",
       "    }\n",
       "\n",
       "    .dataframe thead th {\n",
       "        text-align: right;\n",
       "    }\n",
       "</style>\n",
       "<table border=\"1\" class=\"dataframe\">\n",
       "  <thead>\n",
       "    <tr style=\"text-align: right;\">\n",
       "      <th></th>\n",
       "      <th>Rooms</th>\n",
       "      <th>Square</th>\n",
       "      <th>LifeSquare</th>\n",
       "      <th>KitchenSquare</th>\n",
       "      <th>Floor</th>\n",
       "      <th>HouseFloor</th>\n",
       "      <th>HouseYear</th>\n",
       "      <th>Ecology_1</th>\n",
       "      <th>Social_1</th>\n",
       "      <th>Social_2</th>\n",
       "      <th>Social_3</th>\n",
       "      <th>Helthcare_2</th>\n",
       "      <th>Shops_1</th>\n",
       "      <th>Room_size</th>\n",
       "    </tr>\n",
       "  </thead>\n",
       "  <tbody>\n",
       "    <tr>\n",
       "      <th>0</th>\n",
       "      <td>1.0</td>\n",
       "      <td>36.847630</td>\n",
       "      <td>19.094182</td>\n",
       "      <td>5.0</td>\n",
       "      <td>5</td>\n",
       "      <td>9.0</td>\n",
       "      <td>1970</td>\n",
       "      <td>0.036122</td>\n",
       "      <td>24</td>\n",
       "      <td>4378</td>\n",
       "      <td>0</td>\n",
       "      <td>1</td>\n",
       "      <td>1</td>\n",
       "      <td>17.0</td>\n",
       "    </tr>\n",
       "    <tr>\n",
       "      <th>1</th>\n",
       "      <td>1.0</td>\n",
       "      <td>42.493907</td>\n",
       "      <td>42.568133</td>\n",
       "      <td>10.0</td>\n",
       "      <td>7</td>\n",
       "      <td>17.0</td>\n",
       "      <td>2017</td>\n",
       "      <td>0.072158</td>\n",
       "      <td>2</td>\n",
       "      <td>629</td>\n",
       "      <td>1</td>\n",
       "      <td>0</td>\n",
       "      <td>0</td>\n",
       "      <td>39.0</td>\n",
       "    </tr>\n",
       "    <tr>\n",
       "      <th>2</th>\n",
       "      <td>2.0</td>\n",
       "      <td>59.463678</td>\n",
       "      <td>32.781250</td>\n",
       "      <td>9.0</td>\n",
       "      <td>19</td>\n",
       "      <td>19.0</td>\n",
       "      <td>1977</td>\n",
       "      <td>0.211401</td>\n",
       "      <td>9</td>\n",
       "      <td>1892</td>\n",
       "      <td>0</td>\n",
       "      <td>0</td>\n",
       "      <td>1</td>\n",
       "      <td>26.0</td>\n",
       "    </tr>\n",
       "    <tr>\n",
       "      <th>3</th>\n",
       "      <td>3.0</td>\n",
       "      <td>49.646030</td>\n",
       "      <td>33.893825</td>\n",
       "      <td>6.0</td>\n",
       "      <td>2</td>\n",
       "      <td>2.0</td>\n",
       "      <td>1965</td>\n",
       "      <td>0.014073</td>\n",
       "      <td>2</td>\n",
       "      <td>475</td>\n",
       "      <td>0</td>\n",
       "      <td>0</td>\n",
       "      <td>0</td>\n",
       "      <td>40.0</td>\n",
       "    </tr>\n",
       "    <tr>\n",
       "      <th>4</th>\n",
       "      <td>1.0</td>\n",
       "      <td>53.837056</td>\n",
       "      <td>32.781250</td>\n",
       "      <td>1.0</td>\n",
       "      <td>8</td>\n",
       "      <td>17.0</td>\n",
       "      <td>1977</td>\n",
       "      <td>0.309479</td>\n",
       "      <td>35</td>\n",
       "      <td>7715</td>\n",
       "      <td>4</td>\n",
       "      <td>0</td>\n",
       "      <td>6</td>\n",
       "      <td>32.0</td>\n",
       "    </tr>\n",
       "    <tr>\n",
       "      <th>...</th>\n",
       "      <td>...</td>\n",
       "      <td>...</td>\n",
       "      <td>...</td>\n",
       "      <td>...</td>\n",
       "      <td>...</td>\n",
       "      <td>...</td>\n",
       "      <td>...</td>\n",
       "      <td>...</td>\n",
       "      <td>...</td>\n",
       "      <td>...</td>\n",
       "      <td>...</td>\n",
       "      <td>...</td>\n",
       "      <td>...</td>\n",
       "      <td>...</td>\n",
       "    </tr>\n",
       "    <tr>\n",
       "      <th>4995</th>\n",
       "      <td>2.0</td>\n",
       "      <td>43.177521</td>\n",
       "      <td>30.339945</td>\n",
       "      <td>5.0</td>\n",
       "      <td>6</td>\n",
       "      <td>5.0</td>\n",
       "      <td>1962</td>\n",
       "      <td>0.069660</td>\n",
       "      <td>31</td>\n",
       "      <td>6119</td>\n",
       "      <td>4</td>\n",
       "      <td>1</td>\n",
       "      <td>2</td>\n",
       "      <td>45.0</td>\n",
       "    </tr>\n",
       "    <tr>\n",
       "      <th>4996</th>\n",
       "      <td>3.0</td>\n",
       "      <td>93.698122</td>\n",
       "      <td>94.521465</td>\n",
       "      <td>10.0</td>\n",
       "      <td>21</td>\n",
       "      <td>27.0</td>\n",
       "      <td>2018</td>\n",
       "      <td>0.060753</td>\n",
       "      <td>15</td>\n",
       "      <td>2787</td>\n",
       "      <td>2</td>\n",
       "      <td>0</td>\n",
       "      <td>7</td>\n",
       "      <td>17.0</td>\n",
       "    </tr>\n",
       "    <tr>\n",
       "      <th>4997</th>\n",
       "      <td>1.0</td>\n",
       "      <td>33.656723</td>\n",
       "      <td>19.003259</td>\n",
       "      <td>5.0</td>\n",
       "      <td>2</td>\n",
       "      <td>5.0</td>\n",
       "      <td>1966</td>\n",
       "      <td>0.038693</td>\n",
       "      <td>28</td>\n",
       "      <td>6533</td>\n",
       "      <td>1</td>\n",
       "      <td>2</td>\n",
       "      <td>5</td>\n",
       "      <td>28.0</td>\n",
       "    </tr>\n",
       "    <tr>\n",
       "      <th>4998</th>\n",
       "      <td>1.0</td>\n",
       "      <td>38.635155</td>\n",
       "      <td>20.976257</td>\n",
       "      <td>9.0</td>\n",
       "      <td>8</td>\n",
       "      <td>14.0</td>\n",
       "      <td>1970</td>\n",
       "      <td>0.089040</td>\n",
       "      <td>33</td>\n",
       "      <td>7976</td>\n",
       "      <td>5</td>\n",
       "      <td>0</td>\n",
       "      <td>11</td>\n",
       "      <td>20.0</td>\n",
       "    </tr>\n",
       "    <tr>\n",
       "      <th>4999</th>\n",
       "      <td>2.0</td>\n",
       "      <td>67.122742</td>\n",
       "      <td>33.944344</td>\n",
       "      <td>13.0</td>\n",
       "      <td>9</td>\n",
       "      <td>17.0</td>\n",
       "      <td>2009</td>\n",
       "      <td>0.194489</td>\n",
       "      <td>47</td>\n",
       "      <td>8004</td>\n",
       "      <td>3</td>\n",
       "      <td>3</td>\n",
       "      <td>5</td>\n",
       "      <td>26.0</td>\n",
       "    </tr>\n",
       "  </tbody>\n",
       "</table>\n",
       "<p>5000 rows × 14 columns</p>\n",
       "</div>"
      ],
      "text/plain": [
       "      Rooms     Square  LifeSquare  KitchenSquare  Floor  HouseFloor  \\\n",
       "0       1.0  36.847630   19.094182            5.0      5         9.0   \n",
       "1       1.0  42.493907   42.568133           10.0      7        17.0   \n",
       "2       2.0  59.463678   32.781250            9.0     19        19.0   \n",
       "3       3.0  49.646030   33.893825            6.0      2         2.0   \n",
       "4       1.0  53.837056   32.781250            1.0      8        17.0   \n",
       "...     ...        ...         ...            ...    ...         ...   \n",
       "4995    2.0  43.177521   30.339945            5.0      6         5.0   \n",
       "4996    3.0  93.698122   94.521465           10.0     21        27.0   \n",
       "4997    1.0  33.656723   19.003259            5.0      2         5.0   \n",
       "4998    1.0  38.635155   20.976257            9.0      8        14.0   \n",
       "4999    2.0  67.122742   33.944344           13.0      9        17.0   \n",
       "\n",
       "      HouseYear  Ecology_1  Social_1  Social_2  Social_3  Helthcare_2  \\\n",
       "0          1970   0.036122        24      4378         0            1   \n",
       "1          2017   0.072158         2       629         1            0   \n",
       "2          1977   0.211401         9      1892         0            0   \n",
       "3          1965   0.014073         2       475         0            0   \n",
       "4          1977   0.309479        35      7715         4            0   \n",
       "...         ...        ...       ...       ...       ...          ...   \n",
       "4995       1962   0.069660        31      6119         4            1   \n",
       "4996       2018   0.060753        15      2787         2            0   \n",
       "4997       1966   0.038693        28      6533         1            2   \n",
       "4998       1970   0.089040        33      7976         5            0   \n",
       "4999       2009   0.194489        47      8004         3            3   \n",
       "\n",
       "      Shops_1  Room_size  \n",
       "0           1       17.0  \n",
       "1           0       39.0  \n",
       "2           1       26.0  \n",
       "3           0       40.0  \n",
       "4           6       32.0  \n",
       "...       ...        ...  \n",
       "4995        2       45.0  \n",
       "4996        7       17.0  \n",
       "4997        5       28.0  \n",
       "4998       11       20.0  \n",
       "4999        5       26.0  \n",
       "\n",
       "[5000 rows x 14 columns]"
      ]
     },
     "execution_count": 2072,
     "metadata": {},
     "output_type": "execute_result"
    }
   ],
   "source": [
    "test_data"
   ]
  },
  {
   "cell_type": "code",
   "execution_count": 2073,
   "id": "d63af5b0",
   "metadata": {},
   "outputs": [
    {
     "data": {
      "text/plain": [
       "GradientBoostingRegressor(criterion='mse', min_samples_leaf=5, n_estimators=500,\n",
       "                          random_state=42)"
      ]
     },
     "execution_count": 2073,
     "metadata": {},
     "output_type": "execute_result"
    }
   ],
   "source": [
    "model.fit(X,y)"
   ]
  },
  {
   "cell_type": "code",
   "execution_count": 2077,
   "id": "1bd53cfe",
   "metadata": {},
   "outputs": [],
   "source": [
    "final_predict = pd.DataFrame(model.predict(test_data), columns=['Price_per_square'])"
   ]
  },
  {
   "cell_type": "code",
   "execution_count": 2079,
   "id": "9911f3ef",
   "metadata": {},
   "outputs": [],
   "source": [
    "final_predict.to_csv('Aliev_prediction.csv')"
   ]
  }
 ],
 "metadata": {
  "kernelspec": {
   "display_name": "Python 3 (ipykernel)",
   "language": "python",
   "name": "python3"
  },
  "language_info": {
   "codemirror_mode": {
    "name": "ipython",
    "version": 3
   },
   "file_extension": ".py",
   "mimetype": "text/x-python",
   "name": "python",
   "nbconvert_exporter": "python",
   "pygments_lexer": "ipython3",
   "version": "3.9.7"
  }
 },
 "nbformat": 4,
 "nbformat_minor": 5
}
